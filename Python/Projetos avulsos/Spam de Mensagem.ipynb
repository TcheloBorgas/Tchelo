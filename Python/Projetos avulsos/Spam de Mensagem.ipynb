{
 "cells": [
  {
   "cell_type": "code",
   "execution_count": 2,
   "metadata": {},
   "outputs": [
    {
     "name": "stderr",
     "output_type": "stream",
     "text": [
      "\n",
      "KeyboardInterrupt\n",
      "\n"
     ]
    }
   ],
   "source": [
    "#━━━━━━━━━❮Bibliotecas❯━━━━━━━━━\n",
    "import pyautogui\n",
    "import pyperclip\n",
    "import time\n",
    "#━━━━━━━━━❮◆❯━━━━━━━━━\n",
    "\n",
    "#código com tamanhos do monito philips\n",
    "alvo =input('Digite o nome do preto: ')\n",
    "msg =input('Digite o texto da mensagem: ')\n",
    "#contagem =input('Digite a quantidade de vezes do spam: ')\n",
    "\n",
    "\n",
    "cont =0\n",
    "time.sleep(2)\n",
    "\n",
    "\n",
    "while cont <50:\n",
    "    time.sleep(1)\n",
    "    pyautogui.click(x=281, y=189)\n",
    "    pyautogui.typewrite(alvo)\n",
    "\n",
    "    time.sleep(0.5)\n",
    "    pyautogui.click(x=175, y=321)\n",
    "    \n",
    "    time.sleep(0.5)\n",
    "    pyautogui.click(x=609, y=690)\n",
    "    pyautogui.typewrite(msg)\n",
    "\n",
    "\n",
    "    pyautogui.click(x=1324, y=683)\n",
    "    cont +=1\n",
    "\n",
    "\n",
    "\n",
    "#time.sleep(5)\n",
    "#print(pyautogui.position())"
   ]
  }
 ],
 "metadata": {
  "kernelspec": {
   "display_name": "Python 3.9.12 64-bit ('Anaconda')",
   "language": "python",
   "name": "python3"
  },
  "language_info": {
   "codemirror_mode": {
    "name": "ipython",
    "version": 3
   },
   "file_extension": ".py",
   "mimetype": "text/x-python",
   "name": "python",
   "nbconvert_exporter": "python",
   "pygments_lexer": "ipython3",
   "version": "3.9.12"
  },
  "orig_nbformat": 4,
  "vscode": {
   "interpreter": {
    "hash": "c9b11055aabbe5831bceda66bd7c90480ec32ff2ac7d8efcaa134baa16fe25e4"
   }
  }
 },
 "nbformat": 4,
 "nbformat_minor": 2
}
