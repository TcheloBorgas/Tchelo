{
  "cells": [
    {
      "cell_type": "code",
      "source": [
        "#━━━━━━━━━❮Bibliotecas❯━━━━━━━━━\n",
        "from google.colab import output\n",
        "#━━━━━━━━━━━━━━❮◆❯━━━━━━━━━━━━━━"
      ],
      "metadata": {
        "id": "NKmE-nUugRIW"
      },
      "execution_count": 1,
      "outputs": []
    },
    {
      "cell_type": "code",
      "execution_count": 2,
      "metadata": {
        "id": "LfkMmUe9U1dV"
      },
      "outputs": [],
      "source": [
        "def menu():\n",
        "  opcaoValida='0;1;2;3;4;5;6;7;8;9'\n",
        "  op=' '\n",
        "  while op not in opcaoValida:\n",
        "    output.clear()\n",
        "    print('━━━━━━━━━❮ESCOLHA UMA OPÇÃO❯━━━━━━━━━')\n",
        "    print('1-Adicionar nucleotídeo na cadeia')\n",
        "    print('2-Cadeia genética')\n",
        "    print('')\n",
        "\n",
        "    print('3-Contar a quantidade de uma dada base na cadeia original')\n",
        "    print('4-Localizar uma subcadeia')\n",
        "    print('')\n",
        "\n",
        "    print('5-Quantidade de subcadeias na cadeia original')\n",
        "    print('6-Inverter cadeia')\n",
        "    print('')\n",
        "\n",
        "    print('7-Verificar se dada subcadeia é palidroma')\n",
        "    print('8-Gerar cadeia pareada correspondente')\n",
        "    print('')\n",
        "\n",
        "    print('9-Reparo genético para dímero de timina')\n",
        "    print('')\n",
        "\n",
        "    print('0-Sair da aplicação')\n",
        "    print('━━━━━━━━━━━━━━❮◆❯━━━━━━━━━━━━━━')\n",
        "    print('')\n",
        "    \n",
        "    op=input()\n",
        "    \n",
        "  return op\n",
        "\n",
        "#opcao=menu()\n",
        "#print(f'Opção selecionada: {opcao}')"
      ]
    },
    {
      "cell_type": "code",
      "source": [
        "def inserirCadeia(lista):  #1\n",
        "  codigo=input('Insira o código genético: ').upper()\n",
        "  print('')\n",
        "\n",
        "  print(codigo)\n",
        "  print('')\n",
        "\n",
        "  lista.append(list(codigo))\n",
        "  #print(lista)\n",
        "  print('')\n",
        "\n",
        "  x=input('Aperte [ENTER] para sair')\n",
        "  print('')"
      ],
      "metadata": {
        "id": "irddm1zDgTlZ"
      },
      "execution_count": 3,
      "outputs": []
    },
    {
      "cell_type": "code",
      "source": [
        "def cadeiaGenetica(lista):  #2 --> SEM SENTIDO\n",
        "  print('━━━━━━━━━━━━━━❮◆❯━━━━━━━━━━━━━━')\n",
        "  print(f'Código genético {lista}')\n",
        "  print('━━━━━━━━━━━━━━❮◆❯━━━━━━━━━━━━━━')\n",
        "  print('')\n",
        "\n",
        "  for cg in lista:\n",
        "    print(cg)\n",
        "\n",
        "  x=input('Aperte [ENTER] para sair')\n",
        "  print('')"
      ],
      "metadata": {
        "id": "lLHJph0egWI_"
      },
      "execution_count": 4,
      "outputs": []
    },
    {
      "cell_type": "code",
      "source": [
        "def contagemBases(lista):  #3 --> CERTO\n",
        "  print('━━━━━━━━━━━━━━❮◆❯━━━━━━━━━━━━━━')\n",
        "  print(f'Código genético {lista}')\n",
        "  print('━━━━━━━━━━━━━━❮◆❯━━━━━━━━━━━━━━')\n",
        "\n",
        "  print('')\n",
        "  print('')\n",
        "  print('')\n",
        "\n",
        "  for nucleotideo in lista:\n",
        "    print('━━━━━━━❮CONTAGEM DE BASES❯━━━━━━━')\n",
        "    print('Adeninas (A): ',nucleotideo.count('A'))\n",
        "    print('Citocinas (C): ',nucleotideo.count('C'))\n",
        "    print('')\n",
        "    print('Guaninas (G): ',nucleotideo.count('G'))\n",
        "    print('Timinas (T): ',nucleotideo.count('T'))\n",
        "    print('━━━━━━━━━━━━━━❮◆❯━━━━━━━━━━━━━━')\n",
        "    \n",
        "    print('')\n",
        "    print('')\n",
        "\n",
        "  x=input('Aperte [ENTER] para sair')\n",
        "  print('')"
      ],
      "metadata": {
        "id": "ogYum62kgZ4u"
      },
      "execution_count": 5,
      "outputs": []
    },
    {
      "cell_type": "code",
      "execution_count": 6,
      "metadata": {
        "id": "iot19h4-X00-"
      },
      "outputs": [],
      "source": [
        "def localizarSubcadeia(lista):  #4\n",
        "  print('') \n",
        "  print(lista)\n",
        "  subcadeia=input('Entre com a subcadeia que deseja localizar: ').upper()\n",
        "  print('')\n",
        "  cont =0\n",
        "\n",
        "  if subcadeia in codigo:\n",
        "    print('preto')\n",
        "  \n",
        "\n",
        "  print(cont)\n",
        "  x=input('Aperte [ENTER] para sair')\n",
        "  print('')\n"
      ]
    },
    {
      "cell_type": "code",
      "execution_count": 7,
      "metadata": {
        "colab": {
          "base_uri": "https://localhost:8080/",
          "height": 721
        },
        "id": "4u3z5lU2Yggz",
        "outputId": "abce89e9-7e61-4c92-fec1-2adc1e586777"
      },
      "outputs": [
        {
          "output_type": "stream",
          "name": "stdout",
          "text": [
            "━━━━━━━━━❮ESCOLHA UMA OPÇÃO❯━━━━━━━━━\n",
            "1-Adicionar nucleotídeo na cadeia\n",
            "2-Cadeia genética\n",
            "\n",
            "3-Contar a quantidade de uma dada base na cadeia original\n",
            "4-Localizar uma subcadeia\n",
            "\n",
            "5-Quantidade de subcadeias na cadeia original\n",
            "6-Inverter cadeia\n",
            "\n",
            "7-Verificar se dada subcadeia é palidroma\n",
            "8-Gerar cadeia pareada correspondente\n",
            "\n",
            "9-Reparo genético para dímero de timina\n",
            "\n",
            "0-Sair da aplicação\n",
            "━━━━━━━━━━━━━━❮◆❯━━━━━━━━━━━━━━\n",
            "\n",
            "4\n",
            "\n",
            "[['C', 'G', 'T', 'A', 'C', 'G', 'A', 'T', 'A', 'C', 'G', 'A', 'T', 'A', 'C', 'T', 'C', 'A', 'G']]\n",
            "Entre com a subcadeia que deseja localizar: ACGATAC\n",
            "\n"
          ]
        },
        {
          "output_type": "error",
          "ename": "NameError",
          "evalue": "ignored",
          "traceback": [
            "\u001b[0;31m---------------------------------------------------------------------------\u001b[0m",
            "\u001b[0;31mNameError\u001b[0m                                 Traceback (most recent call last)",
            "\u001b[0;32m<ipython-input-7-43c94336c76e>\u001b[0m in \u001b[0;36m<module>\u001b[0;34m\u001b[0m\n\u001b[1;32m     17\u001b[0m \u001b[0;34m\u001b[0m\u001b[0m\n\u001b[1;32m     18\u001b[0m   \u001b[0;32melif\u001b[0m \u001b[0mop\u001b[0m\u001b[0;34m==\u001b[0m\u001b[0;34m'4'\u001b[0m\u001b[0;34m:\u001b[0m\u001b[0;34m\u001b[0m\u001b[0;34m\u001b[0m\u001b[0m\n\u001b[0;32m---> 19\u001b[0;31m     \u001b[0mlocalizarSubcadeia\u001b[0m\u001b[0;34m(\u001b[0m\u001b[0mCadeia\u001b[0m\u001b[0;34m)\u001b[0m\u001b[0;34m\u001b[0m\u001b[0;34m\u001b[0m\u001b[0m\n\u001b[0m",
            "\u001b[0;32m<ipython-input-6-741f9797b7e4>\u001b[0m in \u001b[0;36mlocalizarSubcadeia\u001b[0;34m(lista)\u001b[0m\n\u001b[1;32m      6\u001b[0m   \u001b[0mcont\u001b[0m \u001b[0;34m=\u001b[0m\u001b[0;36m0\u001b[0m\u001b[0;34m\u001b[0m\u001b[0;34m\u001b[0m\u001b[0m\n\u001b[1;32m      7\u001b[0m \u001b[0;34m\u001b[0m\u001b[0m\n\u001b[0;32m----> 8\u001b[0;31m   \u001b[0;32mif\u001b[0m \u001b[0msubcadeia\u001b[0m \u001b[0;32min\u001b[0m \u001b[0mcodigo\u001b[0m\u001b[0;34m:\u001b[0m\u001b[0;34m\u001b[0m\u001b[0;34m\u001b[0m\u001b[0m\n\u001b[0m\u001b[1;32m      9\u001b[0m     \u001b[0mprint\u001b[0m\u001b[0;34m(\u001b[0m\u001b[0;34m'preto'\u001b[0m\u001b[0;34m)\u001b[0m\u001b[0;34m\u001b[0m\u001b[0;34m\u001b[0m\u001b[0m\n\u001b[1;32m     10\u001b[0m \u001b[0;34m\u001b[0m\u001b[0m\n",
            "\u001b[0;31mNameError\u001b[0m: name 'codigo' is not defined"
          ]
        }
      ],
      "source": [
        "Cadeia=[]\n",
        "Nucleotídeo=-1\n",
        "\n",
        "op=' '\n",
        "while op!='0':\n",
        "  op=menu()\n",
        "  if op=='1':\n",
        "    inserirCadeia(Cadeia)\n",
        "    Nucleotídeo=(Cadeia)\n",
        "\n",
        "  elif op=='2':\n",
        "    cadeiaGenetica(Cadeia)\n",
        "\n",
        "  elif op=='3':\n",
        "    contagemBases(Cadeia)\n",
        "    Nucleotídeo=(Cadeia)\n",
        "\n",
        "  elif op=='4':\n",
        "    localizarSubcadeia(Cadeia)"
      ]
    }
  ],
  "metadata": {
    "colab": {
      "provenance": [],
      "collapsed_sections": []
    },
    "kernelspec": {
      "display_name": "Python 3",
      "name": "python3"
    },
    "language_info": {
      "name": "python"
    }
  },
  "nbformat": 4,
  "nbformat_minor": 0
}