{
 "cells": [
  {
   "cell_type": "code",
   "execution_count": 2,
   "metadata": {},
   "outputs": [],
   "source": [
    "#━━━━━━━━━❮Bibliotecas❯━━━━━━━━━\n",
    "import pandas as pd"
   ]
  },
  {
   "cell_type": "code",
   "execution_count": 18,
   "metadata": {},
   "outputs": [
    {
     "data": {
      "text/html": [
       "<div>\n",
       "<style scoped>\n",
       "    .dataframe tbody tr th:only-of-type {\n",
       "        vertical-align: middle;\n",
       "    }\n",
       "\n",
       "    .dataframe tbody tr th {\n",
       "        vertical-align: top;\n",
       "    }\n",
       "\n",
       "    .dataframe thead th {\n",
       "        text-align: right;\n",
       "    }\n",
       "</style>\n",
       "<table border=\"1\" class=\"dataframe\">\n",
       "  <thead>\n",
       "    <tr style=\"text-align: right;\">\n",
       "      <th></th>\n",
       "      <th>Category</th>\n",
       "      <th>Film</th>\n",
       "      <th>Nominee</th>\n",
       "      <th>Year</th>\n",
       "      <th>Winner</th>\n",
       "      <th>Rating_IMDB</th>\n",
       "      <th>Release_date</th>\n",
       "      <th>Rating_rtaudience</th>\n",
       "      <th>Rating_rtcritic</th>\n",
       "      <th>Oscarstat_totalnoms</th>\n",
       "      <th>...</th>\n",
       "      <th>Nom_Criticschoice</th>\n",
       "      <th>Nowin_SAG_acting</th>\n",
       "      <th>Win_SAG_acting</th>\n",
       "      <th>Nonom_SAG_acting</th>\n",
       "      <th>Nom_SAG_acting</th>\n",
       "      <th>Nowin_SAG_bestcast</th>\n",
       "      <th>Win_SAG_bestcast</th>\n",
       "      <th>Nonom_SAG_bestcast</th>\n",
       "      <th>Nom_SAG_bestcast</th>\n",
       "      <th>Female</th>\n",
       "    </tr>\n",
       "  </thead>\n",
       "  <tbody>\n",
       "    <tr>\n",
       "      <th>0</th>\n",
       "      <td>Actor</td>\n",
       "      <td>Sound of Metal</td>\n",
       "      <td>Riz Ahmed</td>\n",
       "      <td>2021</td>\n",
       "      <td>NaN</td>\n",
       "      <td>7.8</td>\n",
       "      <td>04 Dec 2020</td>\n",
       "      <td>91</td>\n",
       "      <td>97</td>\n",
       "      <td>6</td>\n",
       "      <td>...</td>\n",
       "      <td>1</td>\n",
       "      <td>1</td>\n",
       "      <td>0</td>\n",
       "      <td>0</td>\n",
       "      <td>1</td>\n",
       "      <td>1</td>\n",
       "      <td>0</td>\n",
       "      <td>1</td>\n",
       "      <td>0</td>\n",
       "      <td>0</td>\n",
       "    </tr>\n",
       "  </tbody>\n",
       "</table>\n",
       "<p>1 rows × 74 columns</p>\n",
       "</div>"
      ],
      "text/plain": [
       "  Category            Film    Nominee  Year  Winner  Rating_IMDB Release_date  \\\n",
       "0    Actor  Sound of Metal  Riz Ahmed  2021     NaN          7.8  04 Dec 2020   \n",
       "\n",
       "   Rating_rtaudience  Rating_rtcritic  Oscarstat_totalnoms  ...  \\\n",
       "0                 91               97                    6  ...   \n",
       "\n",
       "   Nom_Criticschoice  Nowin_SAG_acting  Win_SAG_acting  Nonom_SAG_acting  \\\n",
       "0                  1                 1               0                 0   \n",
       "\n",
       "   Nom_SAG_acting  Nowin_SAG_bestcast  Win_SAG_bestcast  Nonom_SAG_bestcast  \\\n",
       "0               1                   1                 0                   1   \n",
       "\n",
       "   Nom_SAG_bestcast  Female  \n",
       "0                 0       0  \n",
       "\n",
       "[1 rows x 74 columns]"
      ]
     },
     "metadata": {},
     "output_type": "display_data"
    }
   ],
   "source": [
    "#━━━━━━━━━❮Data❯━━━━━━━━━\n",
    "data =pd.read_csv('the_oscar_award.csv')\n",
    "data2=pd.read_csv('oscardata_2021_acting.csv')\n",
    "\n",
    "# display(data.head(1))\n",
    "display(data2.head(1))\n"
   ]
  },
  {
   "cell_type": "code",
   "execution_count": 13,
   "metadata": {},
   "outputs": [],
   "source": []
  },
  {
   "cell_type": "code",
   "execution_count": null,
   "metadata": {},
   "outputs": [],
   "source": []
  }
 ],
 "metadata": {
  "kernelspec": {
   "display_name": "Python 3.9.12 64-bit",
   "language": "python",
   "name": "python3"
  },
  "language_info": {
   "codemirror_mode": {
    "name": "ipython",
    "version": 3
   },
   "file_extension": ".py",
   "mimetype": "text/x-python",
   "name": "python",
   "nbconvert_exporter": "python",
   "pygments_lexer": "ipython3",
   "version": "3.9.12"
  },
  "orig_nbformat": 4,
  "vscode": {
   "interpreter": {
    "hash": "c9b11055aabbe5831bceda66bd7c90480ec32ff2ac7d8efcaa134baa16fe25e4"
   }
  }
 },
 "nbformat": 4,
 "nbformat_minor": 2
}
