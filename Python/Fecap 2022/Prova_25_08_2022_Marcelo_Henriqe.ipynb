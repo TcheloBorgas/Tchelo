{
  "nbformat": 4,
  "nbformat_minor": 0,
  "metadata": {
    "colab": {
      "name": "Prova_25_08_2022_gabarito (1).ipynb",
      "provenance": [],
      "collapsed_sections": []
    },
    "kernelspec": {
      "name": "python3",
      "display_name": "Python 3"
    },
    "language_info": {
      "name": "python"
    }
  },
  "cells": [
    {
      "cell_type": "markdown",
      "source": [
        "**Questão 1** - Corrija o código a seguir substituindo #########, pelos valores corretos. Essa primeira parte do código tem como objetivo carregar uma base de dados sobre os alunos de um cursinho pré-vestibular e se eles foram aprovados ou não no vestibular que prestaram (**1 ponto**)"
      ],
      "metadata": {
        "id": "Poi51nk-J5Ea"
      }
    },
    {
      "cell_type": "code",
      "execution_count": 29,
      "metadata": {
        "id": "VHjUINS-Hd8l",
        "colab": {
          "base_uri": "https://localhost:8080/",
          "height": 206
        },
        "outputId": "3231a475-59d4-49f3-ebd7-78832c94fbcf"
      },
      "outputs": [
        {
          "output_type": "execute_result",
          "data": {
            "text/plain": [
              "   horas_estudo   curso  anos   escola  nota  aprovado\n",
              "0            70  exatas     4  privada   100      True\n",
              "1            30  exatas     1  privada    20     False\n",
              "2            60  exatas     3  privada    90      True\n",
              "3            40  exatas     5  privada    97      True\n",
              "4            10  exatas     2  privada    23     False"
            ],
            "text/html": [
              "\n",
              "  <div id=\"df-54ba9a77-7fd5-4648-8c83-47844cccded3\">\n",
              "    <div class=\"colab-df-container\">\n",
              "      <div>\n",
              "<style scoped>\n",
              "    .dataframe tbody tr th:only-of-type {\n",
              "        vertical-align: middle;\n",
              "    }\n",
              "\n",
              "    .dataframe tbody tr th {\n",
              "        vertical-align: top;\n",
              "    }\n",
              "\n",
              "    .dataframe thead th {\n",
              "        text-align: right;\n",
              "    }\n",
              "</style>\n",
              "<table border=\"1\" class=\"dataframe\">\n",
              "  <thead>\n",
              "    <tr style=\"text-align: right;\">\n",
              "      <th></th>\n",
              "      <th>horas_estudo</th>\n",
              "      <th>curso</th>\n",
              "      <th>anos</th>\n",
              "      <th>escola</th>\n",
              "      <th>nota</th>\n",
              "      <th>aprovado</th>\n",
              "    </tr>\n",
              "  </thead>\n",
              "  <tbody>\n",
              "    <tr>\n",
              "      <th>0</th>\n",
              "      <td>70</td>\n",
              "      <td>exatas</td>\n",
              "      <td>4</td>\n",
              "      <td>privada</td>\n",
              "      <td>100</td>\n",
              "      <td>True</td>\n",
              "    </tr>\n",
              "    <tr>\n",
              "      <th>1</th>\n",
              "      <td>30</td>\n",
              "      <td>exatas</td>\n",
              "      <td>1</td>\n",
              "      <td>privada</td>\n",
              "      <td>20</td>\n",
              "      <td>False</td>\n",
              "    </tr>\n",
              "    <tr>\n",
              "      <th>2</th>\n",
              "      <td>60</td>\n",
              "      <td>exatas</td>\n",
              "      <td>3</td>\n",
              "      <td>privada</td>\n",
              "      <td>90</td>\n",
              "      <td>True</td>\n",
              "    </tr>\n",
              "    <tr>\n",
              "      <th>3</th>\n",
              "      <td>40</td>\n",
              "      <td>exatas</td>\n",
              "      <td>5</td>\n",
              "      <td>privada</td>\n",
              "      <td>97</td>\n",
              "      <td>True</td>\n",
              "    </tr>\n",
              "    <tr>\n",
              "      <th>4</th>\n",
              "      <td>10</td>\n",
              "      <td>exatas</td>\n",
              "      <td>2</td>\n",
              "      <td>privada</td>\n",
              "      <td>23</td>\n",
              "      <td>False</td>\n",
              "    </tr>\n",
              "  </tbody>\n",
              "</table>\n",
              "</div>\n",
              "      <button class=\"colab-df-convert\" onclick=\"convertToInteractive('df-54ba9a77-7fd5-4648-8c83-47844cccded3')\"\n",
              "              title=\"Convert this dataframe to an interactive table.\"\n",
              "              style=\"display:none;\">\n",
              "        \n",
              "  <svg xmlns=\"http://www.w3.org/2000/svg\" height=\"24px\"viewBox=\"0 0 24 24\"\n",
              "       width=\"24px\">\n",
              "    <path d=\"M0 0h24v24H0V0z\" fill=\"none\"/>\n",
              "    <path d=\"M18.56 5.44l.94 2.06.94-2.06 2.06-.94-2.06-.94-.94-2.06-.94 2.06-2.06.94zm-11 1L8.5 8.5l.94-2.06 2.06-.94-2.06-.94L8.5 2.5l-.94 2.06-2.06.94zm10 10l.94 2.06.94-2.06 2.06-.94-2.06-.94-.94-2.06-.94 2.06-2.06.94z\"/><path d=\"M17.41 7.96l-1.37-1.37c-.4-.4-.92-.59-1.43-.59-.52 0-1.04.2-1.43.59L10.3 9.45l-7.72 7.72c-.78.78-.78 2.05 0 2.83L4 21.41c.39.39.9.59 1.41.59.51 0 1.02-.2 1.41-.59l7.78-7.78 2.81-2.81c.8-.78.8-2.07 0-2.86zM5.41 20L4 18.59l7.72-7.72 1.47 1.35L5.41 20z\"/>\n",
              "  </svg>\n",
              "      </button>\n",
              "      \n",
              "  <style>\n",
              "    .colab-df-container {\n",
              "      display:flex;\n",
              "      flex-wrap:wrap;\n",
              "      gap: 12px;\n",
              "    }\n",
              "\n",
              "    .colab-df-convert {\n",
              "      background-color: #E8F0FE;\n",
              "      border: none;\n",
              "      border-radius: 50%;\n",
              "      cursor: pointer;\n",
              "      display: none;\n",
              "      fill: #1967D2;\n",
              "      height: 32px;\n",
              "      padding: 0 0 0 0;\n",
              "      width: 32px;\n",
              "    }\n",
              "\n",
              "    .colab-df-convert:hover {\n",
              "      background-color: #E2EBFA;\n",
              "      box-shadow: 0px 1px 2px rgba(60, 64, 67, 0.3), 0px 1px 3px 1px rgba(60, 64, 67, 0.15);\n",
              "      fill: #174EA6;\n",
              "    }\n",
              "\n",
              "    [theme=dark] .colab-df-convert {\n",
              "      background-color: #3B4455;\n",
              "      fill: #D2E3FC;\n",
              "    }\n",
              "\n",
              "    [theme=dark] .colab-df-convert:hover {\n",
              "      background-color: #434B5C;\n",
              "      box-shadow: 0px 1px 3px 1px rgba(0, 0, 0, 0.15);\n",
              "      filter: drop-shadow(0px 1px 2px rgba(0, 0, 0, 0.3));\n",
              "      fill: #FFFFFF;\n",
              "    }\n",
              "  </style>\n",
              "\n",
              "      <script>\n",
              "        const buttonEl =\n",
              "          document.querySelector('#df-54ba9a77-7fd5-4648-8c83-47844cccded3 button.colab-df-convert');\n",
              "        buttonEl.style.display =\n",
              "          google.colab.kernel.accessAllowed ? 'block' : 'none';\n",
              "\n",
              "        async function convertToInteractive(key) {\n",
              "          const element = document.querySelector('#df-54ba9a77-7fd5-4648-8c83-47844cccded3');\n",
              "          const dataTable =\n",
              "            await google.colab.kernel.invokeFunction('convertToInteractive',\n",
              "                                                     [key], {});\n",
              "          if (!dataTable) return;\n",
              "\n",
              "          const docLinkHtml = 'Like what you see? Visit the ' +\n",
              "            '<a target=\"_blank\" href=https://colab.research.google.com/notebooks/data_table.ipynb>data table notebook</a>'\n",
              "            + ' to learn more about interactive tables.';\n",
              "          element.innerHTML = '';\n",
              "          dataTable['output_type'] = 'display_data';\n",
              "          await google.colab.output.renderOutput(dataTable, element);\n",
              "          const docLink = document.createElement('div');\n",
              "          docLink.innerHTML = docLinkHtml;\n",
              "          element.appendChild(docLink);\n",
              "        }\n",
              "      </script>\n",
              "    </div>\n",
              "  </div>\n",
              "  "
            ]
          },
          "metadata": {},
          "execution_count": 29
        }
      ],
      "source": [
        "import pandas as pd\n",
        "\n",
        "candidatos = [{'horas_estudo':70, 'curso': 'exatas', 'anos': 4, 'escola': 'privada', 'nota':100,'aprovado': True},\n",
        "        {'horas_estudo':30, 'curso': 'exatas', 'anos': 1, 'escola': 'privada', 'nota':20,'aprovado': False},\n",
        "        {'horas_estudo':60, 'curso': 'exatas', 'anos': 3, 'escola': 'privada', 'nota':90,'aprovado': True},\n",
        "        {'horas_estudo':40, 'curso': 'exatas', 'anos': 5, 'escola': 'privada', 'nota':97,'aprovado': True},\n",
        "        {'horas_estudo':10, 'curso': 'exatas', 'anos': 2, 'escola': 'privada', 'nota':23,'aprovado': False},\n",
        "        {'horas_estudo':20, 'curso': 'humanas', 'anos': 1, 'escola': 'publica', 'nota':36,'aprovado': False},\n",
        "        {'horas_estudo':40, 'curso': 'humanas', 'anos': 3, 'escola': 'privada', 'nota':97,'aprovado': True},\n",
        "        {'horas_estudo':20, 'curso': 'humanas', 'anos': 3, 'escola': 'publica', 'nota':40,'aprovado': False},\n",
        "        {'horas_estudo':15, 'curso': 'humanas', 'anos': 4, 'escola': 'privada', 'nota':36,'aprovado': False},\n",
        "        {'horas_estudo':50, 'curso': 'humanas', 'anos': 5, 'escola': 'privada', 'nota':87,'aprovado': True},\n",
        "        {'horas_estudo':19, 'curso': 'biologicas', 'anos': 3, 'escola': 'privada', 'nota':12,'aprovado': False},\n",
        "        {'horas_estudo':13, 'curso': 'humanas', 'anos': 1, 'escola': 'publica', 'nota':30,'aprovado': False},\n",
        "        {'horas_estudo':18, 'curso': 'biologicas', 'anos': 2, 'escola': 'publica', 'nota':22,'aprovado': False},\n",
        "        {'horas_estudo':17, 'curso': 'exatas', 'anos': 2, 'escola': 'privada', 'nota':36,'aprovado': False},\n",
        "        {'horas_estudo':17, 'curso': 'humanas', 'anos': 1, 'escola': 'privada', 'nota':5,'aprovado': False},\n",
        "        {'horas_estudo':60, 'curso': 'humanas', 'anos': 6, 'escola': 'privada', 'nota':100,'aprovado': True},\n",
        "        {'horas_estudo':7, 'curso': 'humanas', 'anos': 3, 'escola': 'publica', 'nota':10,'aprovado': False},\n",
        "        {'horas_estudo':9, 'curso': 'humanas', 'anos': 4, 'escola': 'privada', 'nota':27,'aprovado': False},\n",
        "        {'horas_estudo':45, 'curso': 'biologicas', 'anos': 4, 'escola': 'privada', 'nota':100,'aprovado': True},\n",
        "        {'horas_estudo':7, 'curso': 'humanas', 'anos': 3, 'escola': 'privada', 'nota':42,'aprovado': False},\n",
        "        {'horas_estudo':60, 'curso': 'biologicas', 'anos': 4, 'escola': 'privada', 'nota':86,'aprovado': True},\n",
        "        {'horas_estudo':40, 'curso': 'biologicas', 'anos': 2, 'escola': 'privada', 'nota':99,'aprovado': True},\n",
        "        {'horas_estudo':7, 'curso': 'biologicas', 'anos': 4, 'escola': 'privada', 'nota':23,'aprovado': False},\n",
        "        {'horas_estudo':80, 'curso': 'exatas', 'anos': 2, 'escola': 'privada', 'nota':87,'aprovado': True},\n",
        "        {'horas_estudo':5, 'curso': 'humanas', 'anos': 1, 'escola': 'publica', 'nota':16,'aprovado': False},\n",
        "        {'horas_estudo':60, 'curso': 'humanas', 'anos': 7, 'escola': 'privada', 'nota':80,'aprovado': True},\n",
        "        {'horas_estudo':40, 'curso': 'humanas', 'anos': 3, 'escola': 'publica', 'nota':76,'aprovado': True},\n",
        "        {'horas_estudo':23, 'curso': 'humanas', 'anos': 4, 'escola': 'privada', 'nota':0,'aprovado': False},\n",
        "        {'horas_estudo':69, 'curso': 'biologicas', 'anos': 2, 'escola': 'publica', 'nota':100,'aprovado': True},\n",
        "        {'horas_estudo':5, 'curso': 'biologicas', 'anos': 3, 'escola': 'privada', 'nota':2,'aprovado': False},\n",
        "        {'horas_estudo':10, 'curso': 'exatas', 'anos': 2, 'escola': 'publica', 'nota':10,'aprovado': False},\n",
        "        {'horas_estudo':10, 'curso': 'biologicas', 'anos': 2, 'escola': 'publica', 'nota':5,'aprovado': False},\n",
        "        {'horas_estudo':40, 'curso': 'exatas', 'anos': 5, 'escola': 'publica', 'nota':87,'aprovado': True},\n",
        "        {'horas_estudo':43, 'curso': 'biologicas', 'anos': 1, 'escola': 'privada', 'nota':100,'aprovado': True}]\n",
        "\n",
        "candidatos = pd.DataFrame(candidatos)\n",
        "candidatos.head(5)"
      ]
    },
    {
      "cell_type": "markdown",
      "source": [
        "**Questão 2** - O código a seguir transforma a variável curso em duas variáveis dummies e deleta uma do banco de dados. Rode ele e apliquem a mesma técnica  para a variável \"escola\".  (**0.5 pontos**)"
      ],
      "metadata": {
        "id": "Yz5m-_QyPO-K"
      }
    },
    {
      "cell_type": "code",
      "source": [
        "temp = pd.get_dummies(candidatos[\"curso\"])\n",
        "candidatos = pd.concat([candidatos, temp], axis=1)\n",
        "candidatos.drop(['curso'], axis=1, inplace=True)\n",
        "#candidatos\n",
        "\n",
        "temp2 = pd.get_dummies(candidatos[\"escola\"])\n",
        "candidatos = pd.concat([candidatos, temp2], axis=1)\n",
        "candidatos.drop(['escola'], axis=1, inplace=True)\n",
        "candidatos.head(5)"
      ],
      "metadata": {
        "id": "gy__4ghschud",
        "colab": {
          "base_uri": "https://localhost:8080/",
          "height": 206
        },
        "outputId": "ccf34728-417e-4f82-9745-31ba0c191e6f"
      },
      "execution_count": 30,
      "outputs": [
        {
          "output_type": "execute_result",
          "data": {
            "text/plain": [
              "   horas_estudo  anos  nota  aprovado  biologicas  exatas  humanas  privada  \\\n",
              "0            70     4   100      True           0       1        0        1   \n",
              "1            30     1    20     False           0       1        0        1   \n",
              "2            60     3    90      True           0       1        0        1   \n",
              "3            40     5    97      True           0       1        0        1   \n",
              "4            10     2    23     False           0       1        0        1   \n",
              "\n",
              "   publica  \n",
              "0        0  \n",
              "1        0  \n",
              "2        0  \n",
              "3        0  \n",
              "4        0  "
            ],
            "text/html": [
              "\n",
              "  <div id=\"df-b8fa3562-ebff-4b1e-891f-136f659cb8a9\">\n",
              "    <div class=\"colab-df-container\">\n",
              "      <div>\n",
              "<style scoped>\n",
              "    .dataframe tbody tr th:only-of-type {\n",
              "        vertical-align: middle;\n",
              "    }\n",
              "\n",
              "    .dataframe tbody tr th {\n",
              "        vertical-align: top;\n",
              "    }\n",
              "\n",
              "    .dataframe thead th {\n",
              "        text-align: right;\n",
              "    }\n",
              "</style>\n",
              "<table border=\"1\" class=\"dataframe\">\n",
              "  <thead>\n",
              "    <tr style=\"text-align: right;\">\n",
              "      <th></th>\n",
              "      <th>horas_estudo</th>\n",
              "      <th>anos</th>\n",
              "      <th>nota</th>\n",
              "      <th>aprovado</th>\n",
              "      <th>biologicas</th>\n",
              "      <th>exatas</th>\n",
              "      <th>humanas</th>\n",
              "      <th>privada</th>\n",
              "      <th>publica</th>\n",
              "    </tr>\n",
              "  </thead>\n",
              "  <tbody>\n",
              "    <tr>\n",
              "      <th>0</th>\n",
              "      <td>70</td>\n",
              "      <td>4</td>\n",
              "      <td>100</td>\n",
              "      <td>True</td>\n",
              "      <td>0</td>\n",
              "      <td>1</td>\n",
              "      <td>0</td>\n",
              "      <td>1</td>\n",
              "      <td>0</td>\n",
              "    </tr>\n",
              "    <tr>\n",
              "      <th>1</th>\n",
              "      <td>30</td>\n",
              "      <td>1</td>\n",
              "      <td>20</td>\n",
              "      <td>False</td>\n",
              "      <td>0</td>\n",
              "      <td>1</td>\n",
              "      <td>0</td>\n",
              "      <td>1</td>\n",
              "      <td>0</td>\n",
              "    </tr>\n",
              "    <tr>\n",
              "      <th>2</th>\n",
              "      <td>60</td>\n",
              "      <td>3</td>\n",
              "      <td>90</td>\n",
              "      <td>True</td>\n",
              "      <td>0</td>\n",
              "      <td>1</td>\n",
              "      <td>0</td>\n",
              "      <td>1</td>\n",
              "      <td>0</td>\n",
              "    </tr>\n",
              "    <tr>\n",
              "      <th>3</th>\n",
              "      <td>40</td>\n",
              "      <td>5</td>\n",
              "      <td>97</td>\n",
              "      <td>True</td>\n",
              "      <td>0</td>\n",
              "      <td>1</td>\n",
              "      <td>0</td>\n",
              "      <td>1</td>\n",
              "      <td>0</td>\n",
              "    </tr>\n",
              "    <tr>\n",
              "      <th>4</th>\n",
              "      <td>10</td>\n",
              "      <td>2</td>\n",
              "      <td>23</td>\n",
              "      <td>False</td>\n",
              "      <td>0</td>\n",
              "      <td>1</td>\n",
              "      <td>0</td>\n",
              "      <td>1</td>\n",
              "      <td>0</td>\n",
              "    </tr>\n",
              "  </tbody>\n",
              "</table>\n",
              "</div>\n",
              "      <button class=\"colab-df-convert\" onclick=\"convertToInteractive('df-b8fa3562-ebff-4b1e-891f-136f659cb8a9')\"\n",
              "              title=\"Convert this dataframe to an interactive table.\"\n",
              "              style=\"display:none;\">\n",
              "        \n",
              "  <svg xmlns=\"http://www.w3.org/2000/svg\" height=\"24px\"viewBox=\"0 0 24 24\"\n",
              "       width=\"24px\">\n",
              "    <path d=\"M0 0h24v24H0V0z\" fill=\"none\"/>\n",
              "    <path d=\"M18.56 5.44l.94 2.06.94-2.06 2.06-.94-2.06-.94-.94-2.06-.94 2.06-2.06.94zm-11 1L8.5 8.5l.94-2.06 2.06-.94-2.06-.94L8.5 2.5l-.94 2.06-2.06.94zm10 10l.94 2.06.94-2.06 2.06-.94-2.06-.94-.94-2.06-.94 2.06-2.06.94z\"/><path d=\"M17.41 7.96l-1.37-1.37c-.4-.4-.92-.59-1.43-.59-.52 0-1.04.2-1.43.59L10.3 9.45l-7.72 7.72c-.78.78-.78 2.05 0 2.83L4 21.41c.39.39.9.59 1.41.59.51 0 1.02-.2 1.41-.59l7.78-7.78 2.81-2.81c.8-.78.8-2.07 0-2.86zM5.41 20L4 18.59l7.72-7.72 1.47 1.35L5.41 20z\"/>\n",
              "  </svg>\n",
              "      </button>\n",
              "      \n",
              "  <style>\n",
              "    .colab-df-container {\n",
              "      display:flex;\n",
              "      flex-wrap:wrap;\n",
              "      gap: 12px;\n",
              "    }\n",
              "\n",
              "    .colab-df-convert {\n",
              "      background-color: #E8F0FE;\n",
              "      border: none;\n",
              "      border-radius: 50%;\n",
              "      cursor: pointer;\n",
              "      display: none;\n",
              "      fill: #1967D2;\n",
              "      height: 32px;\n",
              "      padding: 0 0 0 0;\n",
              "      width: 32px;\n",
              "    }\n",
              "\n",
              "    .colab-df-convert:hover {\n",
              "      background-color: #E2EBFA;\n",
              "      box-shadow: 0px 1px 2px rgba(60, 64, 67, 0.3), 0px 1px 3px 1px rgba(60, 64, 67, 0.15);\n",
              "      fill: #174EA6;\n",
              "    }\n",
              "\n",
              "    [theme=dark] .colab-df-convert {\n",
              "      background-color: #3B4455;\n",
              "      fill: #D2E3FC;\n",
              "    }\n",
              "\n",
              "    [theme=dark] .colab-df-convert:hover {\n",
              "      background-color: #434B5C;\n",
              "      box-shadow: 0px 1px 3px 1px rgba(0, 0, 0, 0.15);\n",
              "      filter: drop-shadow(0px 1px 2px rgba(0, 0, 0, 0.3));\n",
              "      fill: #FFFFFF;\n",
              "    }\n",
              "  </style>\n",
              "\n",
              "      <script>\n",
              "        const buttonEl =\n",
              "          document.querySelector('#df-b8fa3562-ebff-4b1e-891f-136f659cb8a9 button.colab-df-convert');\n",
              "        buttonEl.style.display =\n",
              "          google.colab.kernel.accessAllowed ? 'block' : 'none';\n",
              "\n",
              "        async function convertToInteractive(key) {\n",
              "          const element = document.querySelector('#df-b8fa3562-ebff-4b1e-891f-136f659cb8a9');\n",
              "          const dataTable =\n",
              "            await google.colab.kernel.invokeFunction('convertToInteractive',\n",
              "                                                     [key], {});\n",
              "          if (!dataTable) return;\n",
              "\n",
              "          const docLinkHtml = 'Like what you see? Visit the ' +\n",
              "            '<a target=\"_blank\" href=https://colab.research.google.com/notebooks/data_table.ipynb>data table notebook</a>'\n",
              "            + ' to learn more about interactive tables.';\n",
              "          element.innerHTML = '';\n",
              "          dataTable['output_type'] = 'display_data';\n",
              "          await google.colab.output.renderOutput(dataTable, element);\n",
              "          const docLink = document.createElement('div');\n",
              "          docLink.innerHTML = docLinkHtml;\n",
              "          element.appendChild(docLink);\n",
              "        }\n",
              "      </script>\n",
              "    </div>\n",
              "  </div>\n",
              "  "
            ]
          },
          "metadata": {},
          "execution_count": 30
        }
      ]
    },
    {
      "cell_type": "code",
      "source": [],
      "metadata": {
        "id": "Q03tJu7Rcj7b"
      },
      "execution_count": null,
      "outputs": []
    },
    {
      "cell_type": "markdown",
      "source": [
        "**Questão 3** - Agora vamos separar a base de dados entre trieno e teste, para isso selecione as apenas as sequintes variáveis **'anos'**, **'biologicas'**,\t**'exatas'** e\t**'privada'**.  (**0.5 pontos**)"
      ],
      "metadata": {
        "id": "4mnnTXDvQgYP"
      }
    },
    {
      "cell_type": "code",
      "source": [
        "treino = candidatos.sample(int(len(candidatos)*0.8))\n",
        "\n",
        "X_treino = treino[['anos', 'biologicas', 'exatas' , 'privada']]\n",
        "y_treino = treino[[\"nota\"]]\n",
        "\n",
        "teste = candidatos[~candidatos.index.isin(treino.index)]\n",
        "\n",
        "X_teste = teste[['anos', 'biologicas', 'exatas', 'privada']]\n",
        "y_teste = teste[[\"nota\"]]"
      ],
      "metadata": {
        "id": "1mYBk6kGTH8I"
      },
      "execution_count": 31,
      "outputs": []
    },
    {
      "cell_type": "markdown",
      "source": [
        "**Questão 4** - Corrija o código abaixo para treinar o modelo.  (**0.5 pontos**)"
      ],
      "metadata": {
        "id": "OSFkyjdZTl2z"
      }
    },
    {
      "cell_type": "code",
      "source": [
        "from sklearn.linear_model import LinearRegression\n",
        "\n",
        "reg = LinearRegression().fit(X_treino, y_treino)"
      ],
      "metadata": {
        "id": "4ZFo_4UaTvEY"
      },
      "execution_count": 32,
      "outputs": []
    },
    {
      "cell_type": "markdown",
      "source": [
        "**Questão 5** - Calcule o o R quadrado desse modelo.  (**0.5 pontos**)"
      ],
      "metadata": {
        "id": "9MoaKSViUGIl"
      }
    },
    {
      "cell_type": "code",
      "source": [
        "treino_score = reg.score(X_treino, y_treino)\n",
        "teste_score = reg.score(X_teste, y_teste)\n",
        "print(f\"R2 treino {treino_score}, R2 teste {teste_score}\")"
      ],
      "metadata": {
        "id": "ShkZtit1crB5",
        "colab": {
          "base_uri": "https://localhost:8080/"
        },
        "outputId": "26399f69-a1c2-4245-d951-5546dc9d5dc9"
      },
      "execution_count": 35,
      "outputs": [
        {
          "output_type": "stream",
          "name": "stdout",
          "text": [
            "R2 treino 0.4091128441616475, R2 teste -0.8854669485101396\n"
          ]
        }
      ]
    },
    {
      "cell_type": "markdown",
      "source": [
        "**Questão 6** - Replique o mesmo código das questões 3 e 4 e calcule, porém inclua a variável **horas_estudo**, e calcule o R quadrado novamente.   (**1.5 pontos**)"
      ],
      "metadata": {
        "id": "N1HkotLGWUYs"
      }
    },
    {
      "cell_type": "code",
      "source": [
        "\n",
        "treino_2 = candidatos.sample(int(len(candidatos)*0.8))\n",
        "\n",
        "X_treino_2 = treino_2[['horas_estudo', 'anos', 'biologicas', 'exatas' , 'privada']]\n",
        "y_treino_2 = treino_2[[\"nota\"]]\n",
        "reg2 = LinearRegression().fit(X_treino_2, y_treino_2)\n",
        "\n",
        "\n",
        "\n",
        "teste_2 = candidatos[~candidatos.index.isin(treino_2.index)]\n",
        "\n",
        "X_teste_2 = teste_2[['horas_estudo', 'anos', 'biologicas', 'exatas', 'privada']]\n",
        "y_teste_2 = teste_2[[\"nota\"]]\n",
        "\n",
        "\n",
        "treino_score_2 = reg2.score(X_treino_2, y_treino_2)\n",
        "teste_score_2 = reg2.score(X_teste_2, y_teste_2)\n",
        "\n",
        "\n",
        "print('--/Horas de Esudo/--')\n",
        "print(f\"R2 treino:  {treino_score_2}, R2 teste {teste_score_2}\")\n"
      ],
      "metadata": {
        "id": "k7jLmENVUCUO",
        "colab": {
          "base_uri": "https://localhost:8080/"
        },
        "outputId": "5633cf1e-c313-404c-dc4c-3bfd74243d8c"
      },
      "execution_count": 42,
      "outputs": [
        {
          "output_type": "stream",
          "name": "stdout",
          "text": [
            "--/Horas de Esudo/--\n",
            "R2 treino:  0.7693538232960512, R2 teste 0.36477291760756914\n"
          ]
        }
      ]
    },
    {
      "cell_type": "markdown",
      "source": [
        "**Questão 7** - Explique se no modelo final você incluiria a variável **horas_estudo** ou não, e justifique o porquê da escolha.    (**0.5 pontos**)"
      ],
      "metadata": {
        "id": "4Wl3EcefW2y0"
      }
    },
    {
      "cell_type": "code",
      "source": [
        "#Trecho de apoio para a analise\n",
        "\n",
        "print('Sem a variável estudo: R_train ={:.4f}, R_test ={:.4f}'.format(treino_score, teste_score))\n",
        "print('')\n",
        "\n",
        "print('Sem a variável estudo: R_train ={:.4f}, R_test ={:.4f}'.format(treino_score_2, teste_score_2))"
      ],
      "metadata": {
        "colab": {
          "base_uri": "https://localhost:8080/"
        },
        "id": "fBAJeZ_jUNBT",
        "outputId": "1aa6f7ae-dd5a-47b4-dda7-d79091e8c11f"
      },
      "execution_count": 48,
      "outputs": [
        {
          "output_type": "stream",
          "name": "stdout",
          "text": [
            "Sem a variável estudo: R_train =0.4091, R_test =-0.8855\n",
            "\n",
            "Sem a variável estudo: R_train =0.7694, R_test =0.3648\n"
          ]
        }
      ]
    },
    {
      "cell_type": "markdown",
      "source": [
        "# Resposta\n",
        "\n",
        "Sim, eu usaria a variável  \"horas_estudo\" para o modelo final, pois os desvios do teste R quadrático são mais de 0.50 maiores quando a variável não é escalada"
      ],
      "metadata": {
        "id": "148bTKwzXfzi"
      }
    },
    {
      "cell_type": "markdown",
      "source": [
        "**Questão 8** - Utilizando o modelo **RandomForestClassifier** e as variáveis  **'anos'**, **'biologicas'**,\t**'exatas'**,\t**'privada'** treine um modelo que classifique se os alunos foram aprovados ou não, utulizano a variável **aprovado**  (**2.0 pontos**)"
      ],
      "metadata": {
        "id": "Aoe3Q_-dZsBv"
      }
    },
    {
      "cell_type": "code",
      "source": [
        "from sklearn.ensemble import RandomForestClassifier"
      ],
      "metadata": {
        "id": "o0aFW5s1W161"
      },
      "execution_count": 50,
      "outputs": []
    },
    {
      "cell_type": "code",
      "source": [
        "treino = candidatos.sample(int(len(candidatos)*0.8))\n",
        "\n",
        "X_treino = treino[['anos','biologicas','exatas','privada']]\n",
        "y_treino = treino[[\"aprovado\"]]\n",
        "\n",
        "teste = candidatos[~candidatos.index.isin(treino.index)]\n",
        "\n",
        "X_teste = teste[['anos','biologicas','exatas','privada']]\n",
        "y_teste = teste[[\"aprovado\"]]\n",
        "\n",
        "\n",
        "RandomForest= RandomForestClassifier(n_estimators = 100 ,max_depth = 2, random_state = 0)\n",
        "RandomForest.fit(X_treino, y_treino)"
      ],
      "metadata": {
        "id": "r2U1rZJIaltO",
        "colab": {
          "base_uri": "https://localhost:8080/"
        },
        "outputId": "9c3194ea-f225-42c8-ea56-c688da8d5a0d"
      },
      "execution_count": 51,
      "outputs": [
        {
          "output_type": "stream",
          "name": "stderr",
          "text": [
            "/usr/local/lib/python3.7/dist-packages/ipykernel_launcher.py:13: DataConversionWarning: A column-vector y was passed when a 1d array was expected. Please change the shape of y to (n_samples,), for example using ravel().\n",
            "  del sys.path[0]\n"
          ]
        },
        {
          "output_type": "execute_result",
          "data": {
            "text/plain": [
              "RandomForestClassifier(max_depth=2, random_state=0)"
            ]
          },
          "metadata": {},
          "execution_count": 51
        }
      ]
    },
    {
      "cell_type": "markdown",
      "source": [
        "**Questão 9** - Treine um modelo similar ao da questão 8\n",
        " incluindo a variável **'horas_estudo'**.  (**0.5 pontos**)"
      ],
      "metadata": {
        "id": "9zodC9Vzatgu"
      }
    },
    {
      "cell_type": "code",
      "source": [
        "treino_3 = candidatos.sample(int(len(candidatos)*0.8))\n",
        "\n",
        "X_treino_3 = treino_3[['horas_estudo', 'anos', 'biologicas', 'exatas' , 'privada']]\n",
        "y_treino_3 = treino_3[[\"aprovado\"]]\n",
        "\n",
        "teste_3 = candidatos[~candidatos.index.isin(treino_3.index)]\n",
        "\n",
        "X_teste_3 = teste_3[['anos','biologicas','exatas','privada', 'horas_estudo']]\n",
        "y_teste_3 = teste_3[[\"aprovado\"]]\n",
        "\n",
        "RandomForest_2= RandomForestClassifier(n_estimators = 100 ,max_depth = 2, random_state = 0)\n",
        "RandomForest_2.fit(X_treino_3, y_treino_3)"
      ],
      "metadata": {
        "id": "WMf-irpIat19",
        "colab": {
          "base_uri": "https://localhost:8080/"
        },
        "outputId": "1aa08e49-b02e-48fd-d79e-f2ef1fadbb60"
      },
      "execution_count": 63,
      "outputs": [
        {
          "output_type": "stream",
          "name": "stderr",
          "text": [
            "/usr/local/lib/python3.7/dist-packages/ipykernel_launcher.py:12: DataConversionWarning: A column-vector y was passed when a 1d array was expected. Please change the shape of y to (n_samples,), for example using ravel().\n",
            "  if sys.path[0] == '':\n"
          ]
        },
        {
          "output_type": "execute_result",
          "data": {
            "text/plain": [
              "RandomForestClassifier(max_depth=2, random_state=0)"
            ]
          },
          "metadata": {},
          "execution_count": 63
        }
      ]
    },
    {
      "cell_type": "markdown",
      "source": [
        "**Questão 10** - Utiliz a matriz de confusão para justificar qual modelo você iriá escolher como o melhor o da questão 8, sem a variável **'horas_estudo'**, ou do da questão 9 com a variável **'horas_estudo'**. Utilize o código abaixo para isso.  (**2.5 pontos**)"
      ],
      "metadata": {
        "id": "KdMYqDP9a-40"
      }
    },
    {
      "cell_type": "code",
      "source": [
        "from sklearn.metrics import plot_confusion_matrix\n",
        "from matplotlib import pyplot as plt\n",
        "\n",
        "_ , ax = plt.subplots(figsize=(10, 10))\n",
        "plot_confusion_matrix(RandomForest_2, X_teste_3, y_teste_3, ax=ax)\n",
        "plt.title('Matriz de Confusão')\n",
        "plt.show()"
      ],
      "metadata": {
        "id": "5gJbL_OxbXtW",
        "colab": {
          "base_uri": "https://localhost:8080/",
          "height": 708
        },
        "outputId": "e2b7b4c9-08ca-4780-800b-c536208da2ac"
      },
      "execution_count": 64,
      "outputs": [
        {
          "output_type": "stream",
          "name": "stderr",
          "text": [
            "/usr/local/lib/python3.7/dist-packages/sklearn/utils/deprecation.py:87: FutureWarning: Function plot_confusion_matrix is deprecated; Function `plot_confusion_matrix` is deprecated in 1.0 and will be removed in 1.2. Use one of the class methods: ConfusionMatrixDisplay.from_predictions or ConfusionMatrixDisplay.from_estimator.\n",
            "  warnings.warn(msg, category=FutureWarning)\n",
            "/usr/local/lib/python3.7/dist-packages/sklearn/base.py:493: FutureWarning: The feature names should match those that were passed during fit. Starting version 1.2, an error will be raised.\n",
            "Feature names must be in the same order as they were in fit.\n",
            "\n",
            "  warnings.warn(message, FutureWarning)\n"
          ]
        },
        {
          "output_type": "display_data",
          "data": {
            "text/plain": [
              "<Figure size 720x720 with 2 Axes>"
            ],
            "image/png": "[encoded data removed]"
          },
          "metadata": {
            "needs_background": "light"
          }
        }
      ]
    },
    {
      "cell_type": "markdown",
      "source": [
        "**Questão 11** - Faca um resumo de tudo que você estudou para essa prova. Quanto mais completo for o resumo, mais próximo da pontuação total será a nota dessa questão. (**2.0 pontos**)"
      ],
      "metadata": {
        "id": "TBHuojoibzZ0"
      }
    },
    {
      "cell_type": "markdown",
      "source": [
        "# Resposta\n",
        "\n",
        "\n",
        "Nessa prova eu estudei 3 pontos principais:\n",
        "\n",
        "Pandas\n",
        "Regressão Linear\n",
        "Random Forest\n",
        "\n",
        "Pandas é a biblioteca mais completa para a anipulação de datasets, tendo várias funções para a facilitação de tratamento, interpretação e visualização de dados.\n",
        "\n",
        "\n",
        "A Regressão Linear consiste em um calculo que gera um gráfico de previsão. Ela ajuda a entender comportamentos que se repetem ao longo do tempo.\n",
        "\n",
        "Random Forest é um modelo de machine learning classificador que consegue ajudar a interpretar resultados futuros de forma muito mais precisa. criando uma espécie de floresta de árvores de decisão."
      ],
      "metadata": {
        "id": "Wcuqu9N5cBbB"
      }
    }
  ]
}