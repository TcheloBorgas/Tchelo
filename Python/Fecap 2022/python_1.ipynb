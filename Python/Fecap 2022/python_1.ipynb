{
  "nbformat": 4,
  "nbformat_minor": 0,
  "metadata": {
    "colab": {
      "name": "python 1.ipynb",
      "provenance": []
    },
    "kernelspec": {
      "name": "python3",
      "display_name": "Python 3"
    },
    "language_info": {
      "name": "python"
    }
  },
  "cells": [
    {
      "cell_type": "code",
      "execution_count": 18,
      "metadata": {
        "id": "A5kRhXlKfj-1"
      },
      "outputs": [],
      "source": [
        "nota = 10"
      ]
    },
    {
      "cell_type": "code",
      "source": [
        "nome = 'Pedro'"
      ],
      "metadata": {
        "id": "Wl6B0akfgTDd"
      },
      "execution_count": 28,
      "outputs": []
    },
    {
      "cell_type": "code",
      "source": [
        "print(f\"A nota  do aluno {nome} e {}\")"
      ],
      "metadata": {
        "colab": {
          "base_uri": "https://localhost:8080/"
        },
        "id": "ADgsEwIrhsvs",
        "outputId": "8607f361-cc07-411c-b2b7-d89327dd10e7"
      },
      "execution_count": 29,
      "outputs": [
        {
          "output_type": "stream",
          "name": "stdout",
          "text": [
            "A nota  do aluno Pedro e 10\n"
          ]
        }
      ]
    },
    {
      "cell_type": "code",
      "source": [
        "print(\"My name is {nome}, I'm {age}\".format(nome = \"John\", age = 36))"
      ],
      "metadata": {
        "colab": {
          "base_uri": "https://localhost:8080/"
        },
        "id": "RM2gvXVJjfh0",
        "outputId": "6104169f-d3e0-44ef-d9f0-152c036fac82"
      },
      "execution_count": 33,
      "outputs": [
        {
          "output_type": "stream",
          "name": "stdout",
          "text": [
            "My name is John, I'm 36\n"
          ]
        }
      ]
    },
    {
      "cell_type": "code",
      "source": [
        "def minhaFuncao():\n",
        "  print(\"Ola mundo\")"
      ],
      "metadata": {
        "id": "Sr52LLgykK0J"
      },
      "execution_count": 34,
      "outputs": []
    },
    {
      "cell_type": "code",
      "source": [
        "minhaFuncao()"
      ],
      "metadata": {
        "colab": {
          "base_uri": "https://localhost:8080/"
        },
        "id": "JatRDR08kRq3",
        "outputId": "dd1a6c10-1a83-42e4-a077-6c17161ef45c"
      },
      "execution_count": 36,
      "outputs": [
        {
          "output_type": "stream",
          "name": "stdout",
          "text": [
            "Ola mundo\n"
          ]
        }
      ]
    },
    {
      "cell_type": "code",
      "source": [
        "def Curruculo(curriculo):\n",
        "  #chamar a funcao clf\n",
        "  #y_pred = clf.predict(X_test)\n",
        "  return 'Data Science'"
      ],
      "metadata": {
        "id": "4rNvypxkkXQI"
      },
      "execution_count": 37,
      "outputs": []
    },
    {
      "cell_type": "code",
      "source": [
        "curriculo_texto = \"Education Details MCA YMCAUST, Faridabad, Haryana Data Science internship Skill Details Data Structure- Exprience - Less than 1 year months C- Exprience - Less than 1 year months Data Analysis- Exprience - Less than 1 year months Python- Exprience - Less than 1 year months Core Java- Exprience - Less than 1 year months Database Management- Exprience - Less than 1 year monthsCompany Details company - Itechpower description -\""
      ],
      "metadata": {
        "id": "ubXpCv0Pk1oi"
      },
      "execution_count": 39,
      "outputs": []
    },
    {
      "cell_type": "code",
      "source": [
        "categoria = Curruculo(curriculo_texto)\n",
        "print(categoria)"
      ],
      "metadata": {
        "colab": {
          "base_uri": "https://localhost:8080/"
        },
        "id": "F7msyKF_krBj",
        "outputId": "b303b522-5169-4563-f166-f2b42e036afd"
      },
      "execution_count": 40,
      "outputs": [
        {
          "output_type": "stream",
          "name": "stdout",
          "text": [
            "Data Science\n"
          ]
        }
      ]
    },
    {
      "cell_type": "markdown",
      "source": [
        ""
      ],
      "metadata": {
        "id": "GLVxuoGLivFL"
      }
    }
  ]
}