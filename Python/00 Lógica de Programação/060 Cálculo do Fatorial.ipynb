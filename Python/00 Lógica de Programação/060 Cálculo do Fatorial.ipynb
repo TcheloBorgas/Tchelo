{
 "cells": [
  {
   "cell_type": "code",
   "execution_count": 14,
   "id": "9ca2cb57",
   "metadata": {},
   "outputs": [
    {
     "name": "stdout",
     "output_type": "stream",
     "text": [
      "━━━━━━━━━❮◆❯━━━━━━━━━\n",
      "Desafio 060\n",
      "━━━━━━━━━❮◆❯━━━━━━━━━\n",
      "\n",
      "Bota o número ae: 5\n",
      "\n",
      "O fatorial de 5 é 120\n",
      "5  x 4  x 3  x 2  x 1 =120\n"
     ]
    }
   ],
   "source": [
    "print('━━━━━━━━━❮◆❯━━━━━━━━━')\n",
    "print(     'Desafio 060')\n",
    "print('━━━━━━━━━❮◆❯━━━━━━━━━')\n",
    "print('')\n",
    "\n",
    "#Faça um programa que leia um número qualquer e mostre o seu fatorial.\n",
    "from math import factorial\n",
    "\n",
    "numero =int(input('Bota o número ae: '))\n",
    "print('')\n",
    "\n",
    "fatorial =factorial(numero)\n",
    "print('O fatorial de {} é {}'.format(numero, fatorial))\n",
    "#segundo metodo\n",
    "\n",
    "num2 =numero\n",
    "f =1\n",
    "\n",
    "while num2 >0:\n",
    "    print('{} '.format(num2), end='')\n",
    "    print(' x 'if num2 >1 else '=',end='')\n",
    "    f*=num2\n",
    "    num2-=1\n",
    "print('{}'.format(f))\n",
    "    \n",
    "\n",
    "\n",
    "\n"
   ]
  },
  {
   "cell_type": "code",
   "execution_count": null,
   "id": "a1b34b15",
   "metadata": {},
   "outputs": [],
   "source": []
  }
 ],
 "metadata": {
  "kernelspec": {
   "display_name": "Python 3 (ipykernel)",
   "language": "python",
   "name": "python3"
  },
  "language_info": {
   "codemirror_mode": {
    "name": "ipython",
    "version": 3
   },
   "file_extension": ".py",
   "mimetype": "text/x-python",
   "name": "python",
   "nbconvert_exporter": "python",
   "pygments_lexer": "ipython3",
   "version": "3.9.7"
  }
 },
 "nbformat": 4,
 "nbformat_minor": 5
}
