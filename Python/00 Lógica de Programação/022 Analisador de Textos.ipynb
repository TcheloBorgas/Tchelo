{
 "cells": [
  {
   "cell_type": "code",
   "execution_count": 2,
   "id": "d10d4617",
   "metadata": {},
   "outputs": [
    {
     "name": "stdout",
     "output_type": "stream",
     "text": [
      "━━━━━━━━━❮◆❯━━━━━━━━━\n",
      "Desafio 022\n",
      "━━━━━━━━━❮◆❯━━━━━━━━━\n",
      "\n",
      "Digite seu nome completo: Marcelo Henrique Góes Da Costa Borgas\n",
      "\n",
      "Seu nome em maiusculo fica MARCELO HENRIQUE GÓES DA COSTA BORGAS\n",
      "Seu nome em minusculo fica marcelo henrique góes da costa borgas\n",
      "\n",
      "Seu nome tem 37 letras\n"
     ]
    }
   ],
   "source": [
    "print('━━━━━━━━━❮◆❯━━━━━━━━━')\n",
    "print(     'Desafio 022')\n",
    "print('━━━━━━━━━❮◆❯━━━━━━━━━')\n",
    "print('')\n",
    "\n",
    "#Crie um programa que leia o nome completo de uma pessoa e mostre: \n",
    "#- O nome com todas as letras maiúsculas e minúsculas.\n",
    "#- Quantas letras ao todo (sem considerar espaços).\n",
    "#- Quantas letras tem o primeiro nome.\n",
    "\n",
    "nome =str(input('Digite seu nome completo: ')).strip()\n",
    "print('')\n",
    "\n",
    "print('Seu nome em maiusculo fica {}'.format(nome.upper()))\n",
    "print('Seu nome em minusculo fica {}'.format(nome.lower()))\n",
    "print('')\n",
    "\n",
    "print('Seu nome tem {} letras'.format(len(nome) -nome.count(' ')))\n",
    "print('Seu primeiro nome tem {} letras'.format(nome.find(' ')))\n",
    "#separando o nome com .split()\n",
    "\n",
    "#separa =nome.split()\n",
    "#print('Seu primeiro nome tem {} letras'.format(separa[0]))\n"
   ]
  }
 ],
 "metadata": {
  "kernelspec": {
   "display_name": "Python 3 (ipykernel)",
   "language": "python",
   "name": "python3"
  },
  "language_info": {
   "codemirror_mode": {
    "name": "ipython",
    "version": 3
   },
   "file_extension": ".py",
   "mimetype": "text/x-python",
   "name": "python",
   "nbconvert_exporter": "python",
   "pygments_lexer": "ipython3",
   "version": "3.9.7"
  }
 },
 "nbformat": 4,
 "nbformat_minor": 5
}
