{
 "cells": [
  {
   "cell_type": "code",
   "execution_count": 1,
   "id": "a21a1c23",
   "metadata": {},
   "outputs": [
    {
     "name": "stdout",
     "output_type": "stream",
     "text": [
      "━━━━━━━━━❮◆❯━━━━━━━━━\n",
      "Desafio 097\n",
      "━━━━━━━━━❮◆❯━━━━━━━━━\n",
      "\n",
      "Digite uma frase: natalia\n",
      "━━━━━━━━━━━\n",
      "natalia\n",
      "━━━━━━━━━━━\n",
      "\n"
     ]
    }
   ],
   "source": [
    "print('━━━━━━━━━❮◆❯━━━━━━━━━')\n",
    "print(     'Desafio 097')\n",
    "print('━━━━━━━━━❮◆❯━━━━━━━━━')\n",
    "print('')\n",
    "\n",
    "#Faça um programa que tenha uma função chamada escreva(),\n",
    "#que receba um texto qualquer como parâmetro e mostre uma mensagem com tamanho adaptável.\n",
    "\n",
    "def escreva(txt):\n",
    "    tam =len(txt) +4\n",
    "    \n",
    "    print('━'*tam)\n",
    "    print(txt)\n",
    "    print('━'*tam)\n",
    "    print('')\n",
    "    \n",
    "    \n",
    "frase =input('Digite uma frase: ')\n",
    "escreva(frase)"
   ]
  }
 ],
 "metadata": {
  "kernelspec": {
   "display_name": "Python 3 (ipykernel)",
   "language": "python",
   "name": "python3"
  },
  "language_info": {
   "codemirror_mode": {
    "name": "ipython",
    "version": 3
   },
   "file_extension": ".py",
   "mimetype": "text/x-python",
   "name": "python",
   "nbconvert_exporter": "python",
   "pygments_lexer": "ipython3",
   "version": "3.9.7"
  }
 },
 "nbformat": 4,
 "nbformat_minor": 5
}
