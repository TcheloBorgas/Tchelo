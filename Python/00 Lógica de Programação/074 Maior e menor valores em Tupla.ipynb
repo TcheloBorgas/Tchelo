{
 "cells": [
  {
   "cell_type": "code",
   "execution_count": 2,
   "id": "e539c489",
   "metadata": {},
   "outputs": [
    {
     "name": "stdout",
     "output_type": "stream",
     "text": [
      "━━━━━━━━━❮◆❯━━━━━━━━━\n",
      "Desafio 073\n",
      "━━━━━━━━━❮◆❯━━━━━━━━━\n",
      "\n",
      "Os valores sorteados são (10, 1, 4, 0, 5)\n",
      "O maior valor é 10\n",
      "O menor valor é 0\n"
     ]
    }
   ],
   "source": [
    "print('━━━━━━━━━❮◆❯━━━━━━━━━')\n",
    "print(     'Desafio 073')\n",
    "print('━━━━━━━━━❮◆❯━━━━━━━━━')\n",
    "print('')\n",
    "\n",
    "#Crie um programa que vai gerar cinco números aleatórios e colocar em uma tupla.\n",
    "#Depois disso, mostre a listagem de números gerados e também indique o menor e o maior valor que estão na tupla.\n",
    "\n",
    "from random import randint\n",
    "\n",
    "tupla =(randint(0,10),randint(0,10),\n",
    "       randint(0,10),randint(0,10),randint(0,10))\n",
    "\n",
    "print(f'Os valores sorteados são {tupla}')\n",
    "print('')\n",
    "\n",
    "\n",
    "print('O maior valor é {}'.format(max(tupla)))\n",
    "print('O menor valor é {}'.format(min(tupla)))"
   ]
  }
 ],
 "metadata": {
  "kernelspec": {
   "display_name": "Python 3 (ipykernel)",
   "language": "python",
   "name": "python3"
  },
  "language_info": {
   "codemirror_mode": {
    "name": "ipython",
    "version": 3
   },
   "file_extension": ".py",
   "mimetype": "text/x-python",
   "name": "python",
   "nbconvert_exporter": "python",
   "pygments_lexer": "ipython3",
   "version": "3.9.7"
  }
 },
 "nbformat": 4,
 "nbformat_minor": 5
}
