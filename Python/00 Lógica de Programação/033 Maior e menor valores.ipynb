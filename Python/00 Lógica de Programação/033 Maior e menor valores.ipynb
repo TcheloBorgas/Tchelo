{
 "cells": [
  {
   "cell_type": "code",
   "execution_count": 4,
   "id": "cd6200e7",
   "metadata": {},
   "outputs": [
    {
     "name": "stdout",
     "output_type": "stream",
     "text": [
      "━━━━━━━━━❮◆❯━━━━━━━━━\n",
      "Desafio 033\n",
      "━━━━━━━━━❮◆❯━━━━━━━━━\n",
      "\n",
      "Digite o primeiro número: 7\n",
      "Digite o segundo número: 2\n",
      "Digite o terceiro número: 4\n",
      "O maior número é: 7.0\n",
      "O menor número é: 2.0\n"
     ]
    }
   ],
   "source": [
    "print('━━━━━━━━━❮◆❯━━━━━━━━━')\n",
    "print(     'Desafio 033')\n",
    "print('━━━━━━━━━❮◆❯━━━━━━━━━')\n",
    "print('')\n",
    "\n",
    "#Faça um programa que leia três números e mostre qual é o maior e qual é o menor.\n",
    "\n",
    "num =float(input('Digite o primeiro número: '))\n",
    "num2 =float(input('Digite o segundo número: '))\n",
    "num3 =float(input('Digite o terceiro número: '))\n",
    "\n",
    "\n",
    "\n",
    "#quem é menor\n",
    "if num2 <num and num2 <num3:\n",
    "    menor =num2\n",
    "\n",
    "if num3 <num and num3<num2:\n",
    "    menor =num3\n",
    "    \n",
    "#quem é maior\n",
    "maior =num\n",
    "\n",
    "if num2 >num and num2 >num3:\n",
    "    maior =num2\n",
    "    \n",
    "if num3 >num and num3 >num2:\n",
    "    maior =num3\n",
    "    \n",
    "print('O maior número é: {}'.format(maior))\n",
    "print('O menor número é: {}'.format(menor))\n",
    "\n",
    "        "
   ]
  }
 ],
 "metadata": {
  "kernelspec": {
   "display_name": "Python 3 (ipykernel)",
   "language": "python",
   "name": "python3"
  },
  "language_info": {
   "codemirror_mode": {
    "name": "ipython",
    "version": 3
   },
   "file_extension": ".py",
   "mimetype": "text/x-python",
   "name": "python",
   "nbconvert_exporter": "python",
   "pygments_lexer": "ipython3",
   "version": "3.9.7"
  }
 },
 "nbformat": 4,
 "nbformat_minor": 5
}
