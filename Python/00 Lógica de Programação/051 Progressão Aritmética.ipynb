{
 "cells": [
  {
   "cell_type": "code",
   "execution_count": 2,
   "id": "4276860c",
   "metadata": {},
   "outputs": [
    {
     "name": "stdout",
     "output_type": "stream",
     "text": [
      "━━━━━━━━━❮◆❯━━━━━━━━━\n",
      "Desafio 051\n",
      "━━━━━━━━━❮◆❯━━━━━━━━━\n",
      "\n",
      "Primeiro termo: 0\n",
      "Razão: 2\n",
      "0\n",
      "2\n",
      "4\n",
      "6\n",
      "8\n",
      "10\n",
      "12\n",
      "14\n",
      "16\n"
     ]
    }
   ],
   "source": [
    "print('━━━━━━━━━❮◆❯━━━━━━━━━')\n",
    "print(     'Desafio 051')\n",
    "print('━━━━━━━━━❮◆❯━━━━━━━━━')\n",
    "print('')\n",
    "\n",
    "primeiro =int(input('Primeiro termo: '))\n",
    "razao =int(input('Razão: '))\n",
    "decimo =primeiro +(10-1)*razao\n",
    "\n",
    "\n",
    "for c in range(primeiro, decimo, razao):\n",
    "    print('{}'.format(c))\n",
    "\n",
    "\n",
    "#Desenvolva um programa que leia o primeiro termo e\n",
    "#a razão de uma PA. No final, mostre os 10 primeiros termos dessa progressão."
   ]
  }
 ],
 "metadata": {
  "kernelspec": {
   "display_name": "Python 3 (ipykernel)",
   "language": "python",
   "name": "python3"
  },
  "language_info": {
   "codemirror_mode": {
    "name": "ipython",
    "version": 3
   },
   "file_extension": ".py",
   "mimetype": "text/x-python",
   "name": "python",
   "nbconvert_exporter": "python",
   "pygments_lexer": "ipython3",
   "version": "3.9.7"
  }
 },
 "nbformat": 4,
 "nbformat_minor": 5
}
