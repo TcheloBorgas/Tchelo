{
 "cells": [
  {
   "cell_type": "code",
   "execution_count": 1,
   "id": "17e7ea0c",
   "metadata": {},
   "outputs": [
    {
     "name": "stdout",
     "output_type": "stream",
     "text": [
      "━━━━━━━━━❮◆❯━━━━━━━━━\n",
      "Desafio 061\n",
      "━━━━━━━━━❮◆❯━━━━━━━━━\n",
      "\n",
      "◈ ━━━━━━━━ ⸙ ━━━━━━━━ ◈\n",
      "     Gerador de PA\n",
      "◈ ━━━━━━━━ ⸙ ━━━━━━━━ ◈\n",
      "\n",
      "Número: 5\n",
      "Razão: 5\n",
      "5 =>10 =>15 =>20 =>25 =>30 =>35 =>40 =>45 =>50 =>"
     ]
    }
   ],
   "source": [
    "print('━━━━━━━━━❮◆❯━━━━━━━━━')\n",
    "print(     'Desafio 061')\n",
    "print('━━━━━━━━━❮◆❯━━━━━━━━━')\n",
    "print('')\n",
    "\n",
    "\n",
    "#Refaça o DESAFIO 051, lendo o primeiro termo e a razão de uma PA,\n",
    "#mostrando os 10 primeiros termos da progressão usando a estrutura while.\n",
    "\n",
    "print('◈ ━━━━━━━━ ⸙ ━━━━━━━━ ◈')\n",
    "print('     Gerador de PA')\n",
    "print('◈ ━━━━━━━━ ⸙ ━━━━━━━━ ◈')\n",
    "print('')\n",
    "\n",
    "\n",
    "primeiro =int(input('Número: '))\n",
    "razao =int(input('Razão: '))\n",
    "termo =primeiro\n",
    "\n",
    "cont=1\n",
    "\n",
    "while cont<=10:\n",
    "    print('{} =>'.format(termo), end='')\n",
    "    termo += razao\n",
    "    cont +=1"
   ]
  }
 ],
 "metadata": {
  "kernelspec": {
   "display_name": "Python 3 (ipykernel)",
   "language": "python",
   "name": "python3"
  },
  "language_info": {
   "codemirror_mode": {
    "name": "ipython",
    "version": 3
   },
   "file_extension": ".py",
   "mimetype": "text/x-python",
   "name": "python",
   "nbconvert_exporter": "python",
   "pygments_lexer": "ipython3",
   "version": "3.9.7"
  }
 },
 "nbformat": 4,
 "nbformat_minor": 5
}
