{
 "cells": [
  {
   "cell_type": "code",
   "execution_count": 5,
   "id": "e55a02e7",
   "metadata": {},
   "outputs": [
    {
     "name": "stdout",
     "output_type": "stream",
     "text": [
      "━━━━━━━━━❮◆❯━━━━━━━━━\n",
      "Desafio 068\n",
      "━━━━━━━━━❮◆❯━━━━━━━━━\n",
      "\n",
      "Par ou Ímpar [P/I]: p\n",
      "Digite seu número: 2\n",
      "\n",
      "Você jogou 2 e o computador jogou 8, totalizando 10\n",
      "Você venceu\n",
      "Par ou Ímpar [P/I]: p\n",
      "Digite seu número: 3\n",
      "\n",
      "Você jogou 3 e o computador jogou 10, totalizando 13\n",
      "Você perdeu\n",
      "Foi um bom jogo\n"
     ]
    }
   ],
   "source": [
    "print('━━━━━━━━━❮◆❯━━━━━━━━━')\n",
    "print(     'Desafio 068')\n",
    "print('━━━━━━━━━❮◆❯━━━━━━━━━')\n",
    "print('')\n",
    "\n",
    "#Faça um programa que jogue par ou ímpar com o computador.\n",
    "#O jogo só será interrompido quando o jogador perder, mostrando o total de vitórias\n",
    "#consecutivas que ele conquistou no final do jogo. \n",
    "\n",
    "import random\n",
    "\n",
    "while True:\n",
    "    escolha =str(input('Par ou Ímpar [P/I]: ')).strip().upper()\n",
    "    jogador =int(input('Digite seu número: '))\n",
    "    \n",
    "    pc =random.randint(0,10)\n",
    "    soma =jogador +pc\n",
    "    \n",
    "    print('')    \n",
    "    print('Você jogou {} e o computador jogou {}, totalizando {}'.format(jogador, pc, soma))\n",
    "    \n",
    "    \n",
    "    if escolha =='P':\n",
    "        if soma %2 ==0:\n",
    "            print('Você venceu')\n",
    "            \n",
    "        else:\n",
    "            print('Você perdeu')\n",
    "            break\n",
    "    elif escolha =='I':\n",
    "        if soma %2 ==0:\n",
    "            print('Você perdeu')\n",
    "            break\n",
    "            \n",
    "        else:\n",
    "            print('Você ganhou')\n",
    "    \n",
    "print('Foi um bom jogo')"
   ]
  },
  {
   "cell_type": "code",
   "execution_count": null,
   "id": "d76175fa",
   "metadata": {},
   "outputs": [],
   "source": []
  }
 ],
 "metadata": {
  "kernelspec": {
   "display_name": "Python 3 (ipykernel)",
   "language": "python",
   "name": "python3"
  },
  "language_info": {
   "codemirror_mode": {
    "name": "ipython",
    "version": 3
   },
   "file_extension": ".py",
   "mimetype": "text/x-python",
   "name": "python",
   "nbconvert_exporter": "python",
   "pygments_lexer": "ipython3",
   "version": "3.9.7"
  }
 },
 "nbformat": 4,
 "nbformat_minor": 5
}
