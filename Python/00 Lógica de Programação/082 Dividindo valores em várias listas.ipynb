{
 "cells": [
  {
   "cell_type": "code",
   "execution_count": 7,
   "id": "17d1e5b0",
   "metadata": {},
   "outputs": [
    {
     "name": "stdout",
     "output_type": "stream",
     "text": [
      "━━━━━━━━━❮◆❯━━━━━━━━━\n",
      "Desafio 082\n",
      "━━━━━━━━━❮◆❯━━━━━━━━━\n",
      "\n",
      "Aperte enter para encerrar o progrma: \n",
      "\n",
      "Digite um número:2\n",
      "\n",
      "Deseja continuar? [S/N] s\n",
      "\n",
      "Digite um número:4\n",
      "\n",
      "Deseja continuar? [S/N] s\n",
      "\n",
      "Digite um número:5\n",
      "\n",
      "Deseja continuar? [S/N] s\n",
      "\n",
      "Digite um número:6\n",
      "\n",
      "Deseja continuar? [S/N] \n",
      "\n",
      " Lista completa [2.0, 4.0, 5.0, 6.0]\n",
      " Lista pares: [2.0, 4.0, 6.0]\n",
      " Lista impares [5.0]\n"
     ]
    }
   ],
   "source": [
    "print('━━━━━━━━━❮◆❯━━━━━━━━━')\n",
    "print(     'Desafio 082')\n",
    "print('━━━━━━━━━❮◆❯━━━━━━━━━')\n",
    "print('')\n",
    "\n",
    "#Crie um programa que vai ler vários números e colocar em uma lista.\n",
    "#Depois disso, crie duas listas extras que vão conter apenas os valores\n",
    "#pares e os valores ímpares digitados, respectivamente. Ao final,\n",
    "#mostre o conteúdo das três listas geradas.\n",
    "\n",
    "pares =[]\n",
    "impares =[]\n",
    "todos =[]\n",
    "\n",
    "print('Aperte enter para encerrar o progrma: ')\n",
    "print('')\n",
    "\n",
    "while True:\n",
    "    \n",
    "    \n",
    "    num =float(input('Digite um número:'))\n",
    "    print('')\n",
    "    \n",
    "    if num %2 ==0:\n",
    "        pares.append(num)\n",
    "        \n",
    "    else:\n",
    "        impares.append(num)\n",
    "        \n",
    "    todos.append(num)\n",
    "    opc =input('Deseja continuar? [S/N] ').upper()\n",
    "    print('')\n",
    "    \n",
    "    if opc =='' or opc =='N':\n",
    "        break\n",
    "    else:\n",
    "        pass\n",
    "    \n",
    "print(' Lista completa {}'.format(todos))\n",
    "print(' Lista pares: {}'.format(pares))\n",
    "print(' Lista impares {}'.format(impares))"
   ]
  },
  {
   "cell_type": "code",
   "execution_count": null,
   "id": "3e10643a",
   "metadata": {},
   "outputs": [],
   "source": []
  }
 ],
 "metadata": {
  "kernelspec": {
   "display_name": "Python 3 (ipykernel)",
   "language": "python",
   "name": "python3"
  },
  "language_info": {
   "codemirror_mode": {
    "name": "ipython",
    "version": 3
   },
   "file_extension": ".py",
   "mimetype": "text/x-python",
   "name": "python",
   "nbconvert_exporter": "python",
   "pygments_lexer": "ipython3",
   "version": "3.9.7"
  }
 },
 "nbformat": 4,
 "nbformat_minor": 5
}
