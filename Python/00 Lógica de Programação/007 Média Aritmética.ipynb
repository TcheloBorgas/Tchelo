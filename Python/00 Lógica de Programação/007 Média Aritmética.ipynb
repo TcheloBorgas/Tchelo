{
 "cells": [
  {
   "cell_type": "code",
   "execution_count": 1,
   "id": "615bd792",
   "metadata": {},
   "outputs": [
    {
     "name": "stdout",
     "output_type": "stream",
     "text": [
      "━━━━━━━━━❮◆❯━━━━━━━━━\n",
      "Desafio 007\n",
      "━━━━━━━━━❮◆❯━━━━━━━━━\n",
      "\n",
      "Digite a primeira nota: 10\n",
      "Digite a segunda nota: 5\n",
      "\n",
      "A média do aluno é 7.50\n"
     ]
    }
   ],
   "source": [
    "print('━━━━━━━━━❮◆❯━━━━━━━━━')\n",
    "print(     'Desafio 007')\n",
    "print('━━━━━━━━━❮◆❯━━━━━━━━━')\n",
    "print('')\n",
    "\n",
    "#Desenvolva um programa que leia as duas notas de um aluno, calcule e mostre a sua média.\n",
    "\n",
    "nota =float(input('Digite a primeira nota: '))\n",
    "nota2 =float(input('Digite a segunda nota: '))\n",
    "print('')\n",
    "\n",
    "media =(nota +nota2)/2\n",
    "\n",
    "print('A média do aluno é {:.2f}'.format(media))"
   ]
  }
 ],
 "metadata": {
  "kernelspec": {
   "display_name": "Python 3 (ipykernel)",
   "language": "python",
   "name": "python3"
  },
  "language_info": {
   "codemirror_mode": {
    "name": "ipython",
    "version": 3
   },
   "file_extension": ".py",
   "mimetype": "text/x-python",
   "name": "python",
   "nbconvert_exporter": "python",
   "pygments_lexer": "ipython3",
   "version": "3.9.7"
  }
 },
 "nbformat": 4,
 "nbformat_minor": 5
}
