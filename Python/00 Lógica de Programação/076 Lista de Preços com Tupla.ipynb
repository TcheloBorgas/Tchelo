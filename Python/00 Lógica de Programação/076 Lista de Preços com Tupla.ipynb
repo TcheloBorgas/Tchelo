{
 "cells": [
  {
   "cell_type": "code",
   "execution_count": 7,
   "id": "f1ad23b2",
   "metadata": {},
   "outputs": [
    {
     "name": "stdout",
     "output_type": "stream",
     "text": [
      "━━━━━━━━━❮◆❯━━━━━━━━━\n",
      "Desafio 076\n",
      "━━━━━━━━━❮◆❯━━━━━━━━━\n",
      "\n",
      "━━━━━━━━━━━━━━━━━━━━━━━━━━━━━━━━━━━━━━━━\n",
      "           Listagem De Produtos\n",
      "━━━━━━━━━━━━━━━━━━━━━━━━━━━━━━━━━━━━━━━━\n",
      "\n",
      "Livro:  ....................  R$120.00\n",
      "Caderno:  ....................  R$25.00\n",
      "Lápis:  ....................  R$1.75\n",
      "Borracha:  ....................  R$12.00\n",
      "Estojo:  ....................  R$30.00\n",
      "Transferidor:  ....................  R$20.00\n",
      "Caneta:  ....................  R$2.00\n",
      "Mochila:  ....................  R$1200.00\n"
     ]
    }
   ],
   "source": [
    "print('━━━━━━━━━❮◆❯━━━━━━━━━')\n",
    "print(     'Desafio 076')\n",
    "print('━━━━━━━━━❮◆❯━━━━━━━━━')\n",
    "print('')\n",
    "\n",
    "#Crie um programa que tenha uma tupla única com nomes de produtos\n",
    "#e seus respectivos preços, na sequência. No final, mostre uma listagem\n",
    "#de preços, organizando os dados em forma tabular.\n",
    "\n",
    "tupla =('Livro', 120,\n",
    "       'Caderno', 25,\n",
    "       'Lápis', 1.75,\n",
    "       'Borracha', 12,\n",
    "       'Estojo', 30,\n",
    "       'Transferidor', 20,\n",
    "       'Caneta', 2,\n",
    "       'Mochila',1200)\n",
    "\n",
    "print('━'*40)\n",
    "print('           Listagem De Produtos')\n",
    "print('━'*40)\n",
    "print('')\n",
    "\n",
    "for pos in range(0,len(tupla)):\n",
    "    if pos %2 ==0:\n",
    "        print('{}: '.format(tupla[pos]), '.'*20, ' ', end='')\n",
    "    else:\n",
    "        print('R${:.2f}'.format(tupla[pos]))\n"
   ]
  }
 ],
 "metadata": {
  "kernelspec": {
   "display_name": "Python 3 (ipykernel)",
   "language": "python",
   "name": "python3"
  },
  "language_info": {
   "codemirror_mode": {
    "name": "ipython",
    "version": 3
   },
   "file_extension": ".py",
   "mimetype": "text/x-python",
   "name": "python",
   "nbconvert_exporter": "python",
   "pygments_lexer": "ipython3",
   "version": "3.9.7"
  }
 },
 "nbformat": 4,
 "nbformat_minor": 5
}
