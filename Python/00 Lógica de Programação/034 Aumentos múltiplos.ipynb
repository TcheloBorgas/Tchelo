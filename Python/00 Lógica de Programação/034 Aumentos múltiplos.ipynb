{
 "cells": [
  {
   "cell_type": "code",
   "execution_count": 1,
   "id": "4ce1d77a",
   "metadata": {},
   "outputs": [
    {
     "name": "stdout",
     "output_type": "stream",
     "text": [
      "━━━━━━━━━❮◆❯━━━━━━━━━\n",
      "Desafio 034\n",
      "━━━━━━━━━❮◆❯━━━━━━━━━\n",
      "\n",
      "Digite o salário: 900\n",
      "\n",
      "O salário com o aumento fica: 1035.0\n"
     ]
    }
   ],
   "source": [
    "print('━━━━━━━━━❮◆❯━━━━━━━━━')\n",
    "print(     'Desafio 034')\n",
    "print('━━━━━━━━━❮◆❯━━━━━━━━━')\n",
    "print('')\n",
    "\n",
    "#Escreva um programa que pergunte o salário de um funcionário e calcule o valor do seu aumento.\n",
    "#Para salários superiores a R$1250,00, calcule um aumento de 10%. Para os inferiores ou iguais, o aumento é de 15%.\n",
    "\n",
    "salario =float(input('Digite o salário: '))\n",
    "print('')\n",
    "\n",
    "if salario >1250:\n",
    "    aumento =salario +(salario*10)/100\n",
    "    print('O salário com o aumento fica: {}'.format(aumento))\n",
    "    \n",
    "else:\n",
    "    aumento =salario +(salario*15)/100\n",
    "    print('O salário com o aumento fica: {}'.format(aumento))    "
   ]
  }
 ],
 "metadata": {
  "kernelspec": {
   "display_name": "Python 3 (ipykernel)",
   "language": "python",
   "name": "python3"
  },
  "language_info": {
   "codemirror_mode": {
    "name": "ipython",
    "version": 3
   },
   "file_extension": ".py",
   "mimetype": "text/x-python",
   "name": "python",
   "nbconvert_exporter": "python",
   "pygments_lexer": "ipython3",
   "version": "3.9.7"
  }
 },
 "nbformat": 4,
 "nbformat_minor": 5
}
