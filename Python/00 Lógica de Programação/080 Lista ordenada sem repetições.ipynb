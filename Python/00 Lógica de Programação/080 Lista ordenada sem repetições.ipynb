{
 "cells": [
  {
   "cell_type": "code",
   "execution_count": 3,
   "id": "707cc3d0",
   "metadata": {},
   "outputs": [
    {
     "name": "stdout",
     "output_type": "stream",
     "text": [
      "━━━━━━━━━❮◆❯━━━━━━━━━\n",
      "Desafio 080\n",
      "━━━━━━━━━❮◆❯━━━━━━━━━\n",
      "\n",
      "Digiite um número: 1\n",
      "\n",
      "Adicionado ao final da lista! \n",
      "\n",
      "Digiite um número: 3\n",
      "\n",
      "Adicionado ao final da lista! \n",
      "\n",
      "Digiite um número: 5\n",
      "\n",
      "Adicionado ao final da lista! \n",
      "\n",
      "Digiite um número: 6\n",
      "\n",
      "Adicionado ao final da lista! \n",
      "\n",
      "Digiite um número: 7\n",
      "\n",
      "Adicionado ao final da lista! \n",
      "\n",
      "Os valores digitados em ordem foram [1.0, 3.0, 5.0, 6.0, 7.0]\n"
     ]
    }
   ],
   "source": [
    "print('━━━━━━━━━❮◆❯━━━━━━━━━')\n",
    "print(     'Desafio 080')\n",
    "print('━━━━━━━━━❮◆❯━━━━━━━━━')\n",
    "print('')\n",
    "\n",
    "#Crie um programa onde o usuário possa digitar cinco valores\n",
    "#numéricos e cadastre-os em uma lista, já na posição correta\n",
    "#de inserção (sem usar o sort()). No final, mostre a lista ordenada na tela.\n",
    "\n",
    "lista =[]\n",
    "\n",
    "for i in range(5):\n",
    "    num =float(input('Digiite um número: '))\n",
    "    print('')\n",
    "    if i ==0 or num >lista[-1]:\n",
    "        lista.append(num)\n",
    "        print('Adicionado ao final da lista! ')\n",
    "        print('')\n",
    "        \n",
    "    else:\n",
    "        pos =0\n",
    "        while pos <len(lista):\n",
    "            if num <= lista[pos]:\n",
    "                lista.insert(pos,num)\n",
    "                print('Adicionado a posição {} da lista! '.format(pos))\n",
    "                break\n",
    "            pos +=1\n",
    "            \n",
    "print(f'Os valores digitados em ordem foram {lista}')"
   ]
  }
 ],
 "metadata": {
  "kernelspec": {
   "display_name": "Python 3 (ipykernel)",
   "language": "python",
   "name": "python3"
  },
  "language_info": {
   "codemirror_mode": {
    "name": "ipython",
    "version": 3
   },
   "file_extension": ".py",
   "mimetype": "text/x-python",
   "name": "python",
   "nbconvert_exporter": "python",
   "pygments_lexer": "ipython3",
   "version": "3.9.7"
  }
 },
 "nbformat": 4,
 "nbformat_minor": 5
}
