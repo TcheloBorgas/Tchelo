{
 "cells": [
  {
   "cell_type": "code",
   "execution_count": 3,
   "id": "822aaf7c",
   "metadata": {},
   "outputs": [
    {
     "name": "stdout",
     "output_type": "stream",
     "text": [
      "━━━━━━━━━❮◆❯━━━━━━━━━\n",
      "Desafio 036\n",
      "━━━━━━━━━❮◆❯━━━━━━━━━\n",
      "\n",
      "Digite o valor da casa: 200000\n",
      "Digite o salário: 5000\n",
      "Em quantos anos será paga a casa? 20\n",
      "\n",
      "Empréstimo concedido!\n",
      "Para pagar a casa em 20 anos a prestção custará 833.33\n"
     ]
    }
   ],
   "source": [
    "print('━━━━━━━━━❮◆❯━━━━━━━━━')\n",
    "print(     'Desafio 036')\n",
    "print('━━━━━━━━━❮◆❯━━━━━━━━━')\n",
    "print('')\n",
    "\n",
    "#Escreva um programa para aprovar o empréstimo bancário para a compra de uma casa.\n",
    "#Pergunte o valor da casa, o salário do comprador e em quantos anos ele vai pagar.\n",
    "#A prestação mensal não pode exceder 30% do salário ou então o empréstimo será negado.\n",
    "\n",
    "\n",
    "casa =float(input('Digite o valor da casa: '))\n",
    "salario =float(input('Digite o salário: '))\n",
    "anos = int(input('Em quantos anos será paga a casa? '))\n",
    "print('')\n",
    "\n",
    "prestacao =casa /(anos*12)\n",
    "minimo =salario*30 /100\n",
    "\n",
    "if prestacao <=minimo:\n",
    "    print('Empréstimo concedido!')\n",
    "    print('Para pagar a casa em {} anos a prestção custará {:.2f}'.format(anos, prestacao))\n",
    "    \n",
    "else:\n",
    "    print('Empréstimo negado, sinto muito')"
   ]
  }
 ],
 "metadata": {
  "kernelspec": {
   "display_name": "Python 3 (ipykernel)",
   "language": "python",
   "name": "python3"
  },
  "language_info": {
   "codemirror_mode": {
    "name": "ipython",
    "version": 3
   },
   "file_extension": ".py",
   "mimetype": "text/x-python",
   "name": "python",
   "nbconvert_exporter": "python",
   "pygments_lexer": "ipython3",
   "version": "3.9.7"
  }
 },
 "nbformat": 4,
 "nbformat_minor": 5
}
