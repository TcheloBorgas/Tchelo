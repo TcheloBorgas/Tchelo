{
 "cells": [
  {
   "cell_type": "code",
   "execution_count": 6,
   "id": "74e799ae",
   "metadata": {},
   "outputs": [
    {
     "name": "stdout",
     "output_type": "stream",
     "text": [
      "━━━━━━━━━❮◆❯━━━━━━━━━\n",
      "Desafio 075\n",
      "━━━━━━━━━❮◆❯━━━━━━━━━\n",
      "\n",
      "Digite um número: 4\n",
      "Digite um número: 3\n",
      "Digite um número: 2\n",
      "Digite um número: 2\n",
      "\n",
      "Você digitou os valores: (4, 3, 2, 2)\n",
      "\n",
      "Você digitou 0 vezes o número 9\n",
      "\n",
      "O valor 3 apareceu primeiro na 2ª posição\n",
      "\n",
      "Os números pares digitados foram: 4 ,2 ,2 ,"
     ]
    }
   ],
   "source": [
    "print('━━━━━━━━━❮◆❯━━━━━━━━━')\n",
    "print(     'Desafio 075')\n",
    "print('━━━━━━━━━❮◆❯━━━━━━━━━')\n",
    "print('')\n",
    "\n",
    "#Desenvolva um programa que leia quatro valores pelo teclado e guarde-os em uma tupla. No final, mostre:\n",
    "#A) Quantas vezes apareceu o valor 9.\n",
    "#B) Em que posição foi digitado o primeiro valor 3.\n",
    "#C) Quais foram os números pares.\n",
    "\n",
    "num =(int(input('Digite um número: ')),\n",
    "     int(input('Digite um número: ')),\n",
    "     int(input('Digite um número: ')),\n",
    "     int(input('Digite um número: ')))\n",
    "print('')\n",
    "\n",
    "print('Você digitou os valores: {}'.format(num))\n",
    "print('')\n",
    "\n",
    "print(f'Você digitou {num.count(9)} vezes o número 9')\n",
    "print('')\n",
    "\n",
    "if 3 in num:\n",
    "    print(f'O valor 3 apareceu primeiro na {num.index(3)+1}ª posição')\n",
    "    print('')\n",
    "    \n",
    "print('Os números pares digitados foram: ',end ='')\n",
    "for n in num:\n",
    "    if n %2 ==0:\n",
    "        print(n, '', end = '')"
   ]
  }
 ],
 "metadata": {
  "kernelspec": {
   "display_name": "Python 3 (ipykernel)",
   "language": "python",
   "name": "python3"
  },
  "language_info": {
   "codemirror_mode": {
    "name": "ipython",
    "version": 3
   },
   "file_extension": ".py",
   "mimetype": "text/x-python",
   "name": "python",
   "nbconvert_exporter": "python",
   "pygments_lexer": "ipython3",
   "version": "3.9.7"
  }
 },
 "nbformat": 4,
 "nbformat_minor": 5
}
