{
 "cells": [
  {
   "cell_type": "code",
   "execution_count": 1,
   "id": "aa0fc3ff",
   "metadata": {},
   "outputs": [
    {
     "name": "stdout",
     "output_type": "stream",
     "text": [
      "━━━━━━━━━❮◆❯━━━━━━━━━\n",
      "Desafio 016\n",
      "━━━━━━━━━❮◆❯━━━━━━━━━\n",
      "\n",
      "Digite um valor quebrado: 6.5\n",
      "\n",
      "6.5 truncado ficará 6\n"
     ]
    }
   ],
   "source": [
    "print('━━━━━━━━━❮◆❯━━━━━━━━━')\n",
    "print(     'Desafio 016')\n",
    "print('━━━━━━━━━❮◆❯━━━━━━━━━')\n",
    "print('')\n",
    "\n",
    "# Crie um programa que leia um número Real qualquer pelo teclado e mostre na tela a sua porção Inteira.\n",
    "\n",
    "import math\n",
    "\n",
    "num =float(input('Digite um valor quebrado: '))\n",
    "print('')\n",
    "\n",
    "print('{} truncado ficará {}'.format(num, math.trunc(num)))"
   ]
  }
 ],
 "metadata": {
  "kernelspec": {
   "display_name": "Python 3 (ipykernel)",
   "language": "python",
   "name": "python3"
  },
  "language_info": {
   "codemirror_mode": {
    "name": "ipython",
    "version": 3
   },
   "file_extension": ".py",
   "mimetype": "text/x-python",
   "name": "python",
   "nbconvert_exporter": "python",
   "pygments_lexer": "ipython3",
   "version": "3.9.7"
  }
 },
 "nbformat": 4,
 "nbformat_minor": 5
}
