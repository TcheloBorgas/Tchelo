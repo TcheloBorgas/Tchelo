{
 "cells": [
  {
   "cell_type": "code",
   "execution_count": 1,
   "id": "7b191dcf",
   "metadata": {},
   "outputs": [
    {
     "name": "stdout",
     "output_type": "stream",
     "text": [
      "━━━━━━━━━❮◆❯━━━━━━━━━\n",
      "Desafio 002\n",
      "━━━━━━━━━❮◆❯━━━━━━━━━\n",
      "\n",
      "Digite seu nome: marcelo\n",
      "Olá marcelo, tenha um ótimo dia\n"
     ]
    }
   ],
   "source": [
    "print('━━━━━━━━━❮◆❯━━━━━━━━━')\n",
    "print(     'Desafio 002')\n",
    "print('━━━━━━━━━❮◆❯━━━━━━━━━')\n",
    "print('')\n",
    "\n",
    "#Faça um programa que leia o nome de uma pessoa e mostre uma mensagem de boas-vindas.\n",
    "\n",
    "nome =input('Digite seu nome: ')\n",
    "\n",
    "print('Olá {}, tenha um ótimo dia'.format(nome))"
   ]
  }
 ],
 "metadata": {
  "kernelspec": {
   "display_name": "Python 3 (ipykernel)",
   "language": "python",
   "name": "python3"
  },
  "language_info": {
   "codemirror_mode": {
    "name": "ipython",
    "version": 3
   },
   "file_extension": ".py",
   "mimetype": "text/x-python",
   "name": "python",
   "nbconvert_exporter": "python",
   "pygments_lexer": "ipython3",
   "version": "3.9.7"
  }
 },
 "nbformat": 4,
 "nbformat_minor": 5
}
