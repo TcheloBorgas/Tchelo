{
 "cells": [
  {
   "cell_type": "code",
   "execution_count": 4,
   "id": "011cc482",
   "metadata": {},
   "outputs": [
    {
     "name": "stdout",
     "output_type": "stream",
     "text": [
      "━━━━━━━━━❮◆❯━━━━━━━━━\n",
      "Desafio 063\n",
      "━━━━━━━━━❮◆❯━━━━━━━━━\n",
      "\n",
      "❮Sequência de fibonacci❯\n",
      "\n",
      "Quantos termos você quer mostrar? 10\n",
      "0 -> 1-> 1-> 2-> 3-> 5-> 8-> 13-> 21-> 34"
     ]
    }
   ],
   "source": [
    "print('━━━━━━━━━❮◆❯━━━━━━━━━')\n",
    "print(     'Desafio 063')\n",
    "print('━━━━━━━━━❮◆❯━━━━━━━━━')\n",
    "print('')\n",
    "\n",
    "#Escreva um programa que leia um número N inteiro qualquer e\n",
    "#mostre na tela os N primeiros elementos de uma Sequência de Fibonacci. \n",
    "\n",
    "\n",
    "#SEQUENCIA DE FIBONACCI --> começa com 0 e 1 e é a soma dos dois numeros anteriores\n",
    "#0 - 1 - 2- 3 -5 -8 ...\n",
    "\n",
    "\n",
    "\n",
    "\n",
    "\n",
    "print('❮Sequência de fibonacci❯')\n",
    "print('')\n",
    "termos =int(input('Quantos termos você quer mostrar? '))\n",
    "\n",
    "t1 =0\n",
    "t2 =1\n",
    "cont =3\n",
    "\n",
    "print('{} -> {}'.format(t1, t2), end='')\n",
    "while cont<=termos:\n",
    "    t3 =t1 +t2\n",
    "    print('-> {}'.format(t3), end='')\n",
    "    t1=t2\n",
    "    t2=t3\n",
    "    cont+=1"
   ]
  },
  {
   "cell_type": "code",
   "execution_count": null,
   "id": "9171b0bd",
   "metadata": {},
   "outputs": [],
   "source": []
  }
 ],
 "metadata": {
  "kernelspec": {
   "display_name": "Python 3 (ipykernel)",
   "language": "python",
   "name": "python3"
  },
  "language_info": {
   "codemirror_mode": {
    "name": "ipython",
    "version": 3
   },
   "file_extension": ".py",
   "mimetype": "text/x-python",
   "name": "python",
   "nbconvert_exporter": "python",
   "pygments_lexer": "ipython3",
   "version": "3.9.7"
  }
 },
 "nbformat": 4,
 "nbformat_minor": 5
}
