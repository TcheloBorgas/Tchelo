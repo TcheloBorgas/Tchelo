{
 "cells": [
  {
   "cell_type": "code",
   "execution_count": 3,
   "id": "92cc7cb4",
   "metadata": {},
   "outputs": [
    {
     "name": "stdout",
     "output_type": "stream",
     "text": [
      "━━━━━━━━━❮◆❯━━━━━━━━━\n",
      "Desafio 043\n",
      "━━━━━━━━━❮◆❯━━━━━━━━━\n",
      "\n",
      "Digite a sua altura: 1.78\n",
      "Digite o seu peso: 52.3\n",
      "\n",
      "Abaixo do peso\n",
      "16.50675419770231\n"
     ]
    }
   ],
   "source": [
    "print('━━━━━━━━━❮◆❯━━━━━━━━━')\n",
    "print(     'Desafio 043')\n",
    "print('━━━━━━━━━❮◆❯━━━━━━━━━')\n",
    "print('')\n",
    "\n",
    "#Desenvolva uma lógica que leia o peso e a altura de uma pessoa,\n",
    "#calcule seu Índice de Massa Corporal (IMC) e mostre seu status, de acordo com a tabela abaixo:\n",
    "#- IMC abaixo de 18,5: Abaixo do Peso\n",
    "#- Entre 18,5 e 25: Peso Ideal\n",
    "#- 25 até 30: Sobrepeso\n",
    "#- 30 até 40: Obesidade\n",
    "#- Acima de 40: Obesidade Mórbida\n",
    "\n",
    "altura =float(input('Digite a sua altura: '))\n",
    "peso = float(input('Digite o seu peso: '))\n",
    "print('')\n",
    "\n",
    "IMC = peso / (altura * altura)\n",
    "\n",
    "if IMC <18.5:\n",
    "    print('Abaixo do peso')\n",
    "    print(IMC)\n",
    "    \n",
    "elif IMC >=18.5 and IMC <25:\n",
    "    print('Peso ideal')\n",
    "    print(IMC)\n",
    "    \n",
    "elif IMC >25 and IMC <30:\n",
    "    print('Sobrepeso')\n",
    "    print(IMC)\n",
    "    \n",
    "elif IMC >30 and IMC <40:\n",
    "    print('Obesidade')\n",
    "    print(IMC)\n",
    "    \n",
    "else:\n",
    "    print('Obesidade Mórbida')\n",
    "    print(IMC)"
   ]
  }
 ],
 "metadata": {
  "kernelspec": {
   "display_name": "Python 3 (ipykernel)",
   "language": "python",
   "name": "python3"
  },
  "language_info": {
   "codemirror_mode": {
    "name": "ipython",
    "version": 3
   },
   "file_extension": ".py",
   "mimetype": "text/x-python",
   "name": "python",
   "nbconvert_exporter": "python",
   "pygments_lexer": "ipython3",
   "version": "3.9.7"
  }
 },
 "nbformat": 4,
 "nbformat_minor": 5
}
