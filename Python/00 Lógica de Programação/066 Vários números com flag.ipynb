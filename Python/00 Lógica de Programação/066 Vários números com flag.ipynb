{
 "cells": [
  {
   "cell_type": "code",
   "execution_count": 9,
   "id": "e2dcb4fe",
   "metadata": {},
   "outputs": [
    {
     "name": "stdout",
     "output_type": "stream",
     "text": [
      "━━━━━━━━━❮◆❯━━━━━━━━━\n",
      "Desafio 066\n",
      "━━━━━━━━━❮◆❯━━━━━━━━━\n",
      "\n",
      "O programa irá parar quando vc escrever o valor \"999\"\n",
      "\n",
      "Digite um número: 5\n",
      "\n",
      "Digite um número: 5\n",
      "\n",
      "Digite um número: 5\n",
      "\n",
      "Digite um número: 999\n",
      "\n",
      "A soma dos números é 15, você digitou 3 números\n"
     ]
    }
   ],
   "source": [
    "print('━━━━━━━━━❮◆❯━━━━━━━━━')\n",
    "print(     'Desafio 066')\n",
    "print('━━━━━━━━━❮◆❯━━━━━━━━━')\n",
    "print('')\n",
    "\n",
    "#Crie um programa que leia números inteiros pelo teclado.\n",
    "#O programa só vai parar quando o usuário digitar o valor 999,\n",
    "#que é a condição de parada. No final, mostre quantos números foram\n",
    "#digitados e qual foi a soma entre elas (desconsiderando o flag).\n",
    "\n",
    "print('O programa irá parar quando vc escrever o valor \"999\"')\n",
    "print('')\n",
    "\n",
    "\n",
    "soma =0\n",
    "cont =0\n",
    "\n",
    "while True:\n",
    "    num =int(input('Digite um número: '))\n",
    "    print('')\n",
    "    \n",
    "    if num ==999:\n",
    "        break\n",
    "    else:\n",
    "        soma +=num\n",
    "        cont +=1\n",
    "print('A soma dos números é {}, você digitou {} números'.format(soma, cont))"
   ]
  }
 ],
 "metadata": {
  "kernelspec": {
   "display_name": "Python 3 (ipykernel)",
   "language": "python",
   "name": "python3"
  },
  "language_info": {
   "codemirror_mode": {
    "name": "ipython",
    "version": 3
   },
   "file_extension": ".py",
   "mimetype": "text/x-python",
   "name": "python",
   "nbconvert_exporter": "python",
   "pygments_lexer": "ipython3",
   "version": "3.9.7"
  }
 },
 "nbformat": 4,
 "nbformat_minor": 5
}
