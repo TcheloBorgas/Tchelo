{
 "cells": [
  {
   "cell_type": "code",
   "execution_count": 3,
   "id": "6524171e",
   "metadata": {},
   "outputs": [
    {
     "name": "stdout",
     "output_type": "stream",
     "text": [
      "━━━━━━━━━❮◆❯━━━━━━━━━\n",
      "Desafio 052\n",
      "━━━━━━━━━❮◆❯━━━━━━━━━\n",
      "\n",
      "Digite um número: 12\n",
      "\n",
      "\u001b[34m1\n",
      "\u001b[34m2\n",
      "\u001b[34m3\n",
      "\u001b[34m4\n",
      "\u001b[31m5\n",
      "\u001b[34m6\n",
      "\u001b[31m7\n",
      "\u001b[31m8\n",
      "\u001b[31m9\n",
      "\u001b[31m10\n",
      "\u001b[31m11\n",
      "\u001b[34m12\n",
      "O número  12 foi divisível 6 vezes\n"
     ]
    }
   ],
   "source": [
    "print('━━━━━━━━━❮◆❯━━━━━━━━━')\n",
    "print(     'Desafio 052')\n",
    "print('━━━━━━━━━❮◆❯━━━━━━━━━')\n",
    "print('')\n",
    "\n",
    "#Faça um programa que leia um número inteiro e diga se ele é ou não um número primo.\n",
    "\n",
    "num =int(input('Digite um número: '))\n",
    "print('')\n",
    "\n",
    "tot =0\n",
    "\n",
    "for c in range(1,num +1):\n",
    "    if num %c==0:\n",
    "        print('\\033[34m',end='')\n",
    "        tot +=1\n",
    "    else:\n",
    "        print('\\033[31m',end='')\n",
    "    print('{}'.format(c))\n",
    "print('O número  {} foi divisível {} vezes'.format(num, tot))"
   ]
  }
 ],
 "metadata": {
  "kernelspec": {
   "display_name": "Python 3 (ipykernel)",
   "language": "python",
   "name": "python3"
  },
  "language_info": {
   "codemirror_mode": {
    "name": "ipython",
    "version": 3
   },
   "file_extension": ".py",
   "mimetype": "text/x-python",
   "name": "python",
   "nbconvert_exporter": "python",
   "pygments_lexer": "ipython3",
   "version": "3.9.7"
  }
 },
 "nbformat": 4,
 "nbformat_minor": 5
}
