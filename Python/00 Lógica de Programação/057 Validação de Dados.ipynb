{
 "cells": [
  {
   "cell_type": "code",
   "execution_count": 3,
   "id": "70da00c0",
   "metadata": {},
   "outputs": [
    {
     "name": "stdout",
     "output_type": "stream",
     "text": [
      "━━━━━━━━━❮◆❯━━━━━━━━━\n",
      "Desafio 057\n",
      "━━━━━━━━━❮◆❯━━━━━━━━━\n",
      "\n",
      "Qual o sexo [M/F]: ç\n",
      "\n",
      "Qual o sexo caralho, bota essa merda direito [M/F]: f\n",
      "\n",
      "Fim código\n"
     ]
    }
   ],
   "source": [
    "print('━━━━━━━━━❮◆❯━━━━━━━━━')\n",
    "print(     'Desafio 057')\n",
    "print('━━━━━━━━━❮◆❯━━━━━━━━━')\n",
    "print('')\n",
    "\n",
    "#Faça um programa que leia o sexo de uma pessoa, mas só aceite os valores\n",
    "#'M' ou 'F'. Caso esteja errado, peça a digitação novamente até ter um valor correto.\n",
    "\n",
    "sexo =str(input('Qual o sexo [M/F]: ')).upper()\n",
    "print('')\n",
    "\n",
    "while sexo not in 'MF':\n",
    "    \n",
    "    sexo =str(input('Qual o sexo caralho, bota essa merda direito [M/F]: ')).upper()\n",
    "    print('')\n",
    "    \n",
    "print('Fim código')"
   ]
  },
  {
   "cell_type": "code",
   "execution_count": null,
   "id": "4ddac107",
   "metadata": {},
   "outputs": [],
   "source": []
  }
 ],
 "metadata": {
  "kernelspec": {
   "display_name": "Python 3 (ipykernel)",
   "language": "python",
   "name": "python3"
  },
  "language_info": {
   "codemirror_mode": {
    "name": "ipython",
    "version": 3
   },
   "file_extension": ".py",
   "mimetype": "text/x-python",
   "name": "python",
   "nbconvert_exporter": "python",
   "pygments_lexer": "ipython3",
   "version": "3.9.7"
  }
 },
 "nbformat": 4,
 "nbformat_minor": 5
}
