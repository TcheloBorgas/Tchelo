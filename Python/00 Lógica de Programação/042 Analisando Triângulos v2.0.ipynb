{
 "cells": [
  {
   "cell_type": "code",
   "execution_count": 1,
   "id": "0fe745a0",
   "metadata": {},
   "outputs": [
    {
     "name": "stdout",
     "output_type": "stream",
     "text": [
      "━━━━━━━━━❮◆❯━━━━━━━━━\n",
      "Desafio 042\n",
      "━━━━━━━━━❮◆❯━━━━━━━━━\n",
      "\n",
      "Digite o primeiro segmento: 1\n",
      "Digite o segundo segmento: 1\n",
      "Digite o terceiro segmento: 1\n",
      "\n",
      "Sim, é possível fazer um triângulo equilátero\n"
     ]
    }
   ],
   "source": [
    "print('━━━━━━━━━❮◆❯━━━━━━━━━')\n",
    "print(     'Desafio 042')\n",
    "print('━━━━━━━━━❮◆❯━━━━━━━━━')\n",
    "print('')\n",
    "\n",
    "#Refaça o DESAFIO 035 dos triângulos, acrescentando o recurso de mostrar que tipo de triângulo será formado:\n",
    "#- EQUILÁTERO: todos os lados iguais\n",
    "#- ISÓSCELES: dois lados iguais, um diferente\n",
    "#- ESCALENO: todos os lados diferentes\n",
    "\n",
    "r1 =float(input('Digite o primeiro segmento: '))\n",
    "r2 =float(input('Digite o segundo segmento: '))\n",
    "r3 =float(input('Digite o terceiro segmento: '))\n",
    "print('')\n",
    "\n",
    "if r1<r2 +r3 and r2<r1 +r3 and r3 <r1+r2:\n",
    "    if r1 ==r2 and r1 ==r2 and r2 ==r3:\n",
    "        print('Sim, é possível fazer um triângulo equilátero')\n",
    "        \n",
    "    elif r1 !=r2 and r1 !=r2 and r2 !=r3:\n",
    "        print('Sim, é possível fazer um triângulo escaleno')\n",
    "    \n",
    "    else:\n",
    "        print('Sim, é possível fazer um triângulo isóceles')\n",
    "    \n",
    "else:\n",
    "    print('Não irmão, da não')"
   ]
  }
 ],
 "metadata": {
  "kernelspec": {
   "display_name": "Python 3 (ipykernel)",
   "language": "python",
   "name": "python3"
  },
  "language_info": {
   "codemirror_mode": {
    "name": "ipython",
    "version": 3
   },
   "file_extension": ".py",
   "mimetype": "text/x-python",
   "name": "python",
   "nbconvert_exporter": "python",
   "pygments_lexer": "ipython3",
   "version": "3.9.7"
  }
 },
 "nbformat": 4,
 "nbformat_minor": 5
}
