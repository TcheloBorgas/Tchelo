{
 "cells": [
  {
   "cell_type": "code",
   "execution_count": 19,
   "id": "e1811ac2",
   "metadata": {},
   "outputs": [
    {
     "name": "stdout",
     "output_type": "stream",
     "text": [
      "━━━━━━━━━❮◆❯━━━━━━━━━\n",
      "Desafio 098\n",
      "━━━━━━━━━❮◆❯━━━━━━━━━\n",
      "\n",
      "Contagem de 1 até 10 pulando de 1 em 1\n",
      "1 2 3 4 5 6 7 8 9 10 \n",
      "Contagem Finalizada\n",
      "\n",
      "Contagem de 10 até 0 pulando de 2 em 2\n",
      "10 8 6 4 2 0 \n",
      "Contagem Finalizada\n",
      "\n",
      "Digite o inicio: -10\n",
      "\n",
      "Digite o fim: 10\n",
      "\n",
      "Digite o passo: -4\n",
      "\n",
      "Contagem de -10 até 10 pulando de -4 em -4\n",
      "-10 -6 -2 2 6 10 \n",
      "Contagem Finalizada\n"
     ]
    }
   ],
   "source": [
    "print('━━━━━━━━━❮◆❯━━━━━━━━━')\n",
    "print(     'Desafio 098')\n",
    "print('━━━━━━━━━❮◆❯━━━━━━━━━')\n",
    "print('')\n",
    "\n",
    "#Faça um programa que tenha uma função chamada contador(),\n",
    "#que receba três parâmetros: início, fim e passo.\n",
    "#Seu programa tem que realizar três contagens através da função criada:\n",
    "\n",
    "#a) de 1 até 10, de 1 em 1\n",
    "#b) de 10 até 0, de 2 em 2\n",
    "#c) uma contagem personalizada\n",
    "\n",
    "from time import sleep\n",
    "\n",
    "def contador(inicio, fim, passo):\n",
    "    print('Contagem de {} até {} pulando de {} em {}'.format(inicio, fim, passo, passo))\n",
    "    \n",
    "    if passo <0:\n",
    "        passo *=-1\n",
    "        \n",
    "    if passo ==0:\n",
    "        passo =1\n",
    "    \n",
    "    if inicio <fim:\n",
    "        cont =inicio\n",
    "        \n",
    "        while cont <=fim:\n",
    "            print(f'{cont} ',end ='', flush=True)\n",
    "            sleep(0.5)\n",
    "            cont +=passo\n",
    "        print('')\n",
    "        print('Contagem Finalizada')\n",
    "            \n",
    "    else:\n",
    "        cont=inicio\n",
    "        while cont >=fim:\n",
    "            print(f'{cont} ',end='', flush=True)\n",
    "            sleep(0.5)\n",
    "            cont -=passo\n",
    "        print('')\n",
    "        print('Contagem Finalizada')\n",
    "            \n",
    " \n",
    "#programa principal\n",
    "\n",
    "#a) de 1 até 10, de 1 em 1\n",
    "contador(1,  10, 1)\n",
    "print('')\n",
    "\n",
    "#b) de 10 até 0, de 2 em 2\n",
    "contador(10, 0, 2)\n",
    "print('')\n",
    "\n",
    "#c) uma contagem personalizada\n",
    "inicio =int(input('Digite o inicio: '))\n",
    "print('')\n",
    "\n",
    "fim =int(input('Digite o fim: '))\n",
    "print('')\n",
    "\n",
    "passo =int(input('Digite o passo: '))\n",
    "print('')\n",
    "\n",
    "contador(inicio, fim, passo)\n",
    "\n",
    "\n",
    "        \n",
    "\n",
    "\n"
   ]
  },
  {
   "cell_type": "markdown",
   "id": "171ea12b",
   "metadata": {},
   "source": []
  },
  {
   "cell_type": "code",
   "execution_count": null,
   "id": "6602b1f2",
   "metadata": {},
   "outputs": [],
   "source": []
  }
 ],
 "metadata": {
  "kernelspec": {
   "display_name": "Python 3.9.12 ('base')",
   "language": "python",
   "name": "python3"
  },
  "language_info": {
   "codemirror_mode": {
    "name": "ipython",
    "version": 3
   },
   "file_extension": ".py",
   "mimetype": "text/x-python",
   "name": "python",
   "nbconvert_exporter": "python",
   "pygments_lexer": "ipython3",
   "version": "3.9.12"
  },
  "vscode": {
   "interpreter": {
    "hash": "c9b11055aabbe5831bceda66bd7c90480ec32ff2ac7d8efcaa134baa16fe25e4"
   }
  }
 },
 "nbformat": 4,
 "nbformat_minor": 5
}
