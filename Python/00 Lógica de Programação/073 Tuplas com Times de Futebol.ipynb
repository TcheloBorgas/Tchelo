{
 "cells": [
  {
   "cell_type": "code",
   "execution_count": 10,
   "id": "abff3cf7",
   "metadata": {},
   "outputs": [
    {
     "name": "stdout",
     "output_type": "stream",
     "text": [
      "━━━━━━━━━❮◆❯━━━━━━━━━\n",
      "Desafio 073\n",
      "━━━━━━━━━❮◆❯━━━━━━━━━\n",
      "\n",
      "━━━━━━━━━❮◆❯━━━━━━━━━\n",
      "Os 5 primeiros são:\n",
      "('Corinthians', 'Palmeiras', 'Santos', 'Grêmio', 'Cruzeiro')\n",
      "━━━━━━━━━❮◆❯━━━━━━━━━\n",
      "\n",
      "━━━━━━━━━❮◆❯━━━━━━━━━\n",
      "Os 4 ultimos são:\n",
      "('Coritiba', 'Avaí', 'Ponte Preta', 'Atlético-GO')\n",
      "━━━━━━━━━❮◆❯━━━━━━━━━\n",
      "\n",
      "━━━━━━━━━━━━━━━❮◆❯━━━━━━━━━━━━━━━\n",
      "Os times em ordem alfabética são:\n",
      "['Atlético', 'Atlético-GO', 'Atlético-PR', 'Avaí', 'Bahia', 'Botafogo', 'Chapecoense', 'Corinthians', 'Coritiba', 'Cruzeiro', 'EC Vitória', 'Flamengo', 'Fluminense', 'Grêmio', 'Palmeiras', 'Ponte Preta', 'Santos', 'Sport Recife', 'São Paulo', 'Vasco']\n",
      "━━━━━━━━━━━━━━━❮◆❯━━━━━━━━━━━━━━━\n",
      "\n",
      "━━━━━━━━━❮◆❯━━━━━━━━━\n",
      "Chapecoense está na 8 posição\n",
      "━━━━━━━━━❮◆❯━━━━━━━━━\n",
      "\n"
     ]
    }
   ],
   "source": [
    "print('━━━━━━━━━❮◆❯━━━━━━━━━')\n",
    "print(     'Desafio 073')\n",
    "print('━━━━━━━━━❮◆❯━━━━━━━━━')\n",
    "print('')\n",
    "\n",
    "#Crie uma tupla preenchida com os 20 primeiros colocados da\n",
    "#Tabela do Campeonato Brasileiro de Futebol, na ordem de colocação. Depois mostre:\n",
    "#a) Os 5 primeiros times.\n",
    "#b) Os últimos 4 colocados.\n",
    "#c) Times em ordem alfabética. \n",
    "#d) Em que posição está o time da Chapecoense.\n",
    "\n",
    "times =('Corinthians','Palmeiras','Santos','Grêmio','Cruzeiro','Flamengo','Vasco',\n",
    "        'Chapecoense','Atlético','Botafogo','Atlético-PR','Bahia','São Paulo','Fluminense',\n",
    "        'Sport Recife','EC Vitória', 'Coritiba','Avaí','Ponte Preta', 'Atlético-GO')\n",
    "\n",
    "print('━━━━━━━━━❮◆❯━━━━━━━━━')\n",
    "print('Os 5 primeiros são:')\n",
    "print(times[0:5])\n",
    "print('━━━━━━━━━❮◆❯━━━━━━━━━')\n",
    "print('')\n",
    "\n",
    "print('━━━━━━━━━❮◆❯━━━━━━━━━')\n",
    "print('Os 4 ultimos são:')\n",
    "print(times[16:])\n",
    "print('━━━━━━━━━❮◆❯━━━━━━━━━')\n",
    "print('')\n",
    "\n",
    "print('━━━━━━━━━━━━━━━❮◆❯━━━━━━━━━━━━━━━')\n",
    "print('Os times em ordem alfabética são:')\n",
    "print(sorted(times))\n",
    "print('━━━━━━━━━━━━━━━❮◆❯━━━━━━━━━━━━━━━')\n",
    "print('')\n",
    "\n",
    "print('━━━━━━━━━❮◆❯━━━━━━━━━')\n",
    "chapeco =times.index('Chapecoense')\n",
    "print(f'Chapecoense está na {chapeco+1} posição')\n",
    "print('━━━━━━━━━❮◆❯━━━━━━━━━')\n",
    "print('')"
   ]
  }
 ],
 "metadata": {
  "kernelspec": {
   "display_name": "Python 3 (ipykernel)",
   "language": "python",
   "name": "python3"
  },
  "language_info": {
   "codemirror_mode": {
    "name": "ipython",
    "version": 3
   },
   "file_extension": ".py",
   "mimetype": "text/x-python",
   "name": "python",
   "nbconvert_exporter": "python",
   "pygments_lexer": "ipython3",
   "version": "3.9.7"
  }
 },
 "nbformat": 4,
 "nbformat_minor": 5
}
