{
 "cells": [
  {
   "cell_type": "code",
   "execution_count": 2,
   "id": "ae95ff88",
   "metadata": {},
   "outputs": [
    {
     "name": "stdout",
     "output_type": "stream",
     "text": [
      "━━━━━━━━━❮◆❯━━━━━━━━━\n",
      "Desafio 004\n",
      "━━━━━━━━━❮◆❯━━━━━━━━━\n",
      "\n",
      "Digite algo aqui: algo está escrito aqui\n",
      "\n",
      "Algo está escrito aqui\n",
      "2\n",
      "True\n",
      "False\n",
      "False\n",
      "False\n",
      "True\n",
      "False\n",
      "algo está escrito aqui\n",
      "ALGO ESTÁ ESCRITO AQUI\n",
      "ALGO ESTÁ ESCRITO AQUI\n",
      "Algo Está Escrito Aqui\n",
      "['algo', 'está', 'escrito', 'aqui']\n",
      "blgo está escrito bqui\n",
      "5\n",
      "algo está escrito aqui\n"
     ]
    }
   ],
   "source": [
    "print('━━━━━━━━━❮◆❯━━━━━━━━━')\n",
    "print(     'Desafio 004')\n",
    "print('━━━━━━━━━❮◆❯━━━━━━━━━')\n",
    "print('')\n",
    "\n",
    "#Faça um programa que leia algo pelo teclado e mostre na tela o seu tipo primitivo e todas as informações possíveis sobre ele.\n",
    "\n",
    "algo =input('Digite algo aqui: ')\n",
    "print('')\n",
    "\n",
    "len(algo)\n",
    "print(algo.capitalize())\n",
    "print(algo.count('a'))\n",
    "print(algo.startswith('a'))\n",
    "print(algo.endswith('b'))\n",
    "print(algo.isalnum())\n",
    "print(algo.isalpha())\n",
    "print(algo.islower())\n",
    "print(algo.isupper())\n",
    "print(algo.lower())\n",
    "print(algo.upper())\n",
    "print(algo.swapcase())\n",
    "print(algo.title())\n",
    "print(algo.split())\n",
    "print(algo.replace('a', 'b'))\n",
    "print(algo.find('e'))\n",
    "print(algo.strip())\n",
    "\n"
   ]
  }
 ],
 "metadata": {
  "kernelspec": {
   "display_name": "Python 3 (ipykernel)",
   "language": "python",
   "name": "python3"
  },
  "language_info": {
   "codemirror_mode": {
    "name": "ipython",
    "version": 3
   },
   "file_extension": ".py",
   "mimetype": "text/x-python",
   "name": "python",
   "nbconvert_exporter": "python",
   "pygments_lexer": "ipython3",
   "version": "3.9.7"
  }
 },
 "nbformat": 4,
 "nbformat_minor": 5
}
