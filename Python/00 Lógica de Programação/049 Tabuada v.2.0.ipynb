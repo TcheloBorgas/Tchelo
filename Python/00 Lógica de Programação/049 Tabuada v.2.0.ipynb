{
 "cells": [
  {
   "cell_type": "code",
   "execution_count": 1,
   "id": "b311388a",
   "metadata": {},
   "outputs": [
    {
     "name": "stdout",
     "output_type": "stream",
     "text": [
      "━━━━━━━━━❮◆❯━━━━━━━━━\n",
      "Desafio 049\n",
      "━━━━━━━━━❮◆❯━━━━━━━━━\n",
      "\n",
      "Digite um número: 2\n",
      "2.0 * 0 =0.0\n",
      "2.0 * 1 =2.0\n",
      "2.0 * 2 =4.0\n",
      "2.0 * 3 =6.0\n",
      "2.0 * 4 =8.0\n",
      "2.0 * 5 =10.0\n",
      "2.0 * 6 =12.0\n",
      "2.0 * 7 =14.0\n",
      "2.0 * 8 =16.0\n",
      "2.0 * 9 =18.0\n",
      "2.0 * 10 =20.0\n"
     ]
    }
   ],
   "source": [
    "print('━━━━━━━━━❮◆❯━━━━━━━━━')\n",
    "print(     'Desafio 049')\n",
    "print('━━━━━━━━━❮◆❯━━━━━━━━━')\n",
    "print('')\n",
    "\n",
    "#Refaça o DESAFIO 009, mostrando a tabuada de um\n",
    "#número que o usuário escolher, só que agora utilizando um laço for.\n",
    "\n",
    "num =float(input('Digite um número: '))\n",
    "\n",
    "\n",
    "num2 =0\n",
    "for cont in range(0,11):\n",
    "    multiplicao =num *cont\n",
    "    print('{} * {} ={}'.format(num, cont, multiplicao))"
   ]
  }
 ],
 "metadata": {
  "kernelspec": {
   "display_name": "Python 3 (ipykernel)",
   "language": "python",
   "name": "python3"
  },
  "language_info": {
   "codemirror_mode": {
    "name": "ipython",
    "version": 3
   },
   "file_extension": ".py",
   "mimetype": "text/x-python",
   "name": "python",
   "nbconvert_exporter": "python",
   "pygments_lexer": "ipython3",
   "version": "3.9.7"
  }
 },
 "nbformat": 4,
 "nbformat_minor": 5
}
