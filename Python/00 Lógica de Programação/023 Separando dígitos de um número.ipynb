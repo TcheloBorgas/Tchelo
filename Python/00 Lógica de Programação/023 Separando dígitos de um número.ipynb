{
 "cells": [
  {
   "cell_type": "code",
   "execution_count": 1,
   "id": "c57cb469",
   "metadata": {},
   "outputs": [
    {
     "name": "stdout",
     "output_type": "stream",
     "text": [
      "━━━━━━━━━❮◆❯━━━━━━━━━\n",
      "Desafio 023\n",
      "━━━━━━━━━❮◆❯━━━━━━━━━\n",
      "\n",
      "Digite um número inteiro entre 0 e 99991234\n",
      "\n",
      "Número analisado 1234\n",
      "\n",
      "Unidade 4\n",
      "\n",
      "dezena 3\n",
      "\n",
      "centena 2\n",
      "\n",
      "milhar 1\n"
     ]
    }
   ],
   "source": [
    "print('━━━━━━━━━❮◆❯━━━━━━━━━')\n",
    "print(     'Desafio 023')\n",
    "print('━━━━━━━━━❮◆❯━━━━━━━━━')\n",
    "print('')\n",
    "\n",
    "#Faça um programa que leia um número de 0 a 9999 e mostre na tela cada um dos dígitos separados.\n",
    "\n",
    "num =int(input('Digite um número inteiro entre 0 e 9999'))\n",
    "print('')\n",
    "\n",
    "unidade =num //1 %10\n",
    "dezena =num // 10 %10\n",
    "centena =num // 100 %10\n",
    "milhar =num // 1000 %10\n",
    "\n",
    "print('Número analisado {}'.format(num))\n",
    "print('')\n",
    "\n",
    "print('Unidade {}'.format(unidade))\n",
    "print('')\n",
    "\n",
    "print('dezena {}'.format(dezena))\n",
    "print('')\n",
    "\n",
    "print('centena {}'.format(centena))\n",
    "print('')\n",
    "\n",
    "print('milhar {}'.format(milhar))\n",
    "\n"
   ]
  }
 ],
 "metadata": {
  "kernelspec": {
   "display_name": "Python 3 (ipykernel)",
   "language": "python",
   "name": "python3"
  },
  "language_info": {
   "codemirror_mode": {
    "name": "ipython",
    "version": 3
   },
   "file_extension": ".py",
   "mimetype": "text/x-python",
   "name": "python",
   "nbconvert_exporter": "python",
   "pygments_lexer": "ipython3",
   "version": "3.9.7"
  }
 },
 "nbformat": 4,
 "nbformat_minor": 5
}
