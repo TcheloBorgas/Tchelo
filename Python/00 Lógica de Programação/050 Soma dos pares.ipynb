{
 "cells": [
  {
   "cell_type": "code",
   "execution_count": 3,
   "id": "a4ab20e8",
   "metadata": {},
   "outputs": [
    {
     "name": "stdout",
     "output_type": "stream",
     "text": [
      "━━━━━━━━━❮◆❯━━━━━━━━━\n",
      "Desafio 050\n",
      "━━━━━━━━━❮◆❯━━━━━━━━━\n",
      "\n",
      "Digite um número: 2\n",
      "\n",
      "Digite um número: 4\n",
      "\n",
      "Digite um número: 6\n",
      "\n",
      "Digite um número: 8\n",
      "\n",
      "Digite um número: 10\n",
      "\n",
      "Digite um número: 12\n",
      "\n",
      "A soma de todos os números pares é 42.0\n"
     ]
    }
   ],
   "source": [
    "print('━━━━━━━━━❮◆❯━━━━━━━━━')\n",
    "print(     'Desafio 050')\n",
    "print('━━━━━━━━━❮◆❯━━━━━━━━━')\n",
    "print('')\n",
    "\n",
    "#Desenvolva um programa que leia seis números inteiros e\n",
    "#mostre a soma apenas daqueles que forem pares. Se o valor digitado for ímpar, desconsidere-o.\n",
    "\n",
    "soma =0\n",
    "\n",
    "for i in range(0,6):\n",
    "    numero =float(input('Digite um número: '))\n",
    "    print('')\n",
    "    if numero %2 ==0:\n",
    "        soma =soma +numero\n",
    "    else:\n",
    "        pass\n",
    "    \n",
    "print('A soma de todos os números pares é {}'.format(soma))"
   ]
  }
 ],
 "metadata": {
  "kernelspec": {
   "display_name": "Python 3 (ipykernel)",
   "language": "python",
   "name": "python3"
  },
  "language_info": {
   "codemirror_mode": {
    "name": "ipython",
    "version": 3
   },
   "file_extension": ".py",
   "mimetype": "text/x-python",
   "name": "python",
   "nbconvert_exporter": "python",
   "pygments_lexer": "ipython3",
   "version": "3.9.7"
  }
 },
 "nbformat": 4,
 "nbformat_minor": 5
}
