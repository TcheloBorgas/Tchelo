{
 "cells": [
  {
   "cell_type": "code",
   "execution_count": 3,
   "id": "8e8a37a0",
   "metadata": {},
   "outputs": [
    {
     "name": "stdout",
     "output_type": "stream",
     "text": [
      "━━━━━━━━━❮◆❯━━━━━━━━━\n",
      "Desafio 037\n",
      "━━━━━━━━━❮◆❯━━━━━━━━━\n",
      "\n",
      "Digite um número inteiro: 234\n",
      "\n",
      "Aperte 1 para binário\n",
      "aperte 2 para octal\n",
      "aperte 3 para hexadecimal\n",
      "\n",
      "Digite aqui: 1\n",
      "\n",
      "O número 234 em binário é 0b11101010\n"
     ]
    }
   ],
   "source": [
    "print('━━━━━━━━━❮◆❯━━━━━━━━━')\n",
    "print(     'Desafio 037')\n",
    "print('━━━━━━━━━❮◆❯━━━━━━━━━')\n",
    "print('')\n",
    "\n",
    "\n",
    "#Escreva um programa em Python que leia um número inteiro qualquer e\n",
    "#peça para o usuário escolher qual será a base de conversão: 1 para binário, 2 para octal e 3 para hexadecimal.\n",
    "\n",
    "num =int(input('Digite um número inteiro: '))\n",
    "\n",
    "print('''\n",
    "Aperte 1 para binário\n",
    "aperte 2 para octal\n",
    "aperte 3 para hexadecimal\n",
    "''')\n",
    "escolha =int(input('Digite aqui: '))\n",
    "print('')\n",
    "\n",
    "if escolha ==1:\n",
    "    print('O número {} em binário é {}'.format(num, bin(num)))\n",
    "\n",
    "elif escolha ==2:\n",
    "    print('O número {} em octal é {}'.format(num, oct(num)))\n",
    "          \n",
    "elif escolha ==3:\n",
    "          print('O número {} em hexadecimal é {}'.format(num, hex(num)))\n",
    "    "
   ]
  }
 ],
 "metadata": {
  "kernelspec": {
   "display_name": "Python 3 (ipykernel)",
   "language": "python",
   "name": "python3"
  },
  "language_info": {
   "codemirror_mode": {
    "name": "ipython",
    "version": 3
   },
   "file_extension": ".py",
   "mimetype": "text/x-python",
   "name": "python",
   "nbconvert_exporter": "python",
   "pygments_lexer": "ipython3",
   "version": "3.9.7"
  }
 },
 "nbformat": 4,
 "nbformat_minor": 5
}
