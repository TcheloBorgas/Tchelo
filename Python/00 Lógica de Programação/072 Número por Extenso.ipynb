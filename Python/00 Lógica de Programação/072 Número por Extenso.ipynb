{
 "cells": [
  {
   "cell_type": "code",
   "execution_count": 4,
   "id": "5c1eecba",
   "metadata": {},
   "outputs": [
    {
     "name": "stdout",
     "output_type": "stream",
     "text": [
      "━━━━━━━━━❮◆❯━━━━━━━━━\n",
      "Desafio 072\n",
      "━━━━━━━━━❮◆❯━━━━━━━━━\n",
      "\n",
      "Digite um número inteiro entre 0 e 20: 21\n",
      "\n",
      "Ainda não temos esse :/\n",
      "Tente denovo, digite um número inteiro entre 0 e 20: 5\n",
      "5 => cinco\n"
     ]
    }
   ],
   "source": [
    "print('━━━━━━━━━❮◆❯━━━━━━━━━')\n",
    "print(     'Desafio 072')\n",
    "print('━━━━━━━━━❮◆❯━━━━━━━━━')\n",
    "print('')\n",
    "\n",
    "#Crie um programa que tenha uma dupla totalmente preenchida\n",
    "#com uma contagem por extenso, de zero até vinte. Seu programa\n",
    "#deverá ler um número pelo teclado (entre 0 e 20) e mostrá-lo por extenso.\n",
    "\n",
    "tupla =('zero', 'um','dois','três','quatro','cinco','seis','sete','oito','nove',\n",
    "        'dez','onze','doze','treze','quatorze','quinze','dezesseis',\n",
    "        'dezessete','dezoito','dezenove','vinte')\n",
    "\n",
    "numero =int(input('Digite um número inteiro entre 0 e 20: '))\n",
    "print('')\n",
    "\n",
    "if numero <0 or numero >20:\n",
    "    while numero <0 or numero >20 :\n",
    "        print('Ainda não temos esse :/') \n",
    "        numero =int(input('Tente denovo, digite um número inteiro entre 0 e 20: '))\n",
    "else:\n",
    "    pass\n",
    "\n",
    "if numero ==0:\n",
    "    print(f'{numero} => {tupla[numero]}')\n",
    "\n",
    "else:\n",
    "    print(f'{numero} => {tupla[numero]}')"
   ]
  },
  {
   "cell_type": "code",
   "execution_count": null,
   "id": "c079a491",
   "metadata": {},
   "outputs": [],
   "source": []
  }
 ],
 "metadata": {
  "kernelspec": {
   "display_name": "Python 3 (ipykernel)",
   "language": "python",
   "name": "python3"
  },
  "language_info": {
   "codemirror_mode": {
    "name": "ipython",
    "version": 3
   },
   "file_extension": ".py",
   "mimetype": "text/x-python",
   "name": "python",
   "nbconvert_exporter": "python",
   "pygments_lexer": "ipython3",
   "version": "3.9.7"
  }
 },
 "nbformat": 4,
 "nbformat_minor": 5
}
