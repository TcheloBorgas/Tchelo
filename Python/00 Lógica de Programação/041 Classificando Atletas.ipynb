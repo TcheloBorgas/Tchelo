{
 "cells": [
  {
   "cell_type": "code",
   "execution_count": 5,
   "id": "671bdfbf",
   "metadata": {},
   "outputs": [
    {
     "name": "stdout",
     "output_type": "stream",
     "text": [
      "━━━━━━━━━❮◆❯━━━━━━━━━\n",
      "Desafio 041\n",
      "━━━━━━━━━❮◆❯━━━━━━━━━\n",
      "\n",
      "Digite o seu ano de nascimento: 2010\n",
      "\n",
      "Infantil\n"
     ]
    }
   ],
   "source": [
    "print('━━━━━━━━━❮◆❯━━━━━━━━━')\n",
    "print(     'Desafio 041')\n",
    "print('━━━━━━━━━❮◆❯━━━━━━━━━')\n",
    "print('')\n",
    "\n",
    "#A Confederação Nacional de Natação precisa de um programa que\n",
    "#leia o ano de nascimento de um atleta e mostre sua categoria, de acordo com a idade:\n",
    "#- Até 9 anos: MIRIM\n",
    "#- Até 14 anos: INFANTIL\n",
    "#- Até 19 anos: JÚNIOR\n",
    "#- Até 25 anos: SÊNIOR\n",
    "#- Acima de 25 anos: MASTER\n",
    "\n",
    "from datetime import date\n",
    "atual =date.today().year\n",
    "\n",
    "ano_nasc =int(input('Digite o seu ano de nascimento: '))\n",
    "print('')\n",
    "\n",
    "idade =atual -ano_nasc\n",
    "\n",
    "if idade <=9:\n",
    "    print('Mirim')\n",
    "\n",
    "elif idade <=14:\n",
    "    print('Infantil')\n",
    "    \n",
    "elif idade <19:\n",
    "    print('Júnior')\n",
    "    \n",
    "elif idade <=25:\n",
    "    print('Sênior')\n",
    "    \n",
    "elif idade >25:\n",
    "    print('MASTER')"
   ]
  }
 ],
 "metadata": {
  "kernelspec": {
   "display_name": "Python 3 (ipykernel)",
   "language": "python",
   "name": "python3"
  },
  "language_info": {
   "codemirror_mode": {
    "name": "ipython",
    "version": 3
   },
   "file_extension": ".py",
   "mimetype": "text/x-python",
   "name": "python",
   "nbconvert_exporter": "python",
   "pygments_lexer": "ipython3",
   "version": "3.9.7"
  }
 },
 "nbformat": 4,
 "nbformat_minor": 5
}
