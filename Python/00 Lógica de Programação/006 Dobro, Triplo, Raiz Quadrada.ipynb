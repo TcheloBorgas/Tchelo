{
 "cells": [
  {
   "cell_type": "code",
   "execution_count": 1,
   "id": "273f6ac0",
   "metadata": {},
   "outputs": [
    {
     "name": "stdout",
     "output_type": "stream",
     "text": [
      "━━━━━━━━━❮◆❯━━━━━━━━━\n",
      "Desafio 006\n",
      "━━━━━━━━━❮◆❯━━━━━━━━━\n",
      "\n",
      "Digite o número aqui: 9\n",
      "\n",
      "O dobro de 9.0 é 18.0 \n",
      "O triplo de 9.0 é 27.0 \n",
      "A raiz quadrada de 9.0 é 3.0 \n"
     ]
    }
   ],
   "source": [
    "print('━━━━━━━━━❮◆❯━━━━━━━━━')\n",
    "print(     'Desafio 006')\n",
    "print('━━━━━━━━━❮◆❯━━━━━━━━━')\n",
    "print('')\n",
    "\n",
    "#Crie um algoritmo que leia um número e mostre o seu dobro, triplo e raiz quadrada.\n",
    "\n",
    "num =float(input('Digite o número aqui: '))\n",
    "print('')\n",
    "\n",
    "dobro =num*2\n",
    "triplo =num *3\n",
    "raiz =num **0.5\n",
    "\n",
    "print('O dobro de {} é {} '.format(num, dobro))\n",
    "print('O triplo de {} é {} '.format(num, triplo))\n",
    "print('A raiz quadrada de {} é {} '.format(num, raiz))"
   ]
  }
 ],
 "metadata": {
  "kernelspec": {
   "display_name": "Python 3 (ipykernel)",
   "language": "python",
   "name": "python3"
  },
  "language_info": {
   "codemirror_mode": {
    "name": "ipython",
    "version": 3
   },
   "file_extension": ".py",
   "mimetype": "text/x-python",
   "name": "python",
   "nbconvert_exporter": "python",
   "pygments_lexer": "ipython3",
   "version": "3.9.7"
  }
 },
 "nbformat": 4,
 "nbformat_minor": 5
}
