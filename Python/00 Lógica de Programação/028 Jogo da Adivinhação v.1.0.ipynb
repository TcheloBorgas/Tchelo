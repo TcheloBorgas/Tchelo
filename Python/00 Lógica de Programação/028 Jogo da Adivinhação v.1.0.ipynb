{
 "cells": [
  {
   "cell_type": "code",
   "execution_count": 3,
   "id": "087c9460",
   "metadata": {},
   "outputs": [
    {
     "name": "stdout",
     "output_type": "stream",
     "text": [
      "━━━━━━━━━❮◆❯━━━━━━━━━\n",
      "Desafio 028\n",
      "━━━━━━━━━❮◆❯━━━━━━━━━\n",
      "\n",
      "Digite o número que o computador está pensando: 5\n",
      "\n",
      "Vish man, tu errou\n"
     ]
    }
   ],
   "source": [
    "print('━━━━━━━━━❮◆❯━━━━━━━━━')\n",
    "print(     'Desafio 028')\n",
    "print('━━━━━━━━━❮◆❯━━━━━━━━━')\n",
    "print('')\n",
    "\n",
    "#Escreva um programa que faça o computador \"pensar\" em um número\n",
    "#inteiro entre 0 e 5 e peça para o usuário tentar descobrir qual foi o\n",
    "#número escolhido pelo computador. O programa deverá escrever na tela se o usuário venceu ou perdeu.\n",
    "\n",
    "import random \n",
    "\n",
    "numero_pc =random.randint(0,5)\n",
    "\n",
    "num =int(input('Digite o número que o computador está pensando: '))\n",
    "print('')\n",
    "\n",
    "if num == numero_pc:\n",
    "    print('VOCÊ ACERTOU!!!')\n",
    "else:\n",
    "    print('Vish man, tu errou')"
   ]
  }
 ],
 "metadata": {
  "kernelspec": {
   "display_name": "Python 3 (ipykernel)",
   "language": "python",
   "name": "python3"
  },
  "language_info": {
   "codemirror_mode": {
    "name": "ipython",
    "version": 3
   },
   "file_extension": ".py",
   "mimetype": "text/x-python",
   "name": "python",
   "nbconvert_exporter": "python",
   "pygments_lexer": "ipython3",
   "version": "3.9.7"
  }
 },
 "nbformat": 4,
 "nbformat_minor": 5
}
