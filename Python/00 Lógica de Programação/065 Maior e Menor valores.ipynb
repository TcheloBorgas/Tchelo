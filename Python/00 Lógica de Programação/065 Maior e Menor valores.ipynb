{
 "cells": [
  {
   "cell_type": "code",
   "execution_count": 3,
   "id": "df9bfcc3",
   "metadata": {},
   "outputs": [
    {
     "name": "stdout",
     "output_type": "stream",
     "text": [
      "━━━━━━━━━❮◆❯━━━━━━━━━\n",
      "Desafio 065\n",
      "━━━━━━━━━❮◆❯━━━━━━━━━\n",
      "\n",
      "Digite um número: 5\n",
      "Deseja continuar? [S/N]: s\n",
      "Digite um número: 6\n",
      "Deseja continuar? [S/N]: S\n",
      "Digite um número: 10\n",
      "Deseja continuar? [S/N]: n\n",
      "Você digitou 3 números e a média foi de 7.0\n"
     ]
    }
   ],
   "source": [
    "print('━━━━━━━━━❮◆❯━━━━━━━━━')\n",
    "print(     'Desafio 065')\n",
    "print('━━━━━━━━━❮◆❯━━━━━━━━━')\n",
    "print('')\n",
    "\n",
    "#Crie um programa que leia vários números inteiros pelo teclado.\n",
    "#No final da execução, mostre a média entre todos os valores e qual foi o maior e\n",
    "#o menor valores lidos. O programa deve perguntar ao usuário se ele quer ou não continuar a digitar valores.\n",
    "\n",
    "resp ='s'\n",
    "soma =0\n",
    "quant =0\n",
    "media =0\n",
    "\n",
    "while resp in 's':\n",
    "    num =int(input('Digite um número: '))\n",
    "    soma +=num\n",
    "    quant +=1\n",
    "    resp =str(input('Deseja continuar? [S/N]: ')).lower().strip()\n",
    "    \n",
    "media =soma /quant\n",
    "print('Você digitou {} números e a média foi de {}'.format(quant, media))"
   ]
  }
 ],
 "metadata": {
  "kernelspec": {
   "display_name": "Python 3 (ipykernel)",
   "language": "python",
   "name": "python3"
  },
  "language_info": {
   "codemirror_mode": {
    "name": "ipython",
    "version": 3
   },
   "file_extension": ".py",
   "mimetype": "text/x-python",
   "name": "python",
   "nbconvert_exporter": "python",
   "pygments_lexer": "ipython3",
   "version": "3.9.7"
  }
 },
 "nbformat": 4,
 "nbformat_minor": 5
}
