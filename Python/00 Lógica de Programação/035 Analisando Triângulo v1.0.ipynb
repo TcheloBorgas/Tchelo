{
 "cells": [
  {
   "cell_type": "code",
   "execution_count": null,
   "id": "b2fc7f59",
   "metadata": {},
   "outputs": [],
   "source": [
    "print('━━━━━━━━━❮◆❯━━━━━━━━━')\n",
    "print(     'Desafio 035')\n",
    "print('━━━━━━━━━❮◆❯━━━━━━━━━')\n",
    "print('')\n",
    "\n",
    "#Desenvolva um programa que leia o comprimento de três retas\n",
    "#e diga ao usuário se elas podem ou não formar um triângulo.\n",
    "\n",
    "r1 =float(input('Digite o primeiro segmento: '))\n",
    "r2 =float(input('Digite o segundo segmento: '))\n",
    "r3 =float(input('Digite o terceiro segmento: '))\n",
    "print('')\n",
    "\n",
    "if r1<r2 +r3 and r2<r1 +r3 and r3 <r1+r2:\n",
    "    print('Sim, é possível fazer um triângulo')\n",
    "else:\n",
    "    print('Não irmão, da não')"
   ]
  }
 ],
 "metadata": {
  "kernelspec": {
   "display_name": "Python 3 (ipykernel)",
   "language": "python",
   "name": "python3"
  },
  "language_info": {
   "codemirror_mode": {
    "name": "ipython",
    "version": 3
   },
   "file_extension": ".py",
   "mimetype": "text/x-python",
   "name": "python",
   "nbconvert_exporter": "python",
   "pygments_lexer": "ipython3",
   "version": "3.9.7"
  }
 },
 "nbformat": 4,
 "nbformat_minor": 5
}
