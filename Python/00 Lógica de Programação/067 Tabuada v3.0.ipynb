{
 "cells": [
  {
   "cell_type": "code",
   "execution_count": 14,
   "id": "26897675",
   "metadata": {},
   "outputs": [
    {
     "name": "stdout",
     "output_type": "stream",
     "text": [
      "━━━━━━━━━❮◆❯━━━━━━━━━\n",
      "Desafio 067\n",
      "━━━━━━━━━❮◆❯━━━━━━━━━\n",
      "\n",
      "Ao digitar um número negativo, o programa irá parar\n",
      "\n",
      "Digite o número para a multiplicação: 0\n",
      "\n"
     ]
    }
   ],
   "source": [
    "print('━━━━━━━━━❮◆❯━━━━━━━━━')\n",
    "print(     'Desafio 067')\n",
    "print('━━━━━━━━━❮◆❯━━━━━━━━━')\n",
    "print('')\n",
    "\n",
    "#Faça um programa que mostre a tabuada de vários números, um de cada vez,\n",
    "#para cada valor digitado pelo usuário. O programa será interrompido quando\n",
    "#o número solicitado for negativo. \n",
    "\n",
    "multiplicacao =0\n",
    "cont =0\n",
    "\n",
    "print('Ao digitar um número negativo, o programa irá parar')\n",
    "print('')\n",
    "\n",
    "valor =float(input('Digite o número para a multiplicação: '))\n",
    "print('')\n",
    "\n",
    "while cont <11:\n",
    "    if valor <=0:\n",
    "        break\n",
    "        print('Programa encerrado')\n",
    "        \n",
    "    else: \n",
    "        multiplicacao =valor *cont\n",
    "        print('{} * {} = {}'.format(valor, cont, multiplicacao))\n",
    "        cont +=1\n",
    "    \n",
    "    \n",
    "    \n",
    "    \n",
    "    \n",
    "    \n",
    "    "
   ]
  },
  {
   "cell_type": "code",
   "execution_count": null,
   "id": "cae015f6",
   "metadata": {},
   "outputs": [],
   "source": []
  }
 ],
 "metadata": {
  "kernelspec": {
   "display_name": "Python 3 (ipykernel)",
   "language": "python",
   "name": "python3"
  },
  "language_info": {
   "codemirror_mode": {
    "name": "ipython",
    "version": 3
   },
   "file_extension": ".py",
   "mimetype": "text/x-python",
   "name": "python",
   "nbconvert_exporter": "python",
   "pygments_lexer": "ipython3",
   "version": "3.9.7"
  }
 },
 "nbformat": 4,
 "nbformat_minor": 5
}
