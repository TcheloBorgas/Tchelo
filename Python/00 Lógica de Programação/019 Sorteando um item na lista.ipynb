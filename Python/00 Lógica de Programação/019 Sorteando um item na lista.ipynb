{
 "cells": [
  {
   "cell_type": "code",
   "execution_count": 3,
   "id": "ccf71f12",
   "metadata": {},
   "outputs": [
    {
     "name": "stdout",
     "output_type": "stream",
     "text": [
      "━━━━━━━━━❮◆❯━━━━━━━━━\n",
      "Desafio 019\n",
      "━━━━━━━━━❮◆❯━━━━━━━━━\n",
      "\n",
      "Digite o nome do primeiro aluno: marcelo\n",
      "Digite o nome do segundo aluno: laura\n",
      "\n",
      "Digite o nome do terceiro aluno: gian\n",
      "Digite o nome do quarto aluno: x\n",
      "O sorteado foi gian\n"
     ]
    }
   ],
   "source": [
    "print('━━━━━━━━━❮◆❯━━━━━━━━━')\n",
    "print(     'Desafio 019')\n",
    "print('━━━━━━━━━❮◆❯━━━━━━━━━')\n",
    "print('')\n",
    "\n",
    "#Um professor quer sortear um dos seus quatro alunos para apagar o quadro.\n",
    "#Faça um programa que ajude ele, lendo o nome dos alunos e escrevendo na tela o nome do escolhido.\n",
    "\n",
    "import random \n",
    "\n",
    "num =input('Digite o nome do primeiro aluno: ')\n",
    "num2 =input('Digite o nome do segundo aluno: ')\n",
    "\n",
    "print('')\n",
    "\n",
    "num3 =input('Digite o nome do terceiro aluno: ')\n",
    "num4 =input('Digite o nome do quarto aluno: ')\n",
    "\n",
    "lista =[num, num2, num3, num4]\n",
    "\n",
    "print('O sorteado foi {}'.format(random.choice(lista)))"
   ]
  }
 ],
 "metadata": {
  "kernelspec": {
   "display_name": "Python 3 (ipykernel)",
   "language": "python",
   "name": "python3"
  },
  "language_info": {
   "codemirror_mode": {
    "name": "ipython",
    "version": 3
   },
   "file_extension": ".py",
   "mimetype": "text/x-python",
   "name": "python",
   "nbconvert_exporter": "python",
   "pygments_lexer": "ipython3",
   "version": "3.9.7"
  }
 },
 "nbformat": 4,
 "nbformat_minor": 5
}
