{
 "cells": [
  {
   "cell_type": "code",
   "execution_count": 4,
   "id": "670c30a8",
   "metadata": {},
   "outputs": [
    {
     "name": "stdout",
     "output_type": "stream",
     "text": [
      "━━━━━━━━━❮◆❯━━━━━━━━━\n",
      "Desafio 056\n",
      "━━━━━━━━━❮◆❯━━━━━━━━━\n",
      "\n",
      "━━━━━━━❮1 pessoa❯━━━━━━━\n",
      "Nome: marcelo\n",
      "Idade: 16\n",
      "Sexo [F/M]: m\n",
      "\n",
      "━━━━━━━❮2 pessoa❯━━━━━━━\n",
      "Nome: peta\n",
      "Idade: 56\n",
      "Sexo [F/M]: f\n",
      "\n",
      "━━━━━━━❮3 pessoa❯━━━━━━━\n",
      "Nome: laura\n",
      "Idade: 15\n",
      "Sexo [F/M]: f\n",
      "\n",
      "━━━━━━━❮4 pessoa❯━━━━━━━\n",
      "Nome: pedro\n",
      "Idade: 75\n",
      "Sexo [F/M]: m\n",
      "\n",
      "A média de idade do grupo é de 40.5 anos\n",
      "\n",
      "pedro é o homem mais velho e tem 75 anos\n",
      "\n",
      "Ao todo são 1 mulheres com menos de 20 anos\n"
     ]
    }
   ],
   "source": [
    "print('━━━━━━━━━❮◆❯━━━━━━━━━')\n",
    "print(     'Desafio 056')\n",
    "print('━━━━━━━━━❮◆❯━━━━━━━━━')\n",
    "print('')\n",
    "\n",
    "#Desenvolva um programa que leia o nome, idade e sexo de 4 pessoas.\n",
    "#No final do programa, mostre: a média de idade do grupo, qual é o nome do\n",
    "#homem mais velho e quantas mulheres têm menos de 20 anos.\n",
    "\n",
    "soma_idade =0\n",
    "media_idade =0\n",
    "\n",
    "maior_idade_homem =0\n",
    "\n",
    "nome_velho =''\n",
    "total_mulher_20 =0\n",
    "\n",
    "for p in range(1, 5):\n",
    "    print('━━━━━━━❮{} pessoa❯━━━━━━━'.format(p))\n",
    "    \n",
    "    nome =str(input('Nome: ')).title()\n",
    "    idade =int(input('Idade: '))\n",
    "    sexo =str(input('Sexo [F/M]: ')).strip().upper()\n",
    "    print('')\n",
    "    \n",
    "    soma_idade +=idade\n",
    "    if p==1 and sexo in 'M':\n",
    "        maior_idade_homem =idade\n",
    "        nome_velho =nome\n",
    "        \n",
    "    if sexo in 'M' and idade >maior_idade_homem:\n",
    "        maior_idade_homem =idade\n",
    "        nome_velho =nome\n",
    "        \n",
    "    if sexo in 'F' and idade<20:\n",
    "        total_mulher_20 +=1\n",
    "        \n",
    "media_idade =soma_idade /4\n",
    "\n",
    "\n",
    "\n",
    "print('A média de idade do grupo é de {} anos'.format(media_idade))\n",
    "print('')\n",
    "\n",
    "print('{} é o homem mais velho e tem {} anos'.format(nome_velho, maior_idade_homem))\n",
    "print('')\n",
    "\n",
    "print('Ao todo são {} mulheres com menos de 20 anos'.format(total_mulher_20))"
   ]
  }
 ],
 "metadata": {
  "kernelspec": {
   "display_name": "Python 3 (ipykernel)",
   "language": "python",
   "name": "python3"
  },
  "language_info": {
   "codemirror_mode": {
    "name": "ipython",
    "version": 3
   },
   "file_extension": ".py",
   "mimetype": "text/x-python",
   "name": "python",
   "nbconvert_exporter": "python",
   "pygments_lexer": "ipython3",
   "version": "3.9.7"
  }
 },
 "nbformat": 4,
 "nbformat_minor": 5
}
