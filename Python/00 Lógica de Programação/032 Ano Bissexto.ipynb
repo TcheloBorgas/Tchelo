{
 "cells": [
  {
   "cell_type": "code",
   "execution_count": 2,
   "id": "785479e4",
   "metadata": {},
   "outputs": [
    {
     "name": "stdout",
     "output_type": "stream",
     "text": [
      "━━━━━━━━━❮◆❯━━━━━━━━━\n",
      "Desafio 032\n",
      "━━━━━━━━━❮◆❯━━━━━━━━━\n",
      "\n",
      "Digite o ano que deseja analisar, caso seja o ano atual, digite 02015\n",
      "O ano 2015 não é bissexto!\n"
     ]
    }
   ],
   "source": [
    "print('━━━━━━━━━❮◆❯━━━━━━━━━')\n",
    "print(     'Desafio 032')\n",
    "print('━━━━━━━━━❮◆❯━━━━━━━━━')\n",
    "print('')\n",
    "\n",
    "#Faça um programa que leia um ano qualquer e mostre se ele é bissexto.\n",
    "\n",
    "from datetime import date\n",
    "\n",
    "ano =int(input('Digite o ano que deseja analisar, caso seja o ano atual, digite 0'))\n",
    "\n",
    "if ano ==0:\n",
    "    ano =date.today().year \n",
    "    \n",
    "if ano %4 ==0 and ano %100 !=0 or ano%400 ==0:\n",
    "    print('O ano de {} é bissexto!'.format(ano))\n",
    "    \n",
    "else:\n",
    "    print('O ano {} não é bissexto!'.format(ano))"
   ]
  }
 ],
 "metadata": {
  "kernelspec": {
   "display_name": "Python 3 (ipykernel)",
   "language": "python",
   "name": "python3"
  },
  "language_info": {
   "codemirror_mode": {
    "name": "ipython",
    "version": 3
   },
   "file_extension": ".py",
   "mimetype": "text/x-python",
   "name": "python",
   "nbconvert_exporter": "python",
   "pygments_lexer": "ipython3",
   "version": "3.9.7"
  }
 },
 "nbformat": 4,
 "nbformat_minor": 5
}
