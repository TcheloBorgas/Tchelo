{
 "cells": [
  {
   "cell_type": "code",
   "execution_count": 1,
   "id": "96c30133",
   "metadata": {},
   "outputs": [
    {
     "name": "stdout",
     "output_type": "stream",
     "text": [
      "━━━━━━━━━❮◆❯━━━━━━━━━\n",
      "Desafio 003\n",
      "━━━━━━━━━❮◆❯━━━━━━━━━\n",
      "\n",
      "Digite o primeiro número: 1\n",
      "\n",
      "Digite o segundo número: 2\n",
      "\n",
      "1.0 + 2.0 = 3.0\n"
     ]
    }
   ],
   "source": [
    "print('━━━━━━━━━❮◆❯━━━━━━━━━')\n",
    "print(     'Desafio 003')\n",
    "print('━━━━━━━━━❮◆❯━━━━━━━━━')\n",
    "print('')\n",
    "\n",
    "#Crie um programa que leia dois números e mostre a soma entre eles.\n",
    "\n",
    "num1 =float(input('Digite o primeiro número: '))\n",
    "print('')\n",
    "\n",
    "num2 =float(input('Digite o segundo número: '))\n",
    "print('')\n",
    "\n",
    "soma =num1 +num2\n",
    "\n",
    "print('{} + {} = {}'.format(num1, num2, soma))"
   ]
  }
 ],
 "metadata": {
  "kernelspec": {
   "display_name": "Python 3 (ipykernel)",
   "language": "python",
   "name": "python3"
  },
  "language_info": {
   "codemirror_mode": {
    "name": "ipython",
    "version": 3
   },
   "file_extension": ".py",
   "mimetype": "text/x-python",
   "name": "python",
   "nbconvert_exporter": "python",
   "pygments_lexer": "ipython3",
   "version": "3.9.7"
  }
 },
 "nbformat": 4,
 "nbformat_minor": 5
}
