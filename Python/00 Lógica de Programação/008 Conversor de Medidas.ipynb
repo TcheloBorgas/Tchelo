{
 "cells": [
  {
   "cell_type": "code",
   "execution_count": 3,
   "id": "3c02b81e",
   "metadata": {},
   "outputs": [
    {
     "name": "stdout",
     "output_type": "stream",
     "text": [
      "━━━━━━━━━❮◆❯━━━━━━━━━\n",
      "Desafio 008\n",
      "━━━━━━━━━❮◆❯━━━━━━━━━\n",
      "\n",
      "Digite a medida em metros: 1.78\n",
      "\n",
      "1.78m =178.0cm\n",
      "1.78m =178000.0cm\n"
     ]
    }
   ],
   "source": [
    "print('━━━━━━━━━❮◆❯━━━━━━━━━')\n",
    "print(     'Desafio 008')\n",
    "print('━━━━━━━━━❮◆❯━━━━━━━━━')\n",
    "print('')\n",
    "\n",
    "#Escreva um programa que leia um valor em metros e o exiba convertido em centímetros e milímetros.\n",
    "\n",
    "metros =float(input('Digite a medida em metros: '))\n",
    "print('')\n",
    "\n",
    "cm =metros *100\n",
    "mm =metros *100000\n",
    "\n",
    "print('{}m ={}cm'.format(metros, cm))\n",
    "print('{}m ={}cm'.format(metros, mm))"
   ]
  }
 ],
 "metadata": {
  "kernelspec": {
   "display_name": "Python 3 (ipykernel)",
   "language": "python",
   "name": "python3"
  },
  "language_info": {
   "codemirror_mode": {
    "name": "ipython",
    "version": 3
   },
   "file_extension": ".py",
   "mimetype": "text/x-python",
   "name": "python",
   "nbconvert_exporter": "python",
   "pygments_lexer": "ipython3",
   "version": "3.9.7"
  }
 },
 "nbformat": 4,
 "nbformat_minor": 5
}
