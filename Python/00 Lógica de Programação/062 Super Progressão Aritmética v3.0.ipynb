{
 "cells": [
  {
   "cell_type": "code",
   "execution_count": 6,
   "id": "be4738aa",
   "metadata": {},
   "outputs": [
    {
     "name": "stdout",
     "output_type": "stream",
     "text": [
      "━━━━━━━━━❮◆❯━━━━━━━━━\n",
      "Desafio 062\n",
      "━━━━━━━━━❮◆❯━━━━━━━━━\n",
      "\n",
      "◈ ━━━━━━━━ ⸙ ━━━━━━━━ ◈\n",
      "     Gerador de PA\n",
      "◈ ━━━━━━━━ ⸙ ━━━━━━━━ ◈\n",
      "\n",
      "Número: 5\n",
      "Razão: 5\n",
      "5 =>◈ ━━━━━━━━ ⸙ ━━━━━━━━ ◈\n",
      "Quantos termos você quer mais? 0\n",
      "Progressão finalizada com 1 termos mostrados\n"
     ]
    }
   ],
   "source": [
    "print('━━━━━━━━━❮◆❯━━━━━━━━━')\n",
    "print(     'Desafio 062')\n",
    "print('━━━━━━━━━❮◆❯━━━━━━━━━')\n",
    "print('')\n",
    "\n",
    "#Melhore o DESAFIO 061, perguntando para o usuário se ele quer\n",
    "#mostrar mais alguns termos. O programa encerrará quando ele disser que quer mostrar 0 termos.\n",
    "\n",
    "print('◈ ━━━━━━━━ ⸙ ━━━━━━━━ ◈')\n",
    "print('     Gerador de PA')\n",
    "print('◈ ━━━━━━━━ ⸙ ━━━━━━━━ ◈')\n",
    "print('')\n",
    "\n",
    "primeiro =int(input('Número: '))\n",
    "razao =int(input('Razão: '))\n",
    "termo =primeiro\n",
    "cont=1\n",
    "total =0\n",
    "mais =1\n",
    "\n",
    "while mais!=0:\n",
    "    total=total+ mais\n",
    "\n",
    "    while cont<=total:\n",
    "        print('{} =>'.format(termo), end='')\n",
    "        termo += razao\n",
    "        cont +=1\n",
    "        print('◈ ━━━━━━━━ ⸙ ━━━━━━━━ ◈')\n",
    "        mais =int(input('Quantos termos você quer mais? '))\n",
    "print('Progressão finalizada com {} termos mostrados'.format(total))"
   ]
  },
  {
   "cell_type": "code",
   "execution_count": null,
   "id": "64b4fef6",
   "metadata": {},
   "outputs": [],
   "source": []
  }
 ],
 "metadata": {
  "kernelspec": {
   "display_name": "Python 3 (ipykernel)",
   "language": "python",
   "name": "python3"
  },
  "language_info": {
   "codemirror_mode": {
    "name": "ipython",
    "version": 3
   },
   "file_extension": ".py",
   "mimetype": "text/x-python",
   "name": "python",
   "nbconvert_exporter": "python",
   "pygments_lexer": "ipython3",
   "version": "3.9.7"
  }
 },
 "nbformat": 4,
 "nbformat_minor": 5
}
