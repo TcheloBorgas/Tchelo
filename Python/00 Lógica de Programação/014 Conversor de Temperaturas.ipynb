{
 "cells": [
  {
   "cell_type": "code",
   "execution_count": 1,
   "id": "e745a37a",
   "metadata": {},
   "outputs": [
    {
     "name": "stdout",
     "output_type": "stream",
     "text": [
      "━━━━━━━━━❮◆❯━━━━━━━━━\n",
      "Desafio 014\n",
      "━━━━━━━━━❮◆❯━━━━━━━━━\n",
      "\n",
      "Digite a temperatura em graus celsius: 0\n",
      "\n",
      "A temperatura em fahrenheit fica 32.0º\n"
     ]
    }
   ],
   "source": [
    "print('━━━━━━━━━❮◆❯━━━━━━━━━')\n",
    "print(     'Desafio 014')\n",
    "print('━━━━━━━━━❮◆❯━━━━━━━━━')\n",
    "print('')\n",
    "\n",
    "#Escreva um programa que converta uma temperatura digitando em graus Celsius e converta para graus Fahrenheit.\n",
    "\n",
    "temperatura =float(input('Digite a temperatura em graus celsius: '))\n",
    "print('')\n",
    "\n",
    "fahr =(temperatura* 9/5) + 32\n",
    "\n",
    "print('A temperatura em fahrenheit fica {}°'.format(fahr))"
   ]
  }
 ],
 "metadata": {
  "kernelspec": {
   "display_name": "Python 3 (ipykernel)",
   "language": "python",
   "name": "python3"
  },
  "language_info": {
   "codemirror_mode": {
    "name": "ipython",
    "version": 3
   },
   "file_extension": ".py",
   "mimetype": "text/x-python",
   "name": "python",
   "nbconvert_exporter": "python",
   "pygments_lexer": "ipython3",
   "version": "3.9.7"
  }
 },
 "nbformat": 4,
 "nbformat_minor": 5
}
