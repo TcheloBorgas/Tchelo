{
 "cells": [
  {
   "cell_type": "code",
   "execution_count": 2,
   "id": "7579d5d3",
   "metadata": {},
   "outputs": [
    {
     "name": "stdout",
     "output_type": "stream",
     "text": [
      "━━━━━━━━━❮◆❯━━━━━━━━━\n",
      "Desafio 069\n",
      "━━━━━━━━━❮◆❯━━━━━━━━━\n",
      "\n",
      "Idade: 15\n",
      "Sexo [F/M]: f\n",
      "\n",
      "Você deseja continuar? [S/N]: n\n",
      "Temos 0 homens, 0 pessoas maiores de 18 anos e 1 mulheres com menos de 20 anos\n"
     ]
    }
   ],
   "source": [
    "print('━━━━━━━━━❮◆❯━━━━━━━━━')\n",
    "print(     'Desafio 069')\n",
    "print('━━━━━━━━━❮◆❯━━━━━━━━━')\n",
    "print('')\n",
    "\n",
    "#Crie um programa que leia a idade e o sexo de várias pessoas.\n",
    "#A cada pessoa cadastrada, o programa deverá perguntar\n",
    "#se o usuário quer ou não continuar. No final, mostre:\n",
    "#A) quantas pessoas tem mais de 18 anos.\n",
    "#B) quantos homens foram cadastrados.\n",
    "#C) quantas mulheres tem menos de 20 anos.\n",
    "\n",
    "\n",
    "maiores_idade =0\n",
    "homens =0\n",
    "mulheres_menos_20 =0\n",
    "\n",
    "while True:\n",
    "    idade =int(input('Idade: '))\n",
    "    sexo = str(input('Sexo [F/M]: ')).strip().upper()\n",
    "    print('')\n",
    "    \n",
    "    if idade >18:\n",
    "        maiores_idade +=1\n",
    "    \n",
    "    if sexo =='M':\n",
    "        homens +=1\n",
    "    \n",
    "    if sexo =='F' and idade <20:\n",
    "        mulheres_menos_20 +=1\n",
    "        \n",
    "    continuar =str(input('Você deseja continuar? [S/N]: ')).strip().upper()\n",
    "    if continuar =='N':\n",
    "        break\n",
    "    else:\n",
    "        pass\n",
    "        \n",
    "print('Temos {} homens, {} pessoas maiores de 18 anos e {} mulheres com menos de 20 anos'.format(homens, maiores_idade,\n",
    "                                                                                                 mulheres_menos_20))"
   ]
  },
  {
   "cell_type": "code",
   "execution_count": null,
   "id": "1413d4dc",
   "metadata": {},
   "outputs": [],
   "source": []
  }
 ],
 "metadata": {
  "kernelspec": {
   "display_name": "Python 3 (ipykernel)",
   "language": "python",
   "name": "python3"
  },
  "language_info": {
   "codemirror_mode": {
    "name": "ipython",
    "version": 3
   },
   "file_extension": ".py",
   "mimetype": "text/x-python",
   "name": "python",
   "nbconvert_exporter": "python",
   "pygments_lexer": "ipython3",
   "version": "3.9.7"
  }
 },
 "nbformat": 4,
 "nbformat_minor": 5
}
