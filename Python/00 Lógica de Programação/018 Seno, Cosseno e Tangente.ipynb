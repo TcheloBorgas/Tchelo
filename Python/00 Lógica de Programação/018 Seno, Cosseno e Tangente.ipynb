{
 "cells": [
  {
   "cell_type": "code",
   "execution_count": 3,
   "id": "0e626d3f",
   "metadata": {},
   "outputs": [
    {
     "name": "stdout",
     "output_type": "stream",
     "text": [
      "━━━━━━━━━❮◆❯━━━━━━━━━\n",
      "Desafio 018\n",
      "━━━━━━━━━❮◆❯━━━━━━━━━\n",
      "\n",
      "Digite o ângulo: 30\n",
      "\n",
      "Seno = 0.50\n",
      "Cosseno = 0.87\n",
      "Tangente = 0.58\n"
     ]
    }
   ],
   "source": [
    "print('━━━━━━━━━❮◆❯━━━━━━━━━')\n",
    "print(     'Desafio 018')\n",
    "print('━━━━━━━━━❮◆❯━━━━━━━━━')\n",
    "print('')\n",
    "\n",
    "#Faça um programa que leia um ângulo qualquer e mostre na tela o valor do seno, cosseno e tangente desse ângulo.\n",
    "\n",
    "import math\n",
    "angulo =float(input('Digite o ângulo: '))\n",
    "print('')\n",
    "\n",
    "sen =math.sin(math.radians(angulo))\n",
    "cos =math.cos(math.radians(angulo))\n",
    "tan =math.tan(math.radians(angulo))\n",
    "\n",
    "print('Seno = {:.2f}'.format(sen))\n",
    "print('Cosseno = {:.2f}'.format(cos))\n",
    "print('Tangente = {:.2f}'.format(tan))\n"
   ]
  }
 ],
 "metadata": {
  "kernelspec": {
   "display_name": "Python 3 (ipykernel)",
   "language": "python",
   "name": "python3"
  },
  "language_info": {
   "codemirror_mode": {
    "name": "ipython",
    "version": 3
   },
   "file_extension": ".py",
   "mimetype": "text/x-python",
   "name": "python",
   "nbconvert_exporter": "python",
   "pygments_lexer": "ipython3",
   "version": "3.9.7"
  }
 },
 "nbformat": 4,
 "nbformat_minor": 5
}
