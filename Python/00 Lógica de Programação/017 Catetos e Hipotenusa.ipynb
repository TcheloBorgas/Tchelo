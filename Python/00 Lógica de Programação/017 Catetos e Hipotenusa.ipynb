{
 "cells": [
  {
   "cell_type": "code",
   "execution_count": 2,
   "id": "6fcb5c27",
   "metadata": {},
   "outputs": [
    {
     "name": "stdout",
     "output_type": "stream",
     "text": [
      "━━━━━━━━━❮◆❯━━━━━━━━━\n",
      "Desafio 017\n",
      "━━━━━━━━━❮◆❯━━━━━━━━━\n",
      "\n",
      "Digite o tamanho do cateto oposto: 3.5\n",
      "Digite o tamanho do cateto adjacente: 4.75\n",
      "\n",
      "O valor da hipotenusa é de 5.90\n"
     ]
    }
   ],
   "source": [
    "print('━━━━━━━━━❮◆❯━━━━━━━━━')\n",
    "print(     'Desafio 017')\n",
    "print('━━━━━━━━━❮◆❯━━━━━━━━━')\n",
    "print('')\n",
    "\n",
    "#Faça um programa que leia o comprimento do cateto oposto e\n",
    "#do cateto adjacente de um triângulo retângulo. Calcule e mostre o comprimento da hipotenusa.\n",
    "\n",
    "cat =float(input('Digite o tamanho do cateto oposto: '))\n",
    "cat2 =float(input('Digite o tamanho do cateto adjacente: '))\n",
    "print('')\n",
    "\n",
    "hipo =(cat **2 + cat2 **2)**0.5\n",
    "\n",
    "print('O valor da hipotenusa é de {:.2f}'.format(hipo))\n"
   ]
  }
 ],
 "metadata": {
  "kernelspec": {
   "display_name": "Python 3 (ipykernel)",
   "language": "python",
   "name": "python3"
  },
  "language_info": {
   "codemirror_mode": {
    "name": "ipython",
    "version": 3
   },
   "file_extension": ".py",
   "mimetype": "text/x-python",
   "name": "python",
   "nbconvert_exporter": "python",
   "pygments_lexer": "ipython3",
   "version": "3.9.7"
  }
 },
 "nbformat": 4,
 "nbformat_minor": 5
}
