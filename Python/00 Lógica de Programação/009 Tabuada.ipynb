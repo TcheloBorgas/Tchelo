{
 "cells": [
  {
   "cell_type": "code",
   "execution_count": 1,
   "id": "e69c108a",
   "metadata": {},
   "outputs": [
    {
     "name": "stdout",
     "output_type": "stream",
     "text": [
      "━━━━━━━━━❮◆❯━━━━━━━━━\n",
      "Desafio 009\n",
      "━━━━━━━━━❮◆❯━━━━━━━━━\n",
      "\n",
      "Digite o número: 1\n",
      "\n",
      "1.0 * 1 = 1.0\n",
      "1.0 * 2 = 2.0\n",
      "\n",
      "1.0 * 3 = 3.0\n",
      "1.0 * 4 = 4.0\n",
      "\n",
      "1.0 * 5 = 5.0\n",
      "1.0 * 6 = 6.0\n",
      "\n",
      "1.0 * 7 = 7.0\n",
      "1.0 * 8 = 8.0\n",
      "\n",
      "1.0 * 9 = 9.0\n",
      "1.0 * 10 = 10.0\n"
     ]
    }
   ],
   "source": [
    "print('━━━━━━━━━❮◆❯━━━━━━━━━')\n",
    "print(     'Desafio 009')\n",
    "print('━━━━━━━━━❮◆❯━━━━━━━━━')\n",
    "print('')\n",
    "\n",
    "#Faça um programa que leia um número Inteiro qualquer e mostre na tela a sua tabuada.\n",
    "\n",
    "num =float(input('Digite o número: '))\n",
    "print('')\n",
    "\n",
    "print('{} * 1 = {}'.format(num, num*1))\n",
    "print('{} * 2 = {}'.format(num, num*2))\n",
    "print('')\n",
    "\n",
    "print('{} * 3 = {}'.format(num, num*3))\n",
    "print('{} * 4 = {}'.format(num, num*4))\n",
    "print('')\n",
    "\n",
    "print('{} * 5 = {}'.format(num, num*5))\n",
    "print('{} * 6 = {}'.format(num, num*6))\n",
    "print('')\n",
    "\n",
    "print('{} * 7 = {}'.format(num, num*7))\n",
    "print('{} * 8 = {}'.format(num, num*8))\n",
    "print('')\n",
    "\n",
    "print('{} * 9 = {}'.format(num, num*9))\n",
    "print('{} * 10 = {}'.format(num, num*10))"
   ]
  }
 ],
 "metadata": {
  "kernelspec": {
   "display_name": "Python 3 (ipykernel)",
   "language": "python",
   "name": "python3"
  },
  "language_info": {
   "codemirror_mode": {
    "name": "ipython",
    "version": 3
   },
   "file_extension": ".py",
   "mimetype": "text/x-python",
   "name": "python",
   "nbconvert_exporter": "python",
   "pygments_lexer": "ipython3",
   "version": "3.9.7"
  }
 },
 "nbformat": 4,
 "nbformat_minor": 5
}
