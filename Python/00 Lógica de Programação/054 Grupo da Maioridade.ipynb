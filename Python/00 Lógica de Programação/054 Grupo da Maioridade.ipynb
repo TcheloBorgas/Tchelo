{
 "cells": [
  {
   "cell_type": "code",
   "execution_count": 4,
   "id": "9d7c5519",
   "metadata": {},
   "outputs": [
    {
     "name": "stdout",
     "output_type": "stream",
     "text": [
      "━━━━━━━━━❮◆❯━━━━━━━━━\n",
      "Desafio 054\n",
      "━━━━━━━━━❮◆❯━━━━━━━━━\n",
      "\n",
      "Em que ano você nasceu? 2005\n",
      "\n",
      "Em que ano você nasceu? 2006\n",
      "\n",
      "Em que ano você nasceu? 2012\n",
      "\n",
      "Em que ano você nasceu? 2020\n",
      "\n",
      "Em que ano você nasceu? 1998\n",
      "\n",
      "Em que ano você nasceu? 2000\n",
      "\n",
      "Em que ano você nasceu? 2004\n",
      "\n",
      "Menor de idade\n",
      "[17, 16, 10, 2]\n",
      "\n",
      "Maior de idade\n",
      "[24, 22, 18]\n"
     ]
    }
   ],
   "source": [
    "print('━━━━━━━━━❮◆❯━━━━━━━━━')\n",
    "print(     'Desafio 054')\n",
    "print('━━━━━━━━━❮◆❯━━━━━━━━━')\n",
    "print('')\n",
    "\n",
    "#Crie um programa que leia o ano de nascimento de sete pessoas.\n",
    "#No final, mostre quantas pessoas ainda não atingiram a maioridade e quantas já são maiores.\n",
    "\n",
    "from datetime import date\n",
    "\n",
    "atual =date.today().year\n",
    "maior_idade =[]\n",
    "menor_idade =[]\n",
    "\n",
    "\n",
    "for a in range(0,7):\n",
    "    ano =int(input('Em que ano você nasceu? '))\n",
    "    print('')\n",
    "    idade =atual -ano\n",
    "    \n",
    "    if idade <18:\n",
    "        menor_idade.append(idade)\n",
    "    else:\n",
    "        maior_idade.append(idade)\n",
    "        \n",
    "        \n",
    "print('')\n",
    "print('')\n",
    "print('')\n",
    "\n",
    "print('Menor de idade')\n",
    "print(menor_idade)\n",
    "\n",
    "print('')\n",
    "\n",
    "print('Maior de idade')\n",
    "print(maior_idade)\n"
   ]
  }
 ],
 "metadata": {
  "kernelspec": {
   "display_name": "Python 3 (ipykernel)",
   "language": "python",
   "name": "python3"
  },
  "language_info": {
   "codemirror_mode": {
    "name": "ipython",
    "version": 3
   },
   "file_extension": ".py",
   "mimetype": "text/x-python",
   "name": "python",
   "nbconvert_exporter": "python",
   "pygments_lexer": "ipython3",
   "version": "3.9.7"
  }
 },
 "nbformat": 4,
 "nbformat_minor": 5
}
