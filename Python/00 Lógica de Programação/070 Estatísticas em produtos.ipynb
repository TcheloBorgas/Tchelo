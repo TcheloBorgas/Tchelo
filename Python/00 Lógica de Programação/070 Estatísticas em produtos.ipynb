{
 "cells": [
  {
   "cell_type": "code",
   "execution_count": 4,
   "id": "91f43cc4",
   "metadata": {},
   "outputs": [
    {
     "name": "stdout",
     "output_type": "stream",
     "text": [
      "━━━━━━━━━❮◆❯━━━━━━━━━\n",
      "Desafio 070\n",
      "━━━━━━━━━❮◆❯━━━━━━━━━\n",
      "\n",
      "◈ ━━━━━━━━ ⸙ ━━━━━━━━ ◈\n",
      "       Loja MHBLS\n",
      "◈ ━━━━━━━━ ⸙ ━━━━━━━━ ◈\n",
      "\n",
      "Nome do produto: lapiseira\n",
      "Preço do produto: R$1000\n",
      "\n",
      "Você deseja continuar? [S/N]: s\n",
      "\n",
      "Nome do produto: carro\n",
      "Preço do produto: R$502\n",
      "\n",
      "Você deseja continuar? [S/N]: s\n",
      "\n",
      "Nome do produto: mesa\n",
      "Preço do produto: R$15\n",
      "\n",
      "Você deseja continuar? [S/N]: n\n",
      "\n",
      "O total gasto foi de 1517.00\n",
      "Temos 0 produtos custando mais de R$1000.00\n"
     ]
    }
   ],
   "source": [
    "print('━━━━━━━━━❮◆❯━━━━━━━━━')\n",
    "print(     'Desafio 070')\n",
    "print('━━━━━━━━━❮◆❯━━━━━━━━━')\n",
    "print('')\n",
    "\n",
    "#Crie um programa que leia o nome e o preço de vários produtos. \n",
    "#O programa deverá perguntar se o usuário vai continuar ou não. No final, mostre:\n",
    "#A) qual é o total gasto na compra.\n",
    "#B) quantos produtos custam mais de R$1000.\n",
    "#C) qual é o nome do produto mais barato. \n",
    "\n",
    "print('◈ ━━━━━━━━ ⸙ ━━━━━━━━ ◈')\n",
    "print('       Loja MHBLS')\n",
    "print('◈ ━━━━━━━━ ⸙ ━━━━━━━━ ◈')\n",
    "print('')\n",
    "\n",
    "total =0\n",
    "totmil =0\n",
    "menor =0\n",
    "cont =0\n",
    "\n",
    "while True:\n",
    "    produto =str(input('Nome do produto: '))\n",
    "    preco = float(input('Preço do produto: R$'))\n",
    "    print('')\n",
    "    cont +=1\n",
    "    total+=preco\n",
    "    \n",
    "    if preco >1000:\n",
    "        totmil +=1\n",
    "        \n",
    "    if cont ==1:\n",
    "        menor =preco\n",
    "    escolha =' '\n",
    "    \n",
    "    while escolha not in 'SN':\n",
    "        escolha =str(input('Você deseja continuar? [S/N]: ')).strip().upper()\n",
    "        print('')\n",
    "    \n",
    "    if escolha =='N':\n",
    "        break       \n",
    "\n",
    "print(f'O total gasto foi de {total:.2f}')\n",
    "print('Temos {} produtos custando mais de R$1000.00'.format(totmil))\n",
    "    "
   ]
  }
 ],
 "metadata": {
  "kernelspec": {
   "display_name": "Python 3 (ipykernel)",
   "language": "python",
   "name": "python3"
  },
  "language_info": {
   "codemirror_mode": {
    "name": "ipython",
    "version": 3
   },
   "file_extension": ".py",
   "mimetype": "text/x-python",
   "name": "python",
   "nbconvert_exporter": "python",
   "pygments_lexer": "ipython3",
   "version": "3.9.7"
  }
 },
 "nbformat": 4,
 "nbformat_minor": 5
}
