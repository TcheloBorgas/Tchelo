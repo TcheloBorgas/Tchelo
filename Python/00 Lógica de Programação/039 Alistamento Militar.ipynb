{
 "cells": [
  {
   "cell_type": "code",
   "execution_count": 10,
   "id": "033e819e",
   "metadata": {},
   "outputs": [
    {
     "name": "stdout",
     "output_type": "stream",
     "text": [
      "━━━━━━━━━❮◆❯━━━━━━━━━\n",
      "Desafio 039\n",
      "━━━━━━━━━❮◆❯━━━━━━━━━\n",
      "\n",
      "Digite o ano do seu nascimento: 2004\n",
      "Está na hora de se alistar!!\n"
     ]
    }
   ],
   "source": [
    "print('━━━━━━━━━❮◆❯━━━━━━━━━')\n",
    "print(     'Desafio 039')\n",
    "print('━━━━━━━━━❮◆❯━━━━━━━━━')\n",
    "print('')\n",
    "\n",
    "#Faça um programa que leia o ano de nascimento de um jovem e informe,\n",
    "#de acordo com a sua idade, se ele ainda vai se alistar ao serviço militar,\n",
    "#se é a hora exata de se alistar ou se já passou do tempo do alistamento.\n",
    "#Seu programa também deverá mostrar o tempo que falta ou que passou do prazo.\n",
    "\n",
    "from datetime import date\n",
    "\n",
    "\n",
    "nasc =int(input('Digite o ano do seu nascimento: '))\n",
    "atual =date.today().year\n",
    "idade = atual -nasc\n",
    "\n",
    "if idade ==18:\n",
    "    print('Está na hora de se alistar!!')\n",
    "    \n",
    "elif idade <18:\n",
    "    saldo =18 -idade\n",
    "    \n",
    "    print('Ainda faltam {} anos para se alistar!'.format(saldo))\n",
    "    print('Você se alistará em {}'.format(atual+saldo))\n",
    "    \n",
    "else:\n",
    "    print('Você ja deveria ter se alistado!')\n",
    "    "
   ]
  }
 ],
 "metadata": {
  "kernelspec": {
   "display_name": "Python 3 (ipykernel)",
   "language": "python",
   "name": "python3"
  },
  "language_info": {
   "codemirror_mode": {
    "name": "ipython",
    "version": 3
   },
   "file_extension": ".py",
   "mimetype": "text/x-python",
   "name": "python",
   "nbconvert_exporter": "python",
   "pygments_lexer": "ipython3",
   "version": "3.9.7"
  }
 },
 "nbformat": 4,
 "nbformat_minor": 5
}
