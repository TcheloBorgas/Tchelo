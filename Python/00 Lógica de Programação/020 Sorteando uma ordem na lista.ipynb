{
 "cells": [
  {
   "cell_type": "code",
   "execution_count": 2,
   "id": "6edcb1a0",
   "metadata": {},
   "outputs": [
    {
     "name": "stdout",
     "output_type": "stream",
     "text": [
      "━━━━━━━━━❮◆❯━━━━━━━━━\n",
      "Desafio 020\n",
      "━━━━━━━━━❮◆❯━━━━━━━━━\n",
      "\n",
      "Digite o nome do primeiro aluno: marcelo\n",
      "Digite o nome do segundo aluno: gian\n",
      "\n",
      "Digite o nome do terceiro aluno: paulo\n",
      "Digite o nome do quarto aluno: laura\n",
      "A ordem será:\n",
      "['paulo', 'laura', 'marcelo', 'gian']\n"
     ]
    }
   ],
   "source": [
    "print('━━━━━━━━━❮◆❯━━━━━━━━━')\n",
    "print(     'Desafio 020')\n",
    "print('━━━━━━━━━❮◆❯━━━━━━━━━')\n",
    "print('')\n",
    "\n",
    "#O mesmo professor do desafio 019 quer sortear a ordem de apresentação\n",
    "#e trabalhos dos alunos. Faça um programa que leia o nome dos quatro alunos e mostre a ordem sorteada.\n",
    "\n",
    "import random\n",
    "\n",
    "num =input('Digite o nome do primeiro aluno: ')\n",
    "num2 =input('Digite o nome do segundo aluno: ')\n",
    "\n",
    "print('')\n",
    "\n",
    "num3 =input('Digite o nome do terceiro aluno: ')\n",
    "num4 =input('Digite o nome do quarto aluno: ')\n",
    "\n",
    "lista =[num, num2, num3, num4]\n",
    "\n",
    "sorteio =random.shuffle(lista)\n",
    "\n",
    "print('A ordem será:')\n",
    "print(lista)"
   ]
  }
 ],
 "metadata": {
  "kernelspec": {
   "display_name": "Python 3 (ipykernel)",
   "language": "python",
   "name": "python3"
  },
  "language_info": {
   "codemirror_mode": {
    "name": "ipython",
    "version": 3
   },
   "file_extension": ".py",
   "mimetype": "text/x-python",
   "name": "python",
   "nbconvert_exporter": "python",
   "pygments_lexer": "ipython3",
   "version": "3.9.7"
  }
 },
 "nbformat": 4,
 "nbformat_minor": 5
}
