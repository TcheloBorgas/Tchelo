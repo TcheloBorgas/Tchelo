{
 "cells": [
  {
   "cell_type": "code",
   "execution_count": 2,
   "id": "e4f625f2",
   "metadata": {},
   "outputs": [
    {
     "name": "stdout",
     "output_type": "stream",
     "text": [
      "━━━━━━━━━❮◆❯━━━━━━━━━\n",
      "Desafio 058\n",
      "━━━━━━━━━❮◆❯━━━━━━━━━\n",
      "\n",
      "Digite o número que o computador está pensando: 5\n",
      "\n",
      "Digite o número que o computador está pensando: 4\n",
      "\n",
      "Um pouco menos\n",
      "Digite o número que o computador está pensando: 3\n",
      "\n",
      "Um pouco menos\n",
      "Digite o número que o computador está pensando: 1\n",
      "\n",
      "Mais um pouco\n",
      "Digite o número que o computador está pensando: 2\n",
      "\n",
      "Acertou com 4 palpites\n"
     ]
    }
   ],
   "source": [
    "print('━━━━━━━━━❮◆❯━━━━━━━━━')\n",
    "print(     'Desafio 058')\n",
    "print('━━━━━━━━━❮◆❯━━━━━━━━━')\n",
    "print('')\n",
    "\n",
    "#Melhore o jogo do DESAFIO 028 onde o computador vai \"pensar\"\n",
    "#em um número entre 0 e 10. Só que agora o jogador vai tentar adivinhar até acertar,\n",
    "#mostrando no final quantos palpites foram necessários para vencer.\n",
    "\n",
    "import random \n",
    "numero_pc =random.randint(0,5)\n",
    "\n",
    "num =int(input('Digite o número que o computador está pensando: '))\n",
    "print('')\n",
    "\n",
    "acertou = False\n",
    "palpites =0\n",
    "\n",
    "while not acertou:\n",
    "    num =int(input('Digite o número que o computador está pensando: '))\n",
    "    print('')\n",
    "    \n",
    "    palpites+=1\n",
    "    if num ==numero_pc:\n",
    "        acertou =True\n",
    "    else:\n",
    "        if num <numero_pc:\n",
    "            print('Mais um pouco')\n",
    "            \n",
    "        elif num > numero_pc:\n",
    "            print('Um pouco menos')\n",
    "            \n",
    "print('Acertou com {} palpites'.format(palpites))"
   ]
  }
 ],
 "metadata": {
  "kernelspec": {
   "display_name": "Python 3 (ipykernel)",
   "language": "python",
   "name": "python3"
  },
  "language_info": {
   "codemirror_mode": {
    "name": "ipython",
    "version": 3
   },
   "file_extension": ".py",
   "mimetype": "text/x-python",
   "name": "python",
   "nbconvert_exporter": "python",
   "pygments_lexer": "ipython3",
   "version": "3.9.7"
  }
 },
 "nbformat": 4,
 "nbformat_minor": 5
}
