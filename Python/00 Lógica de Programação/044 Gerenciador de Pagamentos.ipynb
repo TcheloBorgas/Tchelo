{
 "cells": [
  {
   "cell_type": "code",
   "execution_count": 2,
   "id": "967eaf43",
   "metadata": {},
   "outputs": [
    {
     "name": "stdout",
     "output_type": "stream",
     "text": [
      "━━━━━━━━━❮◆❯━━━━━━━━━\n",
      "Desafio 044\n",
      "━━━━━━━━━❮◆❯━━━━━━━━━\n",
      "\n",
      "Digite o preço do produto: 10\n",
      "\n",
      "\n",
      "1 à vista dinheiro/cheque: 10% de desconto\n",
      "2 à vista no cartão: 5% de desconto\n",
      "3 em até 2x no cartão: preço formal\n",
      "4 3x ou mais no cartão: 20% de juros\n",
      "\n",
      "Digite aqui: 1\n",
      "\n",
      "O preço com desconto fica R$9.00\n"
     ]
    }
   ],
   "source": [
    "print('━━━━━━━━━❮◆❯━━━━━━━━━')\n",
    "print(     'Desafio 044')\n",
    "print('━━━━━━━━━❮◆❯━━━━━━━━━')\n",
    "print('')\n",
    "\n",
    "#Elabore um programa que calcule o valor a ser pago por um produto,\n",
    "#considerando o seu preço normal e condição de pagamento:\n",
    "#- à vista dinheiro/cheque: 10% de desconto\n",
    "#- à vista no cartão: 5% de desconto\n",
    "#- em até 2x no cartão: preço formal\n",
    "#- 3x ou mais no cartão: 20% de juros\n",
    "\n",
    "preco =float(input('Digite o preço do produto: '))\n",
    "print('')\n",
    "\n",
    "\n",
    "print('''\n",
    "1 à vista dinheiro/cheque: 10% de desconto\n",
    "2 à vista no cartão: 5% de desconto\n",
    "3 em até 2x no cartão: preço formal\n",
    "4 3x ou mais no cartão: 20% de juros\n",
    "''')\n",
    "\n",
    "escolha =int(input('Digite aqui: '))\n",
    "print('')\n",
    "\n",
    "\n",
    "if escolha ==1:\n",
    "    preco2 = preco -preco*10 /100\n",
    "    print('O preço com desconto fica R${:.2f}'.format(preco2))\n",
    "    \n",
    "elif escolha ==2:\n",
    "    preco2 =preco -preco*5 /100\n",
    "    print('O preço com desconto fica R${:.2f}'.format(preco2))\n",
    "    \n",
    "elif escolha ==3:\n",
    "    print('Sem alteração no preço')\n",
    "    \n",
    "elif escolha ==4:\n",
    "    preco2=preco +(preco*20) /100\n",
    "    print('O preço com juros fica {:.2f}'.format(preco2))"
   ]
  }
 ],
 "metadata": {
  "kernelspec": {
   "display_name": "Python 3 (ipykernel)",
   "language": "python",
   "name": "python3"
  },
  "language_info": {
   "codemirror_mode": {
    "name": "ipython",
    "version": 3
   },
   "file_extension": ".py",
   "mimetype": "text/x-python",
   "name": "python",
   "nbconvert_exporter": "python",
   "pygments_lexer": "ipython3",
   "version": "3.9.7"
  }
 },
 "nbformat": 4,
 "nbformat_minor": 5
}
