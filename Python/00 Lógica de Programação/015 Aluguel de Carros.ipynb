{
 "cells": [
  {
   "cell_type": "code",
   "execution_count": 1,
   "id": "24ad805e",
   "metadata": {},
   "outputs": [
    {
     "name": "stdout",
     "output_type": "stream",
     "text": [
      "━━━━━━━━━❮◆❯━━━━━━━━━\n",
      "Desafio 015\n",
      "━━━━━━━━━❮◆❯━━━━━━━━━\n",
      "\n",
      "Por quantos dias o carro foi alugado: 8\n",
      "Quantos kms rodados: 720\n",
      "\n",
      "O preço do carro será 588.0\n"
     ]
    }
   ],
   "source": [
    "print('━━━━━━━━━❮◆❯━━━━━━━━━')\n",
    "print(     'Desafio 015')\n",
    "print('━━━━━━━━━❮◆❯━━━━━━━━━')\n",
    "print('')\n",
    "\n",
    "#Escreva um programa que pergunte a quantidade de Km percorridos por um\n",
    "#carro alugado e a quantidade de dias pelos quais ele foi alugado. Calcule o preço a pagar,\n",
    "#sabendo que o carro custa R$60 por dia e R$0,15 por Km rodado.\n",
    "\n",
    "dias =int(input('Por quantos dias o carro foi alugado: '))\n",
    "km =float(input('Quantos kms rodados: '))\n",
    "print('')\n",
    "\n",
    "preco =dias *60 + km*0.15\n",
    "\n",
    "print('O preço do carro será {}'.format(preco))"
   ]
  }
 ],
 "metadata": {
  "kernelspec": {
   "display_name": "Python 3 (ipykernel)",
   "language": "python",
   "name": "python3"
  },
  "language_info": {
   "codemirror_mode": {
    "name": "ipython",
    "version": 3
   },
   "file_extension": ".py",
   "mimetype": "text/x-python",
   "name": "python",
   "nbconvert_exporter": "python",
   "pygments_lexer": "ipython3",
   "version": "3.9.7"
  }
 },
 "nbformat": 4,
 "nbformat_minor": 5
}
