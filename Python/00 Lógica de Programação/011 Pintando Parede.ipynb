{
 "cells": [
  {
   "cell_type": "code",
   "execution_count": null,
   "id": "c6e3332c",
   "metadata": {},
   "outputs": [
    {
     "name": "stdout",
     "output_type": "stream",
     "text": [
      "━━━━━━━━━❮◆❯━━━━━━━━━\n",
      "Desafio 011\n",
      "━━━━━━━━━❮◆❯━━━━━━━━━\n",
      "\n"
     ]
    }
   ],
   "source": [
    "print('━━━━━━━━━❮◆❯━━━━━━━━━')\n",
    "print(     'Desafio 011')\n",
    "print('━━━━━━━━━❮◆❯━━━━━━━━━')\n",
    "print('')\n",
    "\n",
    "#Faça um programa que leia a largura e a altura de uma parede em metros,\n",
    "#calcule a sua área e a quantidade de tinta necessária para pintá-la,\n",
    "#sabendo que cada litro de tinta pinta uma área de 2 metros quadrados.\n",
    "\n",
    "\n",
    "largura =float(input('Digite a largura da parede: '))\n",
    "altura =float(input('Digite a altura da parede: '))\n",
    "print('')\n",
    "\n",
    "litros =largura *altura\n",
    "\n",
    "print('Precisaremos de {} litros de tinta por metro quadrado'.format(litros))"
   ]
  }
 ],
 "metadata": {
  "kernelspec": {
   "display_name": "Python 3 (ipykernel)",
   "language": "python",
   "name": "python3"
  },
  "language_info": {
   "codemirror_mode": {
    "name": "ipython",
    "version": 3
   },
   "file_extension": ".py",
   "mimetype": "text/x-python",
   "name": "python",
   "nbconvert_exporter": "python",
   "pygments_lexer": "ipython3",
   "version": "3.9.7"
  }
 },
 "nbformat": 4,
 "nbformat_minor": 5
}
