{
 "cells": [
  {
   "cell_type": "code",
   "execution_count": 5,
   "id": "a8af82f9",
   "metadata": {},
   "outputs": [
    {
     "name": "stdout",
     "output_type": "stream",
     "text": [
      "━━━━━━━━━❮◆❯━━━━━━━━━\n",
      "Desafio 026\n",
      "━━━━━━━━━❮◆❯━━━━━━━━━\n",
      "\n",
      "Digite uma frase: arara azul\n",
      "a frase contem 4 a(s)\n",
      "\n",
      "Ele apareceu primeiro na posição 1\n",
      "Ele apareceu por ultimo na posição 7\n"
     ]
    }
   ],
   "source": [
    "print('━━━━━━━━━❮◆❯━━━━━━━━━')\n",
    "print(     'Desafio 026')\n",
    "print('━━━━━━━━━❮◆❯━━━━━━━━━')\n",
    "print('')\n",
    "\n",
    "#Faça um programa que leia uma frase pelo teclado e mostre quantas vezes aparece a letra \"A\",\n",
    "#em que posição ela aparece a primeira vez e em que posição ela aparece a última vez.\n",
    "\n",
    "frase =str(input('Digite uma frase: ')).strip().lower()\n",
    "\n",
    "print('a frase contem {} a(s)'.format(frase.count('a')))\n",
    "print('')\n",
    "\n",
    "print('Ele apareceu primeiro na posição {}'.format(frase.find('a')+1 ))\n",
    "print('Ele apareceu por ultimo na posição {}'.format(frase.rfind('a')+1 ))"
   ]
  }
 ],
 "metadata": {
  "kernelspec": {
   "display_name": "Python 3 (ipykernel)",
   "language": "python",
   "name": "python3"
  },
  "language_info": {
   "codemirror_mode": {
    "name": "ipython",
    "version": 3
   },
   "file_extension": ".py",
   "mimetype": "text/x-python",
   "name": "python",
   "nbconvert_exporter": "python",
   "pygments_lexer": "ipython3",
   "version": "3.9.7"
  }
 },
 "nbformat": 4,
 "nbformat_minor": 5
}
