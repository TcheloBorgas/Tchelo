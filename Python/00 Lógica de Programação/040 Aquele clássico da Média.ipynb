{
 "cells": [
  {
   "cell_type": "code",
   "execution_count": 5,
   "id": "1425e9bd",
   "metadata": {},
   "outputs": [
    {
     "name": "stdout",
     "output_type": "stream",
     "text": [
      "━━━━━━━━━❮◆❯━━━━━━━━━\n",
      "Desafio 040\n",
      "━━━━━━━━━❮◆❯━━━━━━━━━\n",
      "\n",
      "Digite a primeira nota: 5\n",
      "Digite a segunda nota: 5\n",
      "\n",
      "SE FUDEU REPROVADO\n"
     ]
    }
   ],
   "source": [
    "print('━━━━━━━━━❮◆❯━━━━━━━━━')\n",
    "print(     'Desafio 040')\n",
    "print('━━━━━━━━━❮◆❯━━━━━━━━━')\n",
    "print('')\n",
    "\n",
    "\n",
    "#Crie um programa que leia duas notas de um aluno e calcule sua média,\n",
    "#mostrando uma mensagem no final, de acordo com a média atingida:\n",
    "#- Média abaixo de 5.0: REPROVADO\n",
    "#- Média entre 5.0 e 6.9: RECUPERAÇÃO\n",
    "#3- Média 7.0 ou superior: APROVADO\n",
    "\n",
    "nota =float(input('Digite a primeira nota: '))\n",
    "nota2 =float(input('Digite a segunda nota: '))\n",
    "print('')\n",
    "\n",
    "media =(nota +nota2) /2\n",
    "\n",
    "if media <=5:\n",
    "    print('SE FUDEU REPROVADO')\n",
    "\n",
    "elif media >5 and media <6.9:\n",
    "    print('Ta de recuperação men')\n",
    "    \n",
    "else:\n",
    "    print('Boa carai, passou direto')"
   ]
  }
 ],
 "metadata": {
  "kernelspec": {
   "display_name": "Python 3 (ipykernel)",
   "language": "python",
   "name": "python3"
  },
  "language_info": {
   "codemirror_mode": {
    "name": "ipython",
    "version": 3
   },
   "file_extension": ".py",
   "mimetype": "text/x-python",
   "name": "python",
   "nbconvert_exporter": "python",
   "pygments_lexer": "ipython3",
   "version": "3.9.7"
  }
 },
 "nbformat": 4,
 "nbformat_minor": 5
}
