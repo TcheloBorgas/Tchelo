{
 "cells": [
  {
   "cell_type": "code",
   "execution_count": 4,
   "id": "297720f2",
   "metadata": {},
   "outputs": [
    {
     "name": "stdout",
     "output_type": "stream",
     "text": [
      "━━━━━━━━━❮◆❯━━━━━━━━━\n",
      "Desafio 064\n",
      "━━━━━━━━━❮◆❯━━━━━━━━━\n",
      "\n",
      "Digite um número [999 para parar]: 5\n",
      "Digite um número [999 para parar]: 5\n",
      "Digite um número [999 para parar]: 5\n",
      "Digite um número [999 para parar]: 5\n",
      "Digite um número [999 para parar]: 999\n",
      "você digitou 5 numeros\n",
      "A soma de todos esses números é igual a 20\n"
     ]
    }
   ],
   "source": [
    "print('━━━━━━━━━❮◆❯━━━━━━━━━')\n",
    "print(     'Desafio 064')\n",
    "print('━━━━━━━━━❮◆❯━━━━━━━━━')\n",
    "print('')\n",
    "\n",
    "#Crie um programa que leia vários números inteiros pelo teclado.\n",
    "#O programa só vai parar quando o usuário digitar o valor 999, que é a condição de parada.\n",
    "#No final, mostre quantos números foram digitados e qual foi a soma entre eles (desconsiderando o flag).\n",
    "\n",
    "num =0\n",
    "soma =0\n",
    "cont =0\n",
    "\n",
    "while num !=999:\n",
    "    num =int(input('Digite um número [999 para parar]: '))\n",
    "    if num !=999:\n",
    "        soma +=num\n",
    "    \n",
    "    \n",
    "    cont +=1\n",
    "    \n",
    "    \n",
    "print('você digitou {} numeros'.format(cont))\n",
    "print('A soma de todos esses números é igual a {}'.format(soma))\n",
    "    "
   ]
  }
 ],
 "metadata": {
  "kernelspec": {
   "display_name": "Python 3 (ipykernel)",
   "language": "python",
   "name": "python3"
  },
  "language_info": {
   "codemirror_mode": {
    "name": "ipython",
    "version": 3
   },
   "file_extension": ".py",
   "mimetype": "text/x-python",
   "name": "python",
   "nbconvert_exporter": "python",
   "pygments_lexer": "ipython3",
   "version": "3.9.7"
  }
 },
 "nbformat": 4,
 "nbformat_minor": 5
}
