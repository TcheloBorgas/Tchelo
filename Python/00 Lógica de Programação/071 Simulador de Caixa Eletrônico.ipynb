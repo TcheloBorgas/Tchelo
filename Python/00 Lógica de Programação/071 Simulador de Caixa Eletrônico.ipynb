{
 "cells": [
  {
   "cell_type": "code",
   "execution_count": 4,
   "id": "5c76ecee",
   "metadata": {},
   "outputs": [
    {
     "name": "stdout",
     "output_type": "stream",
     "text": [
      "━━━━━━━━━❮◆❯━━━━━━━━━\n",
      "Desafio 071\n",
      "━━━━━━━━━❮◆❯━━━━━━━━━\n",
      "\n",
      "◈ ━━━━━━━━ ⸙ ━━━━━━━━ ◈\n",
      "       Banco MHBLS\n",
      "◈ ━━━━━━━━ ⸙ ━━━━━━━━ ◈\n",
      "\n",
      "Quanto você deseja sacar? 120\n",
      "\n",
      "Total de 2 cédulas de R$50\n",
      "Total de 1 cédulas de R$20\n",
      "Volte sempre ao Banco MHBLS! tenha um bom dia\n"
     ]
    }
   ],
   "source": [
    "print('━━━━━━━━━❮◆❯━━━━━━━━━')\n",
    "print(     'Desafio 071')\n",
    "print('━━━━━━━━━❮◆❯━━━━━━━━━')\n",
    "print('')\n",
    "\n",
    "#Crie um programa que simule o funcionamento de um caixa eletrônico.\n",
    "#No início, pergunte ao usuário qual será o valor a ser sacado (número inteiro) e o\n",
    "#programa vai informar quantas cédulas de cada valor serão entregues.\n",
    "#OBS: considere que o caixa possui cédulas de R$50, R$20, R$10 e R$1.\n",
    "\n",
    "print('◈ ━━━━━━━━ ⸙ ━━━━━━━━ ◈')\n",
    "print('       Banco MHBLS')\n",
    "print('◈ ━━━━━━━━ ⸙ ━━━━━━━━ ◈')\n",
    "print('')\n",
    "\n",
    "valor =int(input('Quanto você deseja sacar? '))\n",
    "print('')\n",
    "\n",
    "total =valor\n",
    "ced =50\n",
    "totced =0\n",
    "while True:\n",
    "    if total >=ced:\n",
    "        total -=ced\n",
    "        totced +=1\n",
    "    else:\n",
    "        if totced >0:\n",
    "            print(f'Total de {totced} cédulas de R${ced}')\n",
    "        if ced ==50:\n",
    "            ced =20\n",
    "        elif ced ==20:\n",
    "            ced =10\n",
    "        elif ced ==10:\n",
    "            ced =1\n",
    "        totced =0\n",
    "        if total ==0:\n",
    "            break\n",
    "            \n",
    "print('Volte sempre ao Banco MHBLS! tenha um bom dia')"
   ]
  }
 ],
 "metadata": {
  "kernelspec": {
   "display_name": "Python 3 (ipykernel)",
   "language": "python",
   "name": "python3"
  },
  "language_info": {
   "codemirror_mode": {
    "name": "ipython",
    "version": 3
   },
   "file_extension": ".py",
   "mimetype": "text/x-python",
   "name": "python",
   "nbconvert_exporter": "python",
   "pygments_lexer": "ipython3",
   "version": "3.9.7"
  }
 },
 "nbformat": 4,
 "nbformat_minor": 5
}
