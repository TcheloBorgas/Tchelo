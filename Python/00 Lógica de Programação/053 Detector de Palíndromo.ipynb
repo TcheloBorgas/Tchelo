{
 "cells": [
  {
   "cell_type": "code",
   "execution_count": 4,
   "id": "bd2b571e",
   "metadata": {},
   "outputs": [
    {
     "name": "stdout",
     "output_type": "stream",
     "text": [
      "━━━━━━━━━❮◆❯━━━━━━━━━\n",
      "Desafio 053\n",
      "━━━━━━━━━❮◆❯━━━━━━━━━\n",
      "\n",
      "Digite uma frase: marcelo\n",
      "marcelo |olecram  => não é um palíndromo\n"
     ]
    }
   ],
   "source": [
    "print('━━━━━━━━━❮◆❯━━━━━━━━━')\n",
    "print(     'Desafio 053')\n",
    "print('━━━━━━━━━❮◆❯━━━━━━━━━')\n",
    "print('')\n",
    "\n",
    "#Crie um programa que leia uma frase qualquer e diga se ela é um palíndromo, desconsiderando os espaços.\n",
    "\n",
    "frase =str(input('Digite uma frase: ')).strip().lower()\n",
    "palavras =frase.split()\n",
    "\n",
    "junto =''.join(palavras)\n",
    "inverso =''\n",
    "\n",
    "for letra in  range(len(junto)-1, -1, -1):\n",
    "    inverso +=junto[letra]\n",
    "    \n",
    "if inverso ==junto:\n",
    "    print('{} |{}  => é um palíndromo'.format(junto, inverso))\n",
    "else:\n",
    "    print('{} |{}  => não é um palíndromo'.format(junto, inverso))\n"
   ]
  }
 ],
 "metadata": {
  "kernelspec": {
   "display_name": "Python 3 (ipykernel)",
   "language": "python",
   "name": "python3"
  },
  "language_info": {
   "codemirror_mode": {
    "name": "ipython",
    "version": 3
   },
   "file_extension": ".py",
   "mimetype": "text/x-python",
   "name": "python",
   "nbconvert_exporter": "python",
   "pygments_lexer": "ipython3",
   "version": "3.9.7"
  }
 },
 "nbformat": 4,
 "nbformat_minor": 5
}
