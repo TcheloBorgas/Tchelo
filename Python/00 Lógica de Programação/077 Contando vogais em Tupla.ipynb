{
 "cells": [
  {
   "cell_type": "code",
   "execution_count": 3,
   "id": "716f12d6",
   "metadata": {},
   "outputs": [
    {
     "name": "stdout",
     "output_type": "stream",
     "text": [
      "━━━━━━━━━❮◆❯━━━━━━━━━\n",
      "Desafio 077\n",
      "━━━━━━━━━❮◆❯━━━━━━━━━\n",
      "\n",
      "\n",
      "Na palavra COMPRA temos o a \n",
      "Na palavra VENDA temos e a \n",
      "Na palavra INTENSIVO temos I e i o \n",
      "Na palavra VOGAL temos o a \n",
      "Na palavra PROGRAMA temos o a a \n",
      "Na palavra MULHER temos u e "
     ]
    }
   ],
   "source": [
    "print('━━━━━━━━━❮◆❯━━━━━━━━━')\n",
    "print(     'Desafio 077')\n",
    "print('━━━━━━━━━❮◆❯━━━━━━━━━')\n",
    "print('')\n",
    "\n",
    "#Crie um programa que tenha uma tupla com várias palavras\n",
    "#(não usar acentos). Depois disso, você deve mostrar,\n",
    "#para cada palavra, quais são as suas vogais.\n",
    "\n",
    "palavras =('Compra',\n",
    "          'Venda',\n",
    "          'Intensivo',\n",
    "          'Vogal',\n",
    "          'Programa',\n",
    "          'Mulher')\n",
    "\n",
    "for p in palavras:\n",
    "    print('\\nNa palavra {} temos '.format(p.upper()),end = '')\n",
    "    for letra in p:\n",
    "        if letra.lower() in 'aáãeéêiíoóõuú':\n",
    "            print(letra,end = ' ')"
   ]
  }
 ],
 "metadata": {
  "kernelspec": {
   "display_name": "Python 3 (ipykernel)",
   "language": "python",
   "name": "python3"
  },
  "language_info": {
   "codemirror_mode": {
    "name": "ipython",
    "version": 3
   },
   "file_extension": ".py",
   "mimetype": "text/x-python",
   "name": "python",
   "nbconvert_exporter": "python",
   "pygments_lexer": "ipython3",
   "version": "3.9.7"
  }
 },
 "nbformat": 4,
 "nbformat_minor": 5
}
