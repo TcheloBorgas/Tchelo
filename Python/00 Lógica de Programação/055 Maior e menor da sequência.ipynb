{
 "cells": [
  {
   "cell_type": "code",
   "execution_count": 8,
   "id": "cbbdc2b3",
   "metadata": {},
   "outputs": [
    {
     "name": "stdout",
     "output_type": "stream",
     "text": [
      "━━━━━━━━━❮◆❯━━━━━━━━━\n",
      "Desafio 055\n",
      "━━━━━━━━━❮◆❯━━━━━━━━━\n",
      "\n",
      "Peso da 1 pessoa80\n",
      "Peso da 2 pessoa65.5\n",
      "Peso da 3 pessoa45.9\n",
      "Peso da 4 pessoa55\n",
      "Peso da 5 pessoa110.5\n",
      "O maior peso lido foi de 110.5Kg\n",
      "O menor peso lido foi de 45.9Kg\n"
     ]
    }
   ],
   "source": [
    "print('━━━━━━━━━❮◆❯━━━━━━━━━')\n",
    "print(     'Desafio 055')\n",
    "print('━━━━━━━━━❮◆❯━━━━━━━━━')\n",
    "print('')\n",
    "\n",
    "#Faça um programa que leia o peso de cinco pessoas. No final, mostre qual foi o maior e o menor peso lidos.\n",
    "\n",
    "maior =0\n",
    "menor =0\n",
    "\n",
    "for p in range(1,6):\n",
    "    peso =float(input('Peso da {} pessoa'.format(p)))\n",
    "    if p ==1:\n",
    "        maior =peso\n",
    "        menor =peso\n",
    "        \n",
    "    else:\n",
    "        if peso>maior:\n",
    "            maior =peso\n",
    "        if peso <menor:\n",
    "            menor=peso\n",
    "            \n",
    "print('O maior peso lido foi de {}Kg'.format(maior))\n",
    "print('O menor peso lido foi de {}Kg'.format(menor))"
   ]
  }
 ],
 "metadata": {
  "kernelspec": {
   "display_name": "Python 3 (ipykernel)",
   "language": "python",
   "name": "python3"
  },
  "language_info": {
   "codemirror_mode": {
    "name": "ipython",
    "version": 3
   },
   "file_extension": ".py",
   "mimetype": "text/x-python",
   "name": "python",
   "nbconvert_exporter": "python",
   "pygments_lexer": "ipython3",
   "version": "3.9.7"
  }
 },
 "nbformat": 4,
 "nbformat_minor": 5
}
