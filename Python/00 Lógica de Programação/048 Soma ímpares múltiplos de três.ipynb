{
 "cells": [
  {
   "cell_type": "code",
   "execution_count": 10,
   "id": "7789450e",
   "metadata": {},
   "outputs": [
    {
     "name": "stdout",
     "output_type": "stream",
     "text": [
      "━━━━━━━━━❮◆❯━━━━━━━━━\n",
      "Desafio 048\n",
      "━━━━━━━━━❮◆❯━━━━━━━━━\n",
      "\n",
      "A soma dos 83 valores é 20667\n"
     ]
    }
   ],
   "source": [
    "print('━━━━━━━━━❮◆❯━━━━━━━━━')\n",
    "print(     'Desafio 048')\n",
    "print('━━━━━━━━━❮◆❯━━━━━━━━━')\n",
    "print('')\n",
    "\n",
    "#Faça um programa que calcule a soma entre todos\n",
    "#os números que são múltiplos de três e que se encontram no intervalo de 1 até 500.\n",
    "\n",
    "soma =0\n",
    "cont =0\n",
    "\n",
    "for num in range(1, 501, 2):\n",
    "    if num %3 ==0:\n",
    "        soma =soma +num\n",
    "        cont =cont +1\n",
    "print('A soma dos {} valores é {}'.format(cont, soma))\n"
   ]
  }
 ],
 "metadata": {
  "kernelspec": {
   "display_name": "Python 3 (ipykernel)",
   "language": "python",
   "name": "python3"
  },
  "language_info": {
   "codemirror_mode": {
    "name": "ipython",
    "version": 3
   },
   "file_extension": ".py",
   "mimetype": "text/x-python",
   "name": "python",
   "nbconvert_exporter": "python",
   "pygments_lexer": "ipython3",
   "version": "3.9.7"
  }
 },
 "nbformat": 4,
 "nbformat_minor": 5
}
