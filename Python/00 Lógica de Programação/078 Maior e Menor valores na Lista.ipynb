{
 "cells": [
  {
   "cell_type": "code",
   "execution_count": 1,
   "id": "dbb174da",
   "metadata": {},
   "outputs": [
    {
     "name": "stdout",
     "output_type": "stream",
     "text": [
      "━━━━━━━━━❮◆❯━━━━━━━━━\n",
      "Desafio 078\n",
      "━━━━━━━━━❮◆❯━━━━━━━━━\n",
      "\n",
      "Digite um número: 5\n",
      "\n",
      "Digite um número: 4\n",
      "\n",
      "Digite um número: 2\n",
      "\n",
      "Digite um número: 10\n",
      "\n",
      "Digite um número: 9\n",
      "\n",
      "O maior número foi 10.0\n",
      "O menor número foi 2.0\n"
     ]
    }
   ],
   "source": [
    "print('━━━━━━━━━❮◆❯━━━━━━━━━')\n",
    "print(     'Desafio 078')\n",
    "print('━━━━━━━━━❮◆❯━━━━━━━━━')\n",
    "print('')\n",
    "\n",
    "#Faça um programa que leia 5 valores numéricos e guarde-os em uma lista.\n",
    "#No final, mostre qual foi o maior e o menor valor digitado e as suas respectivas posições na lista.\n",
    "\n",
    "lista =[]\n",
    "for i in range(5):\n",
    "    num =float(input('Digite um número: '))\n",
    "    print('')\n",
    "    lista.append(num)\n",
    "    \n",
    "print('O maior número foi {}'.format(max(lista)))\n",
    "print('O menor número foi {}'.format(min(lista)))"
   ]
  }
 ],
 "metadata": {
  "kernelspec": {
   "display_name": "Python 3 (ipykernel)",
   "language": "python",
   "name": "python3"
  },
  "language_info": {
   "codemirror_mode": {
    "name": "ipython",
    "version": 3
   },
   "file_extension": ".py",
   "mimetype": "text/x-python",
   "name": "python",
   "nbconvert_exporter": "python",
   "pygments_lexer": "ipython3",
   "version": "3.9.7"
  }
 },
 "nbformat": 4,
 "nbformat_minor": 5
}
