{
 "cells": [
  {
   "cell_type": "code",
   "execution_count": 13,
   "id": "9672622d",
   "metadata": {},
   "outputs": [
    {
     "name": "stdout",
     "output_type": "stream",
     "text": [
      "━━━━━━━━━❮◆❯━━━━━━━━━\n",
      "Desafio 079\n",
      "━━━━━━━━━❮◆❯━━━━━━━━━\n",
      "\n",
      "OS números em ordem decrescente foram None\n",
      "Digite um número: 10\n",
      "\n",
      "Deseja continuar? [S/N]: s\n",
      "\n",
      "Digite um número: 5\n",
      "\n",
      "Deseja continuar? [S/N]: s\n",
      "\n",
      "Digite um número: 6\n",
      "\n",
      "Deseja continuar? [S/N]: s\n",
      "\n",
      "Digite um número: 9\n",
      "\n",
      "Deseja continuar? [S/N]: s\n",
      "\n",
      "Digite um número: 10\n",
      "\n",
      "Deseja continuar? [S/N]: n\n",
      "\n",
      "os números em ordem crescente é [5.0, 6.0, 9.0, 10.0]\n"
     ]
    }
   ],
   "source": [
    "print('━━━━━━━━━❮◆❯━━━━━━━━━')\n",
    "print(     'Desafio 079')\n",
    "print('━━━━━━━━━❮◆❯━━━━━━━━━')\n",
    "print('')\n",
    "\n",
    "#Crie um programa onde o usuário possa digitar vários\n",
    "#valores numéricos e cadastre-os em uma lista. Caso o número\n",
    "#já exista lá dentro, ele não será adicionado. No final, serão\n",
    "#exibidos todos os valores únicos digitados, em ordem crescente. \n",
    "\n",
    "lista =[]\n",
    "\n",
    "print('OS números em ordem decrescente foram {}'.format(lista.sort()))\n",
    "\n",
    "while True:\n",
    "    num =float(input('Digite um número: '))\n",
    "    print('')\n",
    "    \n",
    "    if num in lista:\n",
    "        pass\n",
    "\n",
    "    else:\n",
    "        lista.append(num)\n",
    "            \n",
    "    escolha =str(input('Deseja continuar? [S/N]: ')).lower()\n",
    "    print('')\n",
    "    \n",
    "    if escolha =='s':\n",
    "        pass\n",
    "    else:\n",
    "        break\n",
    "        \n",
    "print('os números em ordem crescente é {}'.format(sorted(lista)))    "
   ]
  },
  {
   "cell_type": "code",
   "execution_count": null,
   "id": "dfb6caa5",
   "metadata": {},
   "outputs": [],
   "source": []
  }
 ],
 "metadata": {
  "kernelspec": {
   "display_name": "Python 3 (ipykernel)",
   "language": "python",
   "name": "python3"
  },
  "language_info": {
   "codemirror_mode": {
    "name": "ipython",
    "version": 3
   },
   "file_extension": ".py",
   "mimetype": "text/x-python",
   "name": "python",
   "nbconvert_exporter": "python",
   "pygments_lexer": "ipython3",
   "version": "3.9.7"
  }
 },
 "nbformat": 4,
 "nbformat_minor": 5
}
